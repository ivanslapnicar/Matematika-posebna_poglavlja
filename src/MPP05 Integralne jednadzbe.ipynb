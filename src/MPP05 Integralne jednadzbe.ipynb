{
 "cells": [
  {
   "cell_type": "markdown",
   "metadata": {},
   "source": [
    "# Integralne jednadžbe\n",
    "\n",
    "---\n",
    "\n",
    "Integralne jednadžbe su povezane s diferencijalnim jednadžbama. \n",
    "\n",
    "__Fredholmova jednadžba__ glasi\n",
    "\n",
    "$$\n",
    "\\int\\limits_a^b k(x,y)u(y)dy+\\alpha(x)u(x)=f(x), \\quad x\\in[a,b].\n",
    "$$\n",
    "\n",
    "__Volterra-ina jednadžba__ glasi\n",
    "\n",
    "$$\n",
    "\\int\\limits_a^x k(x,y)u(y)dy+\\alpha(x)u(x)=f(x), \\quad x\\in[a,b].\n",
    "$$\n",
    "\n",
    "Zadatak je naći funkciju $u$ koja zadovoljava jednadžbu.\n",
    "\n",
    "Funkcija $k$ je __jezgra__. \n",
    "\n",
    "Ako je $k(x,y)=k(y,x)$, jezgra je __simetrična__. \n",
    "\n",
    "Ako je $f=0$, jednadžba je __homogena__.\n",
    "\n",
    "Ako je $\\alpha=0$, jednadžba je __prve vrste__, a inače je __druge vrste__."
   ]
  },
  {
   "cell_type": "markdown",
   "metadata": {},
   "source": [
    "Definirajmo __integralne operatore__:\n",
    "\n",
    "__Fredholmov__: $Ku(x)=\\int\\limits_a^bk(x,y)u(y)dy$,\n",
    "\n",
    "__Volerra-in__: $Ku(x)=\\int\\limits_a^x k(x,y)u(y)dy$.\n",
    "\n",
    "Operatori su linearni.\n",
    "\n",
    "U oba slučaja integralne jednadžbe možemo zapisati kao\n",
    "\n",
    "$$\n",
    "Ku+\\alpha u=f\n",
    "$$\n",
    "\n",
    "pa rješenje možemo tražiti i pomoću rješenje problema svojstvenih vrijednosti\n",
    "\n",
    "$$\n",
    "Ku=\\lambda u.\n",
    "$$"
   ]
  },
  {
   "cell_type": "markdown",
   "metadata": {},
   "source": [
    "__Skalarni produkt__ je\n",
    "\n",
    "$$\n",
    "(u,v)=\\int\\limits_a^b u(x)\\cdot \\overline{v(x)} dx.\n",
    "$$\n",
    "\n",
    "Skalarni produkt je linearan i vrijedi:\n",
    "\n",
    "* $(u,v)=\\overline{(v,u)}$,\n",
    "* $\\|u\\|=\\sqrt{(u,u)}=\\left(\\int\\limits_a^b \\big| u(x)\\big|^2dx\\right)^{1/2}$,\n",
    "* $(u,u)=0 \\Leftrightarrow u=0$,\n",
    "* ako je $(u,v)=0$, funkcije $u$ i $v$ su __ortogonalne__."
   ]
  },
  {
   "cell_type": "markdown",
   "metadata": {},
   "source": [
    "## Kontrola inventara\n",
    "\n",
    "Početna količina robe je $a$. Neka je $k(t)$ postotak robe koje nije prodana u trenutku $t$ nakon nabave.\n",
    "\n",
    "Po kojoj stopi $u(t)$ treba naručivati robu ako želimo imati konstantnu zalihu?\n",
    "\n",
    "Promotrimo vremenski interval $[\\tau,\\tau+\\Delta \\tau]$. Smatramo da su vrijednosti konstantne unutar kratkog intervala.\n",
    "Ukupna količina nabavljene robe u tom intervalu je $u(\\tau)\\Delta \\tau$.\n",
    "\n",
    "Količina robe koja nije prodana u trenutku $t\\in[\\tau,\\tau+\\Delta \\tau]$ je\n",
    "\n",
    "$$\n",
    "k(t-\\tau)u(\\tau)\\Delta \\tau.\n",
    "$$\n",
    "\n",
    "Dakle, ukupna količina robe koja nije prodana u trenutku $t$ je zbroj dijela početne količine robe koji nije prodan u tenutku $t$ i neprodanog dijela robe koja je naručena do trenutka $t$:\n",
    "\n",
    "$$\n",
    "ak(t)+\\int\\limits_0^t k(t-\\tau)u(\\tau)d\\tau.\n",
    "$$\n",
    "\n",
    "Uvjet da je inventar konstantan daje Volterra-inu jednadžbu\n",
    "\n",
    "$$\n",
    "ak(t)+\\int\\limits_0^t k(t-\\tau)u(\\tau)d\\tau=a.\n",
    "$$\n",
    "\n",
    "Laplaceova transformacija i teorem o konvoluciji daju\n",
    "\n",
    "$$\n",
    "a\\mathcal{L}(k) +\\mathcal{L}(k) \\cdot \\mathcal{L}(u) =\\frac{a}{s}\n",
    "$$\n",
    "\n",
    "pa je \n",
    "\n",
    "$$\n",
    "\\mathcal{L}(u)=\\bigg(\\frac{a}{s}-a\\mathcal{L}(k)\\bigg) \\frac{1}{\\mathcal{L}(k)}=\n",
    "a \\bigg(\\frac{1}{s \\mathcal{L}(k)}-1\\bigg).\n",
    "$$\n",
    "\n",
    "Konačno,\n",
    "\n",
    "$$\n",
    "u(t)=a\\mathcal{L}^{-1} \\bigg(\\frac{1}{s \\mathcal{L}(k)} \\bigg) -a\\delta(t).\n",
    "$$\n",
    "\n",
    "(Koristili smo $\\mathcal{L}^{-1}(1)=\\delta(t)$.)"
   ]
  },
  {
   "cell_type": "markdown",
   "metadata": {},
   "source": [
    "## Konvolucija\n",
    "\n",
    "Riješimo jednadžbu\n",
    "\n",
    "$$\n",
    "u(x)=x-\\int\\limits_0^x (x-y) u(y) dy.\n",
    "$$\n",
    "\n",
    "Laplaceova transformacija jednadžbe i teorem o konvoluciji daju\n",
    "\n",
    "$$\n",
    "\\mathcal{L}(u)= \\mathcal{L}(x)-\\mathcal{L}(x)\\cdot \\mathcal{L}(u)=\n",
    "\\frac{1}{s^2}-\\frac{1}{s^2}\\mathcal{L}(u)\n",
    "$$\n",
    "\n",
    "odnosno\n",
    "\n",
    "$$\n",
    "\\mathcal{L}(u) \\bigg(1+\\frac{1}{s^2}\\bigg)=\\frac{1}{s^2}.\n",
    "$$\n",
    "\n",
    "Dakle,\n",
    "\n",
    "$$\n",
    "\\mathcal{L}(u)=\\frac{1}{s^2}\\cdot \\frac{s^2}{1+s^2}=\\frac{1}{1+s^2}\n",
    "$$\n",
    "\n",
    "pa je \n",
    "\n",
    "$$\n",
    "u(x)=\\mathcal{L}^{-1} \\bigg(\\frac{1}{1+s^2}\\bigg) =\\sin x.\n",
    "$$"
   ]
  },
  {
   "cell_type": "code",
   "execution_count": 1,
   "metadata": {},
   "outputs": [],
   "source": [
    "using SymPy"
   ]
  },
  {
   "cell_type": "code",
   "execution_count": 2,
   "metadata": {},
   "outputs": [
    {
     "data": {
      "text/plain": [
       "(x, y)"
      ]
     },
     "execution_count": 2,
     "metadata": {},
     "output_type": "execute_result"
    }
   ],
   "source": [
    "x,y=symbols(\"x,y\", real=true)"
   ]
  },
  {
   "cell_type": "code",
   "execution_count": 3,
   "metadata": {},
   "outputs": [
    {
     "data": {
      "text/latex": [
       "\\begin{equation*}x - \\sin{\\left(x \\right)}\\end{equation*}"
      ],
      "text/plain": [
       "x - sin(x)"
      ]
     },
     "execution_count": 3,
     "metadata": {},
     "output_type": "execute_result"
    }
   ],
   "source": [
    "# Provjera\n",
    "integrate((x-y)*sin(y),(y,0,x))"
   ]
  },
  {
   "cell_type": "markdown",
   "metadata": {},
   "source": [
    "## Prebacivanje DJ u IJ\n",
    "\n",
    "Promotrimo problem početnih vrijednosti\n",
    "\n",
    "$$\n",
    "u'=f(x,u), \\quad u(x_0)=u_0.\n",
    "$$\n",
    "\n",
    "Ako je $u$ rješenje, onda (uz zamjenu varijabli) vrijedi\n",
    "\n",
    "$$\n",
    "u'(y)=f(y,u(y)), \\quad \\forall y.\n",
    "$$\n",
    "\n",
    "Integriranje od $x_0$ do $x$ daje\n",
    "\n",
    "$$\n",
    "\\int\\limits_{x_0}^x u'(y) dy =\\int\\limits_{x_0}^x f(y,u(y)) dy.\n",
    "$$\n",
    "\n",
    "Dakle, $u(x)$ je rješenje Volterra-ine jednadžbe\n",
    "\n",
    "$$\n",
    "u(x)=u(x_0)+\\int\\limits_{x_0}^x f(y,u(y)) dy.\n",
    "$$"
   ]
  },
  {
   "cell_type": "markdown",
   "metadata": {},
   "source": [
    "## Prebacivanje IJ u DJ\n",
    "\n",
    "Neka je zadana integralna jednadžba\n",
    "\n",
    "$$\n",
    "u(x)=u_0+\\int\\limits_{x_0}^x f(y,u(y)) dy.\n",
    "$$\n",
    "\n",
    "Uvrštavanje $x=x_0$ daje početni uvijet $u(x_0)=u_0$.\n",
    "\n",
    "__Leibnitzova fomula__ glasi: ako je \n",
    "\n",
    "$$\n",
    "I(\\alpha)=\\int\\limits_{\\phi(\\alpha)}^{\\psi(\\alpha)} f(x,\\alpha) dx.\n",
    "$$\n",
    "\n",
    "onda je\n",
    "\n",
    "$$\n",
    "I'(\\alpha)=\\int\\limits_{\\phi(\\alpha)}^{\\psi(\\alpha)} f_\\alpha(x,\\alpha) dx +f(\\psi(\\alpha),\\alpha)\\frac{d\\psi}{d\\alpha}-\n",
    "f(\\phi(\\alpha),\\alpha)\\frac{d\\phi}{d\\alpha}.\n",
    "$$\n",
    "\n",
    "Primjena Leibnitzove formule daje\n",
    "\n",
    "$$\n",
    "u'(x)=0+\\int\\limits_{x_0}^x f_x(y,u(y)) dy +f(x,u(x))\\cdot x'-f(x_0,u(x_0))\\cdot x_0'\n",
    "= f(x,u(x)).\n",
    "$$ \n",
    "\n",
    "U zadnjoj jednakosti koristili smo činjenice:\n",
    "\n",
    "$$\n",
    "f_x(y,u(y))=0,\\quad x'=1, \\quad x_0'=0.\n",
    "$$"
   ]
  },
  {
   "cell_type": "markdown",
   "metadata": {},
   "source": [
    "## Primjer - Prebacivanje DJ u IJ (II)\n",
    "\n",
    "Promotrimo problem početnih vrijednosti\n",
    "\n",
    "$$\n",
    "u''+p(x)u'+q(x)u=f(x), \\quad x>a, \\quad u(a)=u_0, \\ u'(a)=u_1.\n",
    "$$\n",
    "\n",
    "Potreban nam je sljedeći rezultat:\n",
    "\n",
    "__Lema.__\n",
    "Neka je $f$ neprekidna funkcija za $x\\geq a$. Onda je\n",
    "\n",
    "$$\n",
    "\\int_a^x\\int_a^s f(y)\\,dy\\,ds=\\int_a^x f(y)(x-y)dy.\n",
    "$$\n",
    "\n",
    "_Dokaz:_ Označimo $F(s)=\\int_a^s f(y)\\,dy$. Parcijalna integracija daje:\n",
    "\n",
    "\\begin{align*}\n",
    "\\int_a^x\\int_a^s f(y)\\,dy\\,ds&=\\int_a^x F(s)\\, ds \\quad (u=F(s), \\ dv=ds) \\\\\n",
    "&= sF(s)\\bigg\\vert_a^x -\\int_a^x sF'(s)\\, ds\\\\\n",
    "&= xF(x)-aF(a)-\\int_a^x sF'(s)\\, ds.\n",
    "\\end{align*}\n",
    "\n",
    "Očito je $F(a)=0$, a Leibnitzova formula daje\n",
    "\n",
    "$$\n",
    "F'(s)=\\int_a^s f_s(y)\\,dy +f(s)\\frac{ds}{ds}-f(a)\\frac{da}{ds}=f(s).\n",
    "$$\n",
    "\n",
    "Dakle,\n",
    "\n",
    "$$\n",
    "\\int_a^x\\int_a^s f(y)\\,dy\\,ds=xF(x)-\\int_a^x sf(s)\\,ds\n",
    "=x\\int_a^x f(y)\\,dy-\\int_a^x yf(y)\\, dy.\n",
    "$$\n",
    "\n",
    "_Q.E.D._\n",
    "\n",
    "Vratimo se zadanom problemu početnih vrijednosti. Vrijedi\n",
    "\n",
    "$$\n",
    "u''=-p(x)u'-q(x)u+f(x)\n",
    "$$\n",
    "\n",
    "pa je\n",
    "\n",
    "$$\n",
    "\\int_a^x u''(y)\\, dy = -\\int_a^x p(y)u'(y)\\,dy -\\int_a^x(q(y)u(y)-f(y))\\, dy.\n",
    "$$\n",
    "\n",
    "Integriranje lijeve strane i uvrštavanje početnih uvjeta te parcijalna integracija prvog integrala na desnoj strani daje\n",
    "\n",
    "$$\n",
    "u'(x)-u_1=-p(x)u(x)+p(a)u_0-\\int_a^x [(q(y)-p'(y))u(y)-f(y)]\\,dy\n",
    "$$\n",
    "\n",
    "\n",
    "Ponovna integracija daje\n",
    "\n",
    "\\begin{align*}\n",
    "u(x)-u_0=&-\\int_a^x p(y)u(y)\\, dy\\\\ & -\\int_a^x \\int_a^s [(q(y)-p'(y))u(y)-f(y)]\\,dy\\, ds\n",
    "+(p(a) u_0+u_1)(x-a).\n",
    "\\end{align*}\n",
    "\n",
    "Iz leme konačno slijedi\n",
    "\n",
    "$$\n",
    "u(x)=-\\int_a^x \\{ p(y)+(x-y) [q(y)-p'(y)]\\} u(y)\\, dy-\\int_a^x (x-y)f(y)\\, dy\n",
    "+(p(a) u_0+u_1)(x-a)+u_0,\n",
    "$$\n",
    "\n",
    "što je Volterra-ina jednadžba oblika\n",
    "\n",
    "$$\n",
    "u(x)=\\int_a^x k(x,y)u(y)\\, dy +F(x).\n",
    "$$\n",
    "\n",
    "\n",
    "(Vidi [J. Logan, Applied Mathematics, str. 233][Log06].)\n",
    "\n",
    "[Log06]: https://www.amazon.com/Applied-Mathematics-J-David-Logan/dp/0471746622 \"J. Logan, 'Applied Mathematics', 3rd Edition, Wiley and Sons, New York, 2006\""
   ]
  },
  {
   "cell_type": "markdown",
   "metadata": {},
   "source": [
    "## Fredholmova jednadžba\n",
    "\n",
    "Promotrimo jednostavniju jednadžbu ($\\alpha(x)=-\\lambda$)\n",
    "\n",
    "$$\n",
    "Ku-\\lambda u=f\n",
    "$$\n",
    "\n",
    "i to za __separabilnu jezgru__,\n",
    "\n",
    "$$\n",
    "k(x,y)=\\sum_{j=1}^{n}\\alpha_j(x)\\beta_j(y).\n",
    "$$\n",
    "\n",
    "__Teorem.__ Za separabilnu jezgru $k$ vrijedi:\n",
    "\n",
    "* za $\\lambda=0$ vrijedi:\n",
    "    * ako $f$ nije linearna kombinacija od $\\alpha_i$, jednadžba nema rješenja,\n",
    "    * ako je $f$ linearna kombinacija od $\\alpha_i$, jednadžba ima beskonačno rješenja,\n",
    "* za $\\lambda\\neq 0$ izračunajmo matricu skalarnih produkata $A_{ij}=(\\beta_i,\\alpha_j)$ i njene svojstvene vrijednosti. Vrijedi:\n",
    "    * ako je $\\lambda$ svojstvena vrijednost od $A$, jednadžba ili nema rješenje ili ima beskonačno rješenja,\n",
    "    * ako $\\lambda$ nije svojstvena vrijednost od $A$, jednadžba ima jedinstveno rješenje."
   ]
  },
  {
   "cell_type": "markdown",
   "metadata": {},
   "source": [
    "### Primjer\n",
    "\n",
    "Analizirajmo zadnji slučaj teorema.\n",
    "\n",
    "Uvrštavanje jezgre u jednadžbu daje\n",
    "\n",
    "$$\n",
    "\\int\\limits_a^b \\sum_{j=1}^{n}\\alpha_j(x)\\beta_j(y) u(y)dy-\\lambda u(x)=f(x)\n",
    "$$\n",
    "\n",
    "odnosno\n",
    "\n",
    "$$\n",
    "\\sum_{j=1}^{n}\\alpha_j(x) \\int\\limits_a^b \\beta_j(y) u(y)dy -\\lambda u(x)=f(x).\n",
    "$$\n",
    "\n",
    "Uz oznake $c_j=(\\beta_j,u)$ i $c=\\begin{pmatrix} c_1 \\\\ \\vdots \\\\ c_n\\end{pmatrix}$ imamo\n",
    "\n",
    "$$\n",
    "\\sum_{j=1}^{n}\\alpha_j(x) c_j-\\lambda u(x)=f(x) \\tag{1}.\n",
    "$$\n",
    "\n",
    "Pomnožimo ovu jednadžbu s $\\beta_i(x)$ i integrirajmo od $a$ do $b$:\n",
    "\n",
    "$$\n",
    "\\sum_{j=1}^{n}(\\beta_i,\\alpha_j) c_j -\\lambda c_i=(\\beta_i,f), \\quad i=1,2,\\ldots, n. \\tag{2}\n",
    "$$\n",
    "\n",
    "Uz oznaku $F=\\begin{pmatrix} (\\beta_1,f) \\\\ \\vdots \\\\ (\\beta_n,f) \\end{pmatrix}$, dobili smo sustav linearnih jednadžbi\n",
    "\n",
    "$$\n",
    "(A-\\lambda I)c=F.\n",
    "$$\n",
    "\n",
    "Rješenje problema je\n",
    "\n",
    "$$\n",
    "u(x)=\\frac{1}{\\lambda} \\bigg(-f(x)+\\sum_{j=1}^{n}\\alpha_j(x)c_j\\bigg).\n",
    "\\tag{3}\n",
    "$$"
   ]
  },
  {
   "cell_type": "markdown",
   "metadata": {},
   "source": [
    "### Primjer\n",
    "\n",
    "Riješimo jednadžbu\n",
    "\n",
    "$$\n",
    "\\int\\limits_0^1 (1-3xy)u(y)dy-2 u(x) =e^x. \\tag{4}\n",
    "$$\n",
    "\n",
    "Pripadni operator je\n",
    "\n",
    "$$\n",
    "Ku(x)=\\int\\limits_0^1 (1-3xy)u(y)dy.\n",
    "$$\n",
    "\n",
    "Jezgra je separabilna:\n",
    "\n",
    "$$\n",
    "k(x,y)=1-3xy=\\alpha_1(x)\\beta_1(y)+\\alpha_2(x)\\beta_2(y),\n",
    "$$\n",
    "\n",
    "gdje je \n",
    "\n",
    "$$\n",
    "\\alpha_1(x)=1,\\ \\beta_1(y)=1,\\ \\alpha_2(x)=-3x, \\ \\beta_2(y)=y.\n",
    "$$\n",
    "\n",
    "Matrica $A$ je \n",
    "\n",
    "$$\n",
    "A=\\begin{pmatrix} \\int_0^1 1\\cdot 1 \\, dx & \\int_0^1 1\\cdot (-3x)\\, dx\\\\\n",
    "\\int_0^1 x\\cdot 1\\, dx & \\int_0^1 (-3x)\\cdot x \\,dx\n",
    "\\end{pmatrix} =\\begin{pmatrix} 1 &-\\frac{3}{2} \\\\ \n",
    "\\frac{1}{2} &  -1 \\end{pmatrix}.\n",
    "$$\n",
    "\n",
    "Svojstvene vrijednosti matrice $A$ su rješenja jednadžbe\n",
    "\n",
    "$$\n",
    "\\det(A-\\lambda I)=0.\n",
    "$$ "
   ]
  },
  {
   "cell_type": "code",
   "execution_count": 4,
   "metadata": {},
   "outputs": [
    {
     "data": {
      "text/plain": [
       "2×2 Array{Rational{Int64},2}:\n",
       " 1//1  -3//2\n",
       " 1//2  -1//1"
      ]
     },
     "execution_count": 4,
     "metadata": {},
     "output_type": "execute_result"
    }
   ],
   "source": [
    "A=[1//1 -3//2; 1//2 -1]"
   ]
  },
  {
   "cell_type": "code",
   "execution_count": 5,
   "metadata": {},
   "outputs": [
    {
     "data": {
      "text/plain": [
       "eye (generic function with 1 method)"
      ]
     },
     "execution_count": 5,
     "metadata": {},
     "output_type": "execute_result"
    }
   ],
   "source": [
    "using LinearAlgebra\n",
    "eye(n)=Matrix{Rational}(I,n,n)"
   ]
  },
  {
   "cell_type": "code",
   "execution_count": 6,
   "metadata": {},
   "outputs": [
    {
     "data": {
      "text/latex": [
       "\\begin{equation*}x^{2} - \\frac{1}{4}\\end{equation*}"
      ],
      "text/plain": [
       " 2   1\n",
       "x  - ─\n",
       "     4"
      ]
     },
     "execution_count": 6,
     "metadata": {},
     "output_type": "execute_result"
    }
   ],
   "source": [
    "det(A-x*eye(2))"
   ]
  },
  {
   "cell_type": "code",
   "execution_count": 7,
   "metadata": {},
   "outputs": [
    {
     "data": {
      "text/latex": [
       "\\begin{equation*}x^{2} - \\frac{1}{4}\\end{equation*}"
      ],
      "text/plain": [
       " 2   1\n",
       "x  - ─\n",
       "     4"
      ]
     },
     "execution_count": 7,
     "metadata": {},
     "output_type": "execute_result"
    }
   ],
   "source": [
    "simplify(det(A-x*eye(2)))"
   ]
  },
  {
   "cell_type": "markdown",
   "metadata": {},
   "source": [
    "Dakle, svojstvene vrijednosti matrice $A$ su \n",
    "\n",
    "$$\n",
    "\\lambda_1=\\frac{1}{2}, \\quad \\lambda_2=-\\frac{1}{2}.\n",
    "$$"
   ]
  },
  {
   "cell_type": "code",
   "execution_count": 8,
   "metadata": {},
   "outputs": [
    {
     "data": {
      "text/plain": [
       "Eigen{Float64,Float64,Array{Float64,2},Array{Float64,1}}\n",
       "values:\n",
       "2-element Array{Float64,1}:\n",
       " -0.5\n",
       "  0.5\n",
       "vectors:\n",
       "2×2 Array{Float64,2}:\n",
       " 0.707107  0.948683\n",
       " 0.707107  0.316228"
      ]
     },
     "execution_count": 8,
     "metadata": {},
     "output_type": "execute_result"
    }
   ],
   "source": [
    "eigen(A)"
   ]
  },
  {
   "cell_type": "code",
   "execution_count": 9,
   "metadata": {},
   "outputs": [],
   "source": [
    "using Base.MathConstants"
   ]
  },
  {
   "cell_type": "code",
   "execution_count": 10,
   "metadata": {},
   "outputs": [
    {
     "data": {
      "text/plain": [
       "ℯ = 2.7182818284590..."
      ]
     },
     "execution_count": 10,
     "metadata": {},
     "output_type": "execute_result"
    }
   ],
   "source": [
    "e"
   ]
  },
  {
   "cell_type": "markdown",
   "metadata": {
    "collapsed": true
   },
   "source": [
    "U zadatku je $\\lambda=2$ različita od svojstvenih vrijednosti matrice $A$ pa je prema teoremu rješenje jedinstveno."
   ]
  },
  {
   "cell_type": "code",
   "execution_count": 11,
   "metadata": {},
   "outputs": [
    {
     "data": {
      "text/latex": [
       "\\[ \\left[ \\begin{array}{r}-1 + e\\\\1\\end{array} \\right] \\]"
      ],
      "text/plain": [
       "2-element Array{Sym,1}:\n",
       " -1 + ℯ\n",
       "      1"
      ]
     },
     "execution_count": 11,
     "metadata": {},
     "output_type": "execute_result"
    }
   ],
   "source": [
    "# Izračunajmo F\n",
    "F=[integrate(e^x,(x,0,1)); integrate(e^x*x,(x,0,1))]"
   ]
  },
  {
   "cell_type": "code",
   "execution_count": 12,
   "metadata": {},
   "outputs": [
    {
     "data": {
      "text/latex": [
       "\\[ \\left[ \\begin{array}{r}\\frac{6}{5} - \\frac{4 e}{5}\\\\- \\frac{2 e}{15} - \\frac{2}{15}\\end{array} \\right] \\]"
      ],
      "text/plain": [
       "2-element Array{Sym,1}:\n",
       "    6/5 - 4*E/5\n",
       " -2*E/15 - 2/15"
      ]
     },
     "execution_count": 12,
     "metadata": {},
     "output_type": "execute_result"
    }
   ],
   "source": [
    "# Izračunajmo c kao rješenje sustava\n",
    "c=(A-2*I)\\F"
   ]
  },
  {
   "cell_type": "code",
   "execution_count": 13,
   "metadata": {},
   "outputs": [
    {
     "data": {
      "text/plain": [
       "u (generic function with 1 method)"
      ]
     },
     "execution_count": 13,
     "metadata": {},
     "output_type": "execute_result"
    }
   ],
   "source": [
    "# Rješenje polaznog problema prema (3)\n",
    "u(x)=1/2*(-exp(x)+1*c[1]+(-3*x)*c[2])"
   ]
  },
  {
   "cell_type": "code",
   "execution_count": 14,
   "metadata": {},
   "outputs": [
    {
     "data": {
      "text/latex": [
       "\\begin{equation*}- 1.5 y \\left(- \\frac{2 e}{15} - \\frac{2}{15}\\right) - 0.5 e^{y} - 0.4 e + 0.6\\end{equation*}"
      ],
      "text/plain": [
       "        ⎛  2⋅ℯ   2 ⎞        y              \n",
       "- 1.5⋅y⋅⎜- ─── - ──⎟ - 0.5⋅ℯ  - 0.4⋅ℯ + 0.6\n",
       "        ⎝   15   15⎠                       "
      ]
     },
     "execution_count": 14,
     "metadata": {},
     "output_type": "execute_result"
    }
   ],
   "source": [
    "# Na primjer\n",
    "u(y)"
   ]
  },
  {
   "cell_type": "code",
   "execution_count": 15,
   "metadata": {},
   "outputs": [
    {
     "data": {
      "text/latex": [
       "\\begin{equation*}3.0 x \\left(- \\frac{2 e}{15} - \\frac{2}{15}\\right) + 0.4 x + 0.4 e x + 1.0 e^{x}\\end{equation*}"
      ],
      "text/plain": [
       "      ⎛  2⋅ℯ   2 ⎞                          x\n",
       "3.0⋅x⋅⎜- ─── - ──⎟ + 0.4⋅x + 0.4⋅ℯ⋅x + 1.0⋅ℯ \n",
       "      ⎝   15   15⎠                           "
      ]
     },
     "execution_count": 15,
     "metadata": {},
     "output_type": "execute_result"
    }
   ],
   "source": [
    "# Provjera - uvrštavanje u lijevu stranu (4) treba dati exp(x)\n",
    "ex=integrate((1-3*x*y)*u(y),(y,0,1))-2*u(x)"
   ]
  },
  {
   "cell_type": "code",
   "execution_count": 16,
   "metadata": {},
   "outputs": [
    {
     "data": {
      "text/latex": [
       "\\begin{equation*}- 1.11022302462516 \\cdot 10^{-16} x + 1.0 e^{x}\\end{equation*}"
      ],
      "text/plain": [
       "                               x\n",
       "-1.11022302462516e-16⋅x + 1.0⋅ℯ "
      ]
     },
     "execution_count": 16,
     "metadata": {},
     "output_type": "execute_result"
    }
   ],
   "source": [
    "# !!!!!!!!!!!!!\n",
    "simplify(ex)"
   ]
  },
  {
   "cell_type": "markdown",
   "metadata": {},
   "source": [
    "### Dodatak\n",
    "\n",
    "Izračunajmo svojstvene vektore matrice $A$ i svojstvene funkcije operatora $K$\n",
    "\n",
    "Svojstveni vektori matrice $A$ su rješenja jednadžbi\n",
    "\n",
    "$$\n",
    "A\\begin{pmatrix}x \\\\ y\\end{pmatrix}= \\lambda \\begin{pmatrix}x \\\\ y\\end{pmatrix},\n",
    "$$\n",
    "\n",
    "odnosno\n",
    "\n",
    "$$\n",
    "\\begin{pmatrix} 1 &-\\frac{3}{2} \\\\ \n",
    "\\frac{1}{2} &  -1 \\end{pmatrix}\\begin{pmatrix}x \\\\ y\\end{pmatrix}= \\lambda \\begin{pmatrix}x \\\\ y\\end{pmatrix}.\n",
    "$$\n",
    "\n",
    "Uvrštavanje $\\lambda_1$ i $\\lambda_2$ daje redom\n",
    "\n",
    "$$\n",
    "v_1=\\begin{pmatrix}3 \\\\ 1\\end{pmatrix}, \\quad\n",
    "v_2=\\begin{pmatrix}1 \\\\ 1\\end{pmatrix}.\n",
    "$$\n",
    "\n",
    "Uvrštavanje $f=0$ u (1) daje jednadžbu $Ku=\\lambda u$, odnosno\n",
    "\n",
    "$$\n",
    "\\sum_{j=1}^{n}\\alpha_j(x) c_j=\\lambda u(x) \\tag{5}\n",
    "$$\n",
    "\n",
    "a uvrštavanje $f=0$ u (2) daje jednadžbu \n",
    "\n",
    "$$\n",
    "\\sum_{j=1}^{n}(\\beta_i,\\alpha_j) c_j -\\lambda c_i=(\\beta_i,f), \\quad i=1,2,\\ldots, n,$$\n",
    "\n",
    "odnosno\n",
    "\n",
    "$$\n",
    "Ac=\\lambda c.\n",
    "$$\n",
    "\n",
    "Zadnja jednadžba će biti zadovoljena kada je $\\lambda$ svojstvena vrijednost matrice $A$ ($\\lambda_1$ ili $\\lambda_2$), a $c$ pripadni svojstveni vektor, $v_1$ ili $v_2$. Iz (5) slijedi da su svojstvene vrijednosti matrice $A$ ujedno i svojstvene vrijednosti operatora $K$ i da su pripadne svojstvene funkcije dane formulom\n",
    "\n",
    "$$\n",
    "u(x)=\\frac{1}{\\lambda}\\sum_{j=1}^{n}\\alpha_j(x) c_j,\n",
    "$$\n",
    "\n",
    "s time da u ovoj fromuli možemo uzeti i $\\lambda=1$ jer svojstvene funkcije ne ovise o skaliranju. \n",
    "U našem slučaju su svojstvene funkcije opratora $K$ jednake \n",
    "\n",
    "$$\n",
    "u_1(x)= \\alpha_1(x)[v_1]_1+\\alpha_2(x)[v_1]_2=1\\cdot 3+(-3x)\\cdot 1= 3(1-x), \\\\\n",
    "u_2(x)=\\alpha_1(x)[v_2]_1 +\\alpha_2(x)[v_2]_2=1\\cdot 1+(-3x)\\cdot 1= 1-3x.\n",
    "$$\n",
    "\n",
    "Vrijedi $(u_1,u_2)=0$, odnosno $u_1\\perp u_2$."
   ]
  },
  {
   "cell_type": "code",
   "execution_count": 17,
   "metadata": {},
   "outputs": [
    {
     "data": {
      "text/latex": [
       "\\begin{equation*}\\frac{3}{2} - \\frac{3 x}{2}\\end{equation*}"
      ],
      "text/plain": [
       "3   3⋅x\n",
       "─ - ───\n",
       "2    2 "
      ]
     },
     "execution_count": 17,
     "metadata": {},
     "output_type": "execute_result"
    }
   ],
   "source": [
    "# Provjera Ku=λu za λ=1/2, u=3(1-x)\n",
    "integrate((1-3*x*y)*3*(1-y),(y,0,1))"
   ]
  },
  {
   "cell_type": "code",
   "execution_count": 18,
   "metadata": {},
   "outputs": [
    {
     "data": {
      "text/latex": [
       "\\begin{equation*}\\frac{3 x}{2} - \\frac{1}{2}\\end{equation*}"
      ],
      "text/plain": [
       "3⋅x   1\n",
       "─── - ─\n",
       " 2    2"
      ]
     },
     "execution_count": 18,
     "metadata": {},
     "output_type": "execute_result"
    }
   ],
   "source": [
    "# Provjera Ku=λu za λ=-1/2, u=1-3x \n",
    "integrate((1-3*x*y)*(1-3*y),(y,0,1))"
   ]
  },
  {
   "cell_type": "code",
   "execution_count": 19,
   "metadata": {},
   "outputs": [
    {
     "data": {
      "text/latex": [
       "\\begin{equation*}0\\end{equation*}"
      ],
      "text/plain": [
       "0"
      ]
     },
     "execution_count": 19,
     "metadata": {},
     "output_type": "execute_result"
    }
   ],
   "source": [
    "# Ortogonalnost svojstvenih funkcija\n",
    "integrate((1-x)*(1-3*x),(x,0,1))"
   ]
  },
  {
   "cell_type": "code",
   "execution_count": null,
   "metadata": {},
   "outputs": [],
   "source": []
  }
 ],
 "metadata": {
  "@webio": {
   "lastCommId": "639ef3623e534e2a95ec85630ba5c40b",
   "lastKernelId": "60bdac64-b644-4696-86b1-6bd708815372"
  },
  "anaconda-cloud": {},
  "kernelspec": {
   "display_name": "Julia 1.5.3",
   "language": "julia",
   "name": "julia-1.5"
  },
  "language_info": {
   "file_extension": ".jl",
   "mimetype": "application/julia",
   "name": "julia",
   "version": "1.5.3"
  }
 },
 "nbformat": 4,
 "nbformat_minor": 1
}
