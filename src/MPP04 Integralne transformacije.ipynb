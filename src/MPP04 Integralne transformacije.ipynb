{
 "cells": [
  {
   "cell_type": "markdown",
   "metadata": {},
   "source": [
    "# Integralne transformacije\n",
    "\n",
    "---\n",
    "\n",
    "__Integralna transformacija__ funkcije $f(t)$ na intervalu $[a,b]$ je\n",
    "\n",
    "$$\n",
    "F(s)=\\int_a^b K(s,t)\\,f(t) \\, dt.\n",
    "$$\n",
    "\n",
    "Funkcija $K(s,t)$ je __jezgra__ transformacije.\n",
    "\n",
    "## Laplaceova transformacija\n",
    "\n",
    "Za $a=0$, $b=\\infty$ i $K(s,t)=e^{-st}$ imamo __Laplaceovu transformaciju__:\n",
    "\n",
    "$$\n",
    "(\\mathcal{L}u)(s)\\equiv U(s)=\\int_0^\\infty u(t)\\,e^{-st}\\, dt.\n",
    "$$\n",
    "\n",
    "Funkcije koje su \n",
    "\n",
    "* po djelovima neprekidne na svakom konačnom intervalu i \n",
    "* koje su __eksponencijalnog rasta__, odnosno za koje postoje konstante  $M>0$ i $a>0$ takve da je\n",
    "\n",
    "$$\n",
    "\\big|f(t)\\big|\\leq Me^{at}\n",
    "$$\n",
    "\n",
    "sigurno imaju Laplaceovu transformaciju. Ovo su __dovoljni uvjeti__, ali __ne i nužni__. \n",
    "\n",
    "Laplaceova transformacija je __linearni operator__.\n",
    "\n",
    "Lapleaceova transformacija ima __inverz__:\n",
    "\n",
    "$$\n",
    "\\mathcal{L}^{-1}U(s)=u(t)=\\frac{1}{2\\pi i}\\int_{a-i\\infty}^{a+i\\infty} U(s)\\,e^{st}\\, ds.\n",
    "$$\n",
    "\n",
    "Parovi transformacija i njihovih inverza se nalaze u [tablicama](http://integral-table.com/downloads/LaplaceTable.pdf).\n",
    "\n",
    "Posebno su važne formule za deriviranje:\n",
    "\n",
    "\\begin{align*}\n",
    "(\\mathcal{L}u')(s)&=sU(s)-u(0), \\\\\n",
    "(\\mathcal{L}u'')(s)&=s^2U(s)-su(0)-u'(0).\n",
    "\\end{align*}"
   ]
  },
  {
   "cell_type": "markdown",
   "metadata": {},
   "source": [
    "### Problem početnih vrijednosti\n",
    "\n",
    "Riješimo problem\n",
    "\n",
    "$$\n",
    "u''+u=0, \\quad t>0, \\quad u(0)=0, \\quad u'(0)=1.\n",
    "$$\n",
    "\n",
    "Laplaceova transformacija cijele jednadžbe daje\n",
    "\n",
    "$$\n",
    "s^2U(s)-su(0)-u'(0)+U(s)=0.\n",
    "$$\n",
    "\n",
    "Uvrštavanje početnih uvjeta daje\n",
    "\n",
    "$$\n",
    "s^2U(s)-1+U(s)=0\n",
    "$$\n",
    "\n",
    "pa je \n",
    "\n",
    "$$\n",
    "U(s)=\\frac{1}{1+s^2}.\n",
    "$$\n",
    "\n",
    "Primjena inverzne transformacije daje rješenje\n",
    "\n",
    "$$\n",
    "u(t)=\\mathcal{L}^{-1}\\bigg(\\frac{1}{1+s^2}\\bigg)= \\sin t.\n",
    "$$"
   ]
  },
  {
   "cell_type": "code",
   "execution_count": 2,
   "metadata": {},
   "outputs": [],
   "source": [
    "using SymPy\n",
    "import_from(sympy)"
   ]
  },
  {
   "cell_type": "code",
   "execution_count": 3,
   "metadata": {},
   "outputs": [
    {
     "data": {
      "text/plain": [
       "(x, t, s)"
      ]
     },
     "execution_count": 3,
     "metadata": {},
     "output_type": "execute_result"
    }
   ],
   "source": [
    "x,t,s=symbols(\"x, t, s\")"
   ]
  },
  {
   "cell_type": "code",
   "execution_count": 4,
   "metadata": {},
   "outputs": [
    {
     "data": {
      "text/latex": [
       "\\begin{equation*}\\sin{\\left(t \\right)} \\theta\\left(t\\right)\\end{equation*}"
      ],
      "text/plain": [
       "sin(t)⋅θ(t)"
      ]
     },
     "execution_count": 4,
     "metadata": {},
     "output_type": "execute_result"
    }
   ],
   "source": [
    "u=inverse_laplace_transform(1/(1+s^2),s,t)"
   ]
  },
  {
   "cell_type": "markdown",
   "metadata": {},
   "source": [
    "### Primjer difuzije\n",
    "\n",
    "\n",
    "Neka $u(x,t)$ daje koncentraciju kemikalije na polu-beskonačnom prostoru $x>0$ koji je u početku bez kemikalije.\n",
    "Neka tijekom vremena $t>0$ na rubu $x=0$ dajemo jediničnu koncentraciju kemikalije i želimo znati kako se kemikalija širi. \n",
    "Neka je difuzijska konstanata jednaka $1$.\n",
    "\n",
    "Matematički model je\n",
    "\n",
    "\\begin{align*}\n",
    "&u_t-u_{xx}=0, \\quad x>0, t>0, \\\\\n",
    "&u(x,0)=0, \\quad x>0, \\\\\n",
    "&u(0,t)=1, \\quad t>0, \\\\\n",
    "&u(x,t) \\ \\textrm{omeđena}.\n",
    "\\end{align*}\n",
    "\n",
    "Laplaceova transformacija jednadžbe po vremenu $t$, pri čemu se prostorna varijabla $x$ ne transformira, daje\n",
    "diferencijalnu jednadžbu po varijabli $x$:\n",
    "\n",
    "$$\n",
    "sU(x,s)-u(x,0)-U_{xx}(x,s)=0.\n",
    "$$\n",
    "\n",
    "Počeni uvjet daje jednadžbu\n",
    "\n",
    "$$\n",
    "sU(x,s)-U_{xx}(x,s)=0.\n",
    "$$\n",
    "\n",
    "Za detalje vidi [J. Logan, Applied Mathematics, 2nd ed., str. 226][JL97].\n",
    "\n",
    "[JL97]: https://books.google.hr/books/about/Applied_Mathematics.html?id=tD0ZAQAAIAAJ&redir_esc=y \"J. Logan, 'Applied Mathematics', 2nd ed., Wiley, New York, 1997\""
   ]
  },
  {
   "cell_type": "code",
   "execution_count": 5,
   "metadata": {},
   "outputs": [
    {
     "data": {
      "text/latex": [
       "\\begin{equation*}s\\end{equation*}"
      ],
      "text/plain": [
       "s"
      ]
     },
     "execution_count": 5,
     "metadata": {},
     "output_type": "execute_result"
    }
   ],
   "source": [
    "s=symbols(\"s\",real=true,positive=true)"
   ]
  },
  {
   "cell_type": "code",
   "execution_count": 6,
   "metadata": {},
   "outputs": [
    {
     "data": {
      "text/latex": [
       "\\begin{equation*}s U{\\left(x \\right)} - \\frac{d^{2}}{d x^{2}} U{\\left(x \\right)} = 0\\end{equation*}"
      ],
      "text/plain": [
       "           2          \n",
       "          d           \n",
       "s⋅U(x) - ───(U(x)) = 0\n",
       "           2          \n",
       "         dx           "
      ]
     },
     "execution_count": 6,
     "metadata": {},
     "output_type": "execute_result"
    }
   ],
   "source": [
    "U = symbols(\"U\", cls=SymFunction)\n",
    "# U=SymFunction('U')\n",
    "diffeq = Eq(s*U(x)-diff(U(x), x, 2), 0)"
   ]
  },
  {
   "cell_type": "code",
   "execution_count": 7,
   "metadata": {},
   "outputs": [
    {
     "data": {
      "text/latex": [
       "\\begin{equation*}U{\\left(x \\right)} = C_{1} e^{- \\sqrt{s} x} + C_{2} e^{\\sqrt{s} x}\\end{equation*}"
      ],
      "text/plain": [
       "           -√s⋅x       √s⋅x\n",
       "U(x) = C₁⋅ℯ      + C₂⋅ℯ    "
      ]
     },
     "execution_count": 7,
     "metadata": {},
     "output_type": "execute_result"
    }
   ],
   "source": [
    "# Riješimo jednadžbu\n",
    "dsolve(diffeq)"
   ]
  },
  {
   "cell_type": "markdown",
   "metadata": {},
   "source": [
    "Rješili smo jednadžbu po $x$ pa je varijabla $s$ konstanta. Zato su $C_1$ i $C_2$ funkcije od $s$,\n",
    "\n",
    "$$\n",
    "C_1 \\equiv a(s), \\quad C_2\\equiv b(s),\n",
    "$$\n",
    "\n",
    "odnosno,\n",
    "\n",
    "$$\n",
    "U(x,s)=a(s) e^{-\\sqrt{s} x} + b(s)e^{\\sqrt{s} x}.\n",
    "$$\n",
    "\n",
    "Zato što želimo omeđeno rješenje, mora biti $b(s)=0$ pa je\n",
    "\n",
    "$$\n",
    "U(x,s)=a(s) e^{-\\sqrt{s} x}.\n",
    "$$\n",
    "\n",
    "Sada iskoristimo početni uvjet:\n",
    "\n",
    "$$\n",
    "U(0,s)=a(s)=\\mathcal{L}(1)=\\frac{1}{s}\n",
    "$$\n",
    "\n",
    "pa je \n",
    "\n",
    "$$\n",
    "U(x,s)=\\frac{1}{s} e^{-\\sqrt{s} x}.\n",
    "$$\n",
    "\n",
    "Iz [tablice](http://integral-table.com/downloads/LaplaceTable.pdf) pod (33) slijedi\n",
    "\n",
    "$$\n",
    "u(x,s)=\\mathop{\\mathrm{erfc}} \\left( \\frac{x}{\\sqrt{4t}}\\right).\n",
    "$$"
   ]
  },
  {
   "cell_type": "code",
   "execution_count": 8,
   "metadata": {},
   "outputs": [
    {
     "data": {
      "text/plain": [
       "(1/s, 0, True)"
      ]
     },
     "execution_count": 8,
     "metadata": {},
     "output_type": "execute_result"
    }
   ],
   "source": [
    "f=laplace_transform(t^0,t,s)"
   ]
  },
  {
   "cell_type": "code",
   "execution_count": 9,
   "metadata": {},
   "outputs": [
    {
     "data": {
      "text/latex": [
       "\\begin{equation*}\\left(1 - \\operatorname{erf}{\\left(\\frac{x}{2 \\sqrt{t}} \\right)}\\right) \\theta\\left(t\\right)\\end{equation*}"
      ],
      "text/plain": [
       "⎛       ⎛ x  ⎞⎞     \n",
       "⎜1 - erf⎜────⎟⎟⋅θ(t)\n",
       "⎝       ⎝2⋅√t⎠⎠     "
      ]
     },
     "execution_count": 9,
     "metadata": {},
     "output_type": "execute_result"
    }
   ],
   "source": [
    "inverse_laplace_transform(exp(-sqrt(s)*x)/s,s,t)"
   ]
  },
  {
   "cell_type": "markdown",
   "metadata": {},
   "source": [
    "__Napomena.__ Vrijedi (vidi [Error function](https://en.wikipedia.org/wiki/Error_function)):\n",
    "\n",
    "\\begin{align*}\n",
    "\\mathop{\\mathrm{erf}}(x)&=\\frac{2}{\\sqrt{\\pi}} \\int\\limits_{0}^x e^{-t^2}dt,\\\\\n",
    "\\mathop{\\mathrm{erfc}}(x)&=1-\\mathop{\\mathrm{erf}}(x)=\\frac{2}{\\sqrt{\\pi}} \\int\\limits_{x}^\\infty e^{-t^2}dt.\n",
    "\\end{align*}"
   ]
  },
  {
   "cell_type": "markdown",
   "metadata": {
    "collapsed": true
   },
   "source": [
    "## Fourierova transformacija\n",
    "\n",
    "Za funkciju $u(x)$, $x\\in\\mathbb{R}$, definiramo __Fourierovu transformaciju__:\n",
    "\n",
    "$$\n",
    "(\\mathcal{F} u)(\\xi)\\equiv \\hat u(\\xi) = \\int\\limits_{-\\infty}^\\infty u(x)\\, \\displaystyle e^{i\\xi x} dx.\n",
    "$$\n",
    "\n",
    "Ovo je integralna transformacija s granicama $a=-\\infty$ i $b=\\infty$ i jezgrom\n",
    "$K(\\xi,x)=e^{i\\xi x}$.\n",
    "\n",
    "Fourierova transformacija postoji čim je $u$ apsolutno integrabilna funkcija, odnosno\n",
    "$\\int\\limits_{-\\infty}^\\infty \\left| u(x)\\right| dx < \\infty$.\n",
    "\n",
    "Promatrat ćemo funkcije __Schwartzove klase__ koje, zajedno s derivacijama, \n",
    "opadaju brže od bilo koje potencije:\n",
    "\n",
    "$$\n",
    "\\mathcal{S}=\\left\\{ u\\in C^\\infty : \\left\\|\\displaystyle \\frac{d^k u}{dx^k}\\right\\| = \n",
    "\\mathcal{O} \\left( \\displaystyle \\frac{1}{\\left|x\\right|^N} \\right), \\ \\left|x\\right|\\to \\infty,\\ k=0,1,2,3,\\ldots, \\ \n",
    "\\forall N\\in\\mathbb{N} \\right\\}.\n",
    "$$\n",
    "\n",
    "Inverzna Fourierova transformacija dana je formulom\n",
    "\n",
    "$$\n",
    "(\\mathcal{F}^{-1}\\hat u)(x)\\equiv u(x) = \\frac{1}{2\\pi}\\int\\limits_{-\\infty}^\\infty \\hat u(\\xi) \\,\n",
    "\\displaystyle e^{-i\\xi x} d\\xi.\n",
    "$$\n",
    "\n",
    "Fourierove transformacije i inverzne Fourierove transformacije možemo naći u [tablicama](http://uspas.fnal.gov/materials/11ODU/FourierTransformPairs.pdf).\n",
    "\n",
    "Posebno, za transformacije derivacija vrijedi\n",
    "\n",
    "$$\n",
    "(\\mathcal{F} u^{(k)})(\\xi)=(-i\\xi)^k\\, \\hat u(\\xi), \\quad u\\in \\mathcal{S}.\n",
    "$$\n",
    "\n",
    "__Konvolucija__ funkcija $u,v\\in\\mathcal{S}$ je funkcija\n",
    "\n",
    "$$\n",
    "(u\\ast v)(x) =\\int\\limits_{-\\infty}^\\infty u(x-y)\\,v(y)\\, dy.\n",
    "$$\n",
    "\n",
    "Vrijedi\n",
    "\n",
    "$$\n",
    "\\mathcal{F}(u\\ast v)(\\xi)=\\hat u(\\xi)\\,\\hat v(\\xi).\n",
    "$$\n",
    "\n",
    "__Napomena.__ U navedenim tablicama korištena je jezgra $K(\\xi,x)=e^{-i\\xi x}$ pa parove treba prilagoditi tako da transformacije navedene u tablici daju $\\hat u(-\\xi)$."
   ]
  },
  {
   "cell_type": "markdown",
   "metadata": {},
   "source": [
    "### Računanje Fourierove transformacije\n",
    "\n",
    "Izračunajmo transformaciju funkcije $u(x)=e^{-ax^2}$, $a>0$. Vrijedi\n",
    "\n",
    "$$\n",
    "\\hat u(\\xi)=\\int\\limits_{-\\infty}^\\infty \\displaystyle e^{-ax^2} \\displaystyle e^{i\\xi x} dx.\n",
    "$$\n",
    "\n",
    "Deriviranje od znakom integrala daje\n",
    "\n",
    "$$\n",
    "\\hat u'(\\xi)=i\\int\\limits_{-\\infty}^\\infty \\displaystyle e^{-ax^2} x\\, \\displaystyle e^{i\\xi x} dx.\n",
    "$$\n",
    "\n",
    "Primijenimo parcijalnu integraciju: neka je \n",
    "\n",
    "$$\n",
    "u=e^{i\\xi x}, \\quad du=e^{i\\xi x}\\,i\\xi\\, dx,\\\\\n",
    "dv=\\int e^{-ax^2}x\\, dx,\\quad v=-\\frac{1}{2a}e^{-ax^2}.\n",
    "$$"
   ]
  },
  {
   "cell_type": "code",
   "execution_count": 10,
   "metadata": {},
   "outputs": [
    {
     "data": {
      "text/latex": [
       "\\begin{equation*}a\\end{equation*}"
      ],
      "text/plain": [
       "a"
      ]
     },
     "execution_count": 10,
     "metadata": {},
     "output_type": "execute_result"
    }
   ],
   "source": [
    "a=symbols(\"a\", positive=true, real=true)"
   ]
  },
  {
   "cell_type": "code",
   "execution_count": 11,
   "metadata": {},
   "outputs": [
    {
     "data": {
      "text/latex": [
       "\\begin{equation*}x e^{- a x^{2}}\\end{equation*}"
      ],
      "text/plain": [
       "       2\n",
       "   -a⋅x \n",
       "x⋅ℯ     "
      ]
     },
     "execution_count": 11,
     "metadata": {},
     "output_type": "execute_result"
    }
   ],
   "source": [
    "f=x*exp(-a*x^2)"
   ]
  },
  {
   "cell_type": "code",
   "execution_count": 12,
   "metadata": {},
   "outputs": [
    {
     "data": {
      "text/latex": [
       "\\begin{equation*}- \\frac{e^{- a x^{2}}}{2 a}\\end{equation*}"
      ],
      "text/plain": [
       "      2 \n",
       "  -a⋅x  \n",
       "-ℯ      \n",
       "────────\n",
       "  2⋅a   "
      ]
     },
     "execution_count": 12,
     "metadata": {},
     "output_type": "execute_result"
    }
   ],
   "source": [
    "integrate(f,x)"
   ]
  },
  {
   "cell_type": "markdown",
   "metadata": {},
   "source": [
    "Sada je\n",
    "\n",
    "\\begin{align*}\n",
    "\\hat u'(\\xi)&= i\\left[ -\\frac{1}{2a} e^{-ax^2}e^{i\\xi x}\\bigg|_{-\\infty}^\\infty - \\int\\limits_{-\\infty}^\\infty  (-1)\\frac{1}{2a} \n",
    "e^{-ax^2}e^{i\\xi x} i\\xi \\, dx \\right]\\\\\n",
    "&= \\frac{i^2\\xi}{2a} \\int\\limits_{-\\infty}^\\infty e^{-ax^2}e^{i\\xi x} \\, dx = -\\frac{\\xi}{2a} \\hat u(\\xi).\n",
    "\\end{align*}\n",
    "\n",
    "Dobili smo linearnu diferencijalnu jednadžbu prvog reda\n",
    "\n",
    "$$\n",
    "\\hat u'(\\xi)=\\frac{d\\hat u}{d\\xi}=-\\frac{\\xi}{2a} \\hat u(\\xi).\n",
    "$$\n",
    "\n",
    "Separacija varijabli daje\n",
    "\n",
    "$$\n",
    "\\frac{d\\hat u}{\\hat u}=-\\frac{\\xi}{2a} d\\xi.\n",
    "$$\n",
    "\n",
    "Integriranje daje\n",
    "\n",
    "$$\n",
    "\\ln |\\hat u| =-\\frac{1}{2a}\\frac{\\xi^2}{2}=-\\frac{\\xi^2}{4a}\n",
    "$$\n",
    "\n",
    "pa je \n",
    "\n",
    "$$\n",
    "\\hat u=C e^{-\\xi^2/(4a)}.\n",
    "$$\n",
    "\n",
    "Vrijedi\n",
    "\n",
    "$$\n",
    "\\hat u(0)=C=\\int\\limits_{-\\infty}^\\infty e^{-ax^2}\\, dx\n",
    "=\\sqrt{\\frac{\\pi}{a}}\n",
    "$$\n",
    "\n",
    "pa je, konačno,\n",
    "\n",
    "$$\n",
    "\\hat u(\\xi)= \\sqrt{\\frac{\\pi}{a}} e^{-\\xi^2/(4a)}.\n",
    "$$\n",
    "\n",
    "Dakle, Fourierova transformacija Gaussove funkcije je Gaussova funkcija."
   ]
  },
  {
   "cell_type": "code",
   "execution_count": 13,
   "metadata": {},
   "outputs": [
    {
     "data": {
      "text/latex": [
       "\\begin{equation*}\\frac{\\sqrt{\\pi} e^{- \\frac{\\pi^{2} s^{2}}{a}}}{\\sqrt{a}}\\end{equation*}"
      ],
      "text/plain": [
       "      2  2 \n",
       "    -π ⋅s  \n",
       "    ───────\n",
       "       a   \n",
       "√π⋅ℯ       \n",
       "───────────\n",
       "     √a    "
      ]
     },
     "execution_count": 13,
     "metadata": {},
     "output_type": "execute_result"
    }
   ],
   "source": [
    "g=exp(-a*x^2)\n",
    "fourier_transform(g,x,s)"
   ]
  },
  {
   "cell_type": "markdown",
   "metadata": {},
   "source": [
    "__Zašto se transformacije razlikuju?__\n",
    "\n",
    "Paket `SymPy.jl` transformaciju definira koristeći jezgru $K(\\xi,x)=e^{-2\\pi i\\xi x}$ pa parove treba prilagoditi.\n",
    "\n",
    "Dokumentacija se nalazi na adresi https://docs.sympy.org/latest/search.html?q=fourier_transform."
   ]
  },
  {
   "cell_type": "markdown",
   "metadata": {},
   "source": [
    "### Problem rubnih vrijednosti\n",
    "\n",
    "Za funkciju $f\\in\\mathcal{S}$ nađimo $u\\in\\mathcal{S}$ za koju je\n",
    "\n",
    "$$\n",
    "u''-u=f(x), \\quad x\\in\\mathbb{R}.\n",
    "$$\n",
    "\n",
    "Transfomacije jednadžbe daje\n",
    "\n",
    "$$\n",
    "(-i\\xi)^2\\hat u-\\hat u=\\hat f\n",
    "$$\n",
    "\n",
    "pa je\n",
    "\n",
    "$$\n",
    "\\hat u(\\xi)=-\\frac{1}{1+\\xi^2} \\,\\hat f(\\xi).\n",
    "$$\n",
    "\n",
    "Iz tablica vidimo da je \n",
    "\n",
    "$$\n",
    "\\mathcal{F}^{-1}\\left(\\frac{1}{1+\\xi^2}\\right) = \\frac{1}{2} e^{-|x|}\n",
    "$$\n",
    "\n",
    "pa je po teoremu o konvoluciji\n",
    "\n",
    "$$\n",
    "u(x)=-\\frac{1}{2} e^{-|x|} \\ast f(x)=-\\frac{1}{2} \n",
    "\\int\\limits_{-\\infty}^\\infty e^{-|x-y|}f(y)dy.\n",
    "$$"
   ]
  },
  {
   "cell_type": "code",
   "execution_count": 14,
   "metadata": {},
   "outputs": [
    {
     "data": {
      "text/latex": [
       "\\begin{equation*}\\pi e^{- 2 \\pi x}\\end{equation*}"
      ],
      "text/plain": [
       "   -2⋅π⋅x\n",
       "π⋅ℯ      "
      ]
     },
     "execution_count": 14,
     "metadata": {},
     "output_type": "execute_result"
    }
   ],
   "source": [
    "# Usporedi s tablicama\n",
    "f=1/(1+s^2)\n",
    "inverse_fourier_transform(f,s,x)"
   ]
  },
  {
   "cell_type": "markdown",
   "metadata": {},
   "source": [
    "### Jednadžba difuzije\n",
    "\n",
    "Riješimo problem\n",
    "\n",
    "$$\n",
    "u_t-ku_{xx}=0,\\quad u(x,0)=f(x), \\quad x\\in\\mathbb{R},\\quad t>0.\n",
    "$$\n",
    "\n",
    "Pretpostavljamo da je $f\\in\\mathcal{S}$. Fourierova transformacija jednadžbe po $x$ daje populacijsku \n",
    "jednadžbu\n",
    "\n",
    "$$\n",
    "\\hat u_t=-\\xi^2 k \\hat u\n",
    "$$\n",
    "\n",
    "pa je\n",
    "\n",
    "$$\n",
    "\\hat u(\\xi, t)= C e^{-\\xi^2k t}.\n",
    "$$\n",
    "\n",
    "Početni uvjet daje\n",
    "\n",
    "$$\n",
    "\\hat u(\\xi, 0)=C=\\hat f(\\xi)\n",
    "$$\n",
    "\n",
    "pa je \n",
    "\n",
    "$$\n",
    "\\hat u(\\xi, t)= \\hat f(\\xi)\\, e^{-\\xi^2k t}.\n",
    "$$\n",
    "\n",
    "Iz tablica vidimo da je \n",
    "\n",
    "$$\n",
    "\\mathcal{F}^{-1}\\left(e^{-\\xi^2k t} \\right) = \\frac{1}{\\sqrt{4\\pi k t}}\\, e^{-x^2/(4kt)}\n",
    "$$\n",
    "\n",
    "pa je po teoremu o konvoluciji\n",
    "\n",
    "$$\n",
    "u(x,t)=\\frac{1}{\\sqrt{4\\pi k t}}\\int\\limits_{-\\infty}^\\infty e^{-(x-y)^2/(4kt)}\\,f(y)\\,dy.\n",
    "$$\n"
   ]
  },
  {
   "cell_type": "code",
   "execution_count": 15,
   "metadata": {},
   "outputs": [
    {
     "data": {
      "text/latex": [
       "\\begin{equation*}\\frac{\\sqrt{\\pi} e^{- \\frac{\\pi^{2} x^{2}}{a}}}{\\sqrt{a}}\\end{equation*}"
      ],
      "text/plain": [
       "      2  2 \n",
       "    -π ⋅x  \n",
       "    ───────\n",
       "       a   \n",
       "√π⋅ℯ       \n",
       "───────────\n",
       "     √a    "
      ]
     },
     "execution_count": 15,
     "metadata": {},
     "output_type": "execute_result"
    }
   ],
   "source": [
    "# Uz a=kt\n",
    "f=exp(-s^2*a)\n",
    "inverse_fourier_transform(f,s,x)"
   ]
  },
  {
   "cell_type": "markdown",
   "metadata": {},
   "source": [
    "### Laplaceova jednadžba\n",
    "\n",
    "Riješimo problem\n",
    "\n",
    "$$\n",
    "u_{xx}+u_{yy}=0,\\quad u(x,0)=f(x), \\quad x\\in\\mathbb{R},\\quad y>0,\n",
    "$$\n",
    "\n",
    "uz dodatni uvijet da je rješenje omeđeno kada $y\\to\\infty$.\n",
    "\n",
    "Pretpostavljamo da je $f\\in\\mathcal{S}$. Fourier-ova transformacija jednadžbe po $x$ daje\n",
    "jednadžbu\n",
    "\n",
    "$$\n",
    "\\hat u_{yy}-\\xi^2 \\hat u=0,\n",
    "$$\n",
    "\n",
    "pa je\n",
    "\n",
    "$$\n",
    "\\hat u(\\xi, y)= a(\\xi)\\, e^{-\\xi y} + b(\\xi)\\, e^{\\xi y}.\n",
    "$$\n",
    "\n",
    "Dodatni uvijet omeđenosti rješenja povlači $b(\\xi)=0$ pa je\n",
    "\n",
    "$$\n",
    "\\hat u(\\xi, y)= a(\\xi)\\, e^{-\\xi y}.\n",
    "$$\n",
    "\n",
    "Međutim, i ovo rješenje će rasti kada je $\\xi<0$ pa stoga uzimamo\n",
    "\n",
    "$$\n",
    "\\hat u(\\xi, y)= a(\\xi)\\, e^{-|\\xi| y}.\n",
    "$$\n",
    "\n",
    "Rubni uvijet daje \n",
    "$$\n",
    "\\hat u(\\xi, 0)=a(\\xi)=\\hat f(\\xi)\n",
    "$$\n",
    "\n",
    "pa je rješenje problema u transformiranoj domeni\n",
    "\n",
    "$$\n",
    "\\hat u(\\xi, y)= \\hat f(\\xi)\\, e^{-|\\xi|y}.\n",
    "$$\n",
    "\n",
    "Iz Zadatka 4., str. 396, vidimo da je \n",
    "\n",
    "$$\n",
    "\\mathcal{F}^{-1}\\left(e^{-|\\xi|y} \\right) = \\frac{y}{\\pi}\\frac{1}{x^2+y^2}\n",
    "$$\n",
    "\n",
    "odakle, koristeći teorem o konvoluciji, slijedi\n",
    "\n",
    "$$\n",
    "u(x,y)=\\frac{y}{\\pi}\\frac{1}{x^2+y^2} \\ast f = \n",
    "\\frac{y}{\\pi}\\int\\limits_{-\\infty}^\\infty \\frac{f(\\tau)\\,d\\tau}{(x-\\tau)^2+y^2}.\n",
    "$$"
   ]
  },
  {
   "cell_type": "code",
   "execution_count": 16,
   "metadata": {},
   "outputs": [
    {
     "data": {
      "text/latex": [
       "\\begin{equation*}\\frac{2 s}{s^{2} + 4 \\pi^{2} x^{2}}\\end{equation*}"
      ],
      "text/plain": [
       "    2⋅s     \n",
       "────────────\n",
       " 2      2  2\n",
       "s  + 4⋅π ⋅x "
      ]
     },
     "execution_count": 16,
     "metadata": {},
     "output_type": "execute_result"
    }
   ],
   "source": [
    "inverse_fourier_transform(exp(-abs(t)*s),t,x)"
   ]
  },
  {
   "cell_type": "markdown",
   "metadata": {},
   "source": [
    "Moramo provjeriti kako je definirana inverzna Fourierova transformacija u paketu `SymPy.jl`, vidi \n",
    "http://docs.sympy.org/latest/search.html?q=inverse_fourier_transform."
   ]
  },
  {
   "cell_type": "markdown",
   "metadata": {
    "collapsed": true
   },
   "source": [
    "### Plancharelova jednakost\n",
    "\n",
    "Vrijedi\n",
    "\n",
    "$$\n",
    "\\int\\limits_{-\\infty}^\\infty \\big|u(x)\\big|^2 dx =\n",
    "\\frac{1}{2\\pi} \\int\\limits_{-\\infty}^\\infty \\big|\\hat u(\\xi) \\big|^2 d\\xi.\n",
    "$$"
   ]
  },
  {
   "cell_type": "code",
   "execution_count": null,
   "metadata": {},
   "outputs": [],
   "source": []
  }
 ],
 "metadata": {
  "@webio": {
   "lastCommId": null,
   "lastKernelId": null
  },
  "anaconda-cloud": {},
  "kernelspec": {
   "display_name": "Julia 1.5.3",
   "language": "julia",
   "name": "julia-1.5"
  },
  "language_info": {
   "file_extension": ".jl",
   "mimetype": "application/julia",
   "name": "julia",
   "version": "1.5.3"
  }
 },
 "nbformat": 4,
 "nbformat_minor": 1
}
