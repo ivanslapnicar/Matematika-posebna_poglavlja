{
 "cells": [
  {
   "cell_type": "markdown",
   "metadata": {},
   "source": [
    "# Problem svojstvenih vrijednosti i SLP\n",
    "\n",
    "\n",
    "\n",
    "## Matrični problem svojstvenih vrijednosti\n",
    "\n",
    "Neka je $A\\in\\mathbb{R}^{n\\times n}$ kvadratna realna matrica. \n",
    "\n",
    "Tražimo __svojstvene vrijednosti__  $\\lambda\\in\\mathbb{R}$ i __svojstvene vektore__ $x\\in\\mathbb{R}^{n}\\neq 0$,\n",
    "takve da je \n",
    "\n",
    "$$Ax=\\lambda x.$$\n",
    "\n",
    "Dakle, $A$ djeluje na vektor $x$ tako da ga produži ili skrati, eventualno promijeni orijentaciju, dok smjer ostaje isti. \n",
    "\n",
    "Vrijedi \n",
    "\n",
    "$$ Ax-\\lambda I x=(A-\\lambda I)x=0.$$\n",
    "\n",
    "Ovo je homogeni sustav linearnih jednadžbi koji ima netrivijalna rješenja ($x\\neq 0$) ako i samo ako je \n",
    "matrica sustava $(A-\\lambda I)$ singularna, odnosno ako i samo ako je \n",
    "\n",
    "$$\n",
    "\\det(A-\\lambda I)=0.\n",
    "$$\n",
    "\n",
    "Izraz $\\det(A-\\lambda I)$ je polinom stupnja $n$ u varijabli $\\lambda$ s realnim koeficijentima, koji, prema osnovnom teoremu algebre, ima \n",
    "$n$ nul-točaka koje su ili realne ili dolaze u konjugirano kompleksnim parovima. \n",
    "\n",
    "__Teorem__. Svojstveni vektori koji odgovaraju različitim svojstvenim vrijednostima su linearno nezavisni.\n",
    "\n",
    "_Dokaz_ : Zaista, neka je\n",
    "\n",
    "$$Ax=\\lambda x, \\quad Ay=\\mu y, \\quad x,y\\neq 0, \\quad \\lambda\\neq\\mu.\n",
    "$$\n",
    "\n",
    "Pretpostavimo da su $x$ i $y$ linearno zavisni, odnosno, \n",
    "\n",
    "$$\n",
    "\\alpha x+\\beta y=0, \\quad |\\alpha|+|\\beta|>0.\n",
    "$$\n",
    "\n",
    "Vrijedi\n",
    "\n",
    "$$\n",
    "A\\cdot (\\alpha x+\\beta y)=\\alpha\\lambda x+\\beta\\mu y=A\\cdot 0=0.\n",
    "$$\n",
    "\n",
    "Množenje prve jednakosti s $\\lambda$ daje sustav\n",
    "\n",
    "\\begin{align*}\n",
    "\\lambda\\alpha x+\\lambda\\beta y&=0 \\\\\n",
    "\\alpha\\lambda x+\\beta\\mu y&=0.\n",
    "\\end{align*}\n",
    "\n",
    "Oduzmanje prve jednadžbu od druge daje\n",
    "\n",
    "$$\n",
    "\\beta(\\mu-\\lambda)y=0\n",
    "$$\n",
    "\n",
    "pa je, zbog $\\mu-\\lambda\\neq 0$ i $y\\neq 0$, nužno $\\beta=0$. \n",
    "Uvrštavanjem u originalnu lineranu kombinaciju, zbog $x\\neq 0$ \n",
    "slijedi $\\alpha=0$ pa su $x$ i $y$ linearno nezavisni.\n",
    "\n",
    "__Teorem__.  Ako je $A$ simetrična matrica, $A=A^T$, tada su sve svojstvene vrijednosti realne i imaju ortogonalni skup svojstvenih vektora, osnosno postoji matrica $U$ takva da je \n",
    "\n",
    "$$U^TU=UU^T=I\\\\\n",
    "A=U\\Lambda U^T, \\quad AU=U\\Lambda, \\quad A=\\sum_{i=1}^n \\lambda_i u_i u_i^T.\n",
    "$$"
   ]
  },
  {
   "cell_type": "code",
   "execution_count": 1,
   "metadata": {},
   "outputs": [
    {
     "data": {
      "text/plain": [
       "6×6 Symmetric{Int64,Array{Int64,2}}:\n",
       "  4   5   8   0   4  -5\n",
       "  5   8   4   4  -6   3\n",
       "  8   4  -2   7  -2  -1\n",
       "  0   4   7  -5   8   4\n",
       "  4  -6  -2   8   4   5\n",
       " -5   3  -1   4   5  -5"
      ]
     },
     "execution_count": 1,
     "metadata": {},
     "output_type": "execute_result"
    }
   ],
   "source": [
    "# Primjer\n",
    "using Random\n",
    "using LinearAlgebra\n",
    "Random.seed!(123)\n",
    "A=Symmetric(rand(-8:8,6,6))"
   ]
  },
  {
   "cell_type": "code",
   "execution_count": 2,
   "metadata": {},
   "outputs": [],
   "source": [
    "λ,U=eigen(A);"
   ]
  },
  {
   "cell_type": "code",
   "execution_count": 3,
   "metadata": {},
   "outputs": [
    {
     "data": {
      "text/plain": [
       "6-element Array{Float64,1}:\n",
       " -16.78825498545218\n",
       " -10.946368235982092\n",
       "  -3.384790324621555\n",
       "   6.126367019360032\n",
       "  12.146633357565722\n",
       "  16.846413169130102"
      ]
     },
     "execution_count": 3,
     "metadata": {},
     "output_type": "execute_result"
    }
   ],
   "source": [
    "λ"
   ]
  },
  {
   "cell_type": "code",
   "execution_count": 4,
   "metadata": {},
   "outputs": [
    {
     "data": {
      "text/plain": [
       "6×6 Array{Float64,2}:\n",
       "  0.358762   0.271525   0.355105    0.589811   -0.199927  -0.532557\n",
       " -0.221776  -0.216516   0.377507   -0.4971      0.275612  -0.662083\n",
       " -0.473453   0.217676  -0.692331    0.1492     -0.107357  -0.46406\n",
       "  0.610116  -0.402748  -0.387809   -0.303819   -0.408908  -0.235892\n",
       " -0.450014  -0.181829   0.315436   -0.0356752  -0.810777   0.079332\n",
       "  0.152295   0.797963   0.0466018  -0.53775    -0.219034   0.0271755"
      ]
     },
     "execution_count": 4,
     "metadata": {},
     "output_type": "execute_result"
    }
   ],
   "source": [
    "U"
   ]
  },
  {
   "cell_type": "code",
   "execution_count": 5,
   "metadata": {},
   "outputs": [
    {
     "data": {
      "text/plain": [
       "6×6 Array{Float64,2}:\n",
       "  1.0           1.68228e-16   9.87847e-17  …  -2.10137e-16   1.08e-16\n",
       "  1.68228e-16   1.0           3.78466e-17     -8.45449e-17  -1.56246e-17\n",
       "  9.87847e-17   3.78466e-17   1.0              2.11489e-16   4.17025e-16\n",
       "  1.94956e-16   2.07958e-16  -7.84995e-17     -8.4726e-16   -8.22899e-18\n",
       " -2.10137e-16  -8.45449e-17   2.11489e-16      1.0           2.50227e-16\n",
       "  1.08e-16     -1.56246e-17   4.17025e-16  …   2.50227e-16   1.0"
      ]
     },
     "execution_count": 5,
     "metadata": {},
     "output_type": "execute_result"
    }
   ],
   "source": [
    "# Ortogonalnost matrice svojstvenih vektora\n",
    "U'*U"
   ]
  },
  {
   "cell_type": "code",
   "execution_count": 6,
   "metadata": {},
   "outputs": [
    {
     "data": {
      "text/plain": [
       "6×6 Array{Float64,2}:\n",
       "  1.0          -3.79115e-16   2.9842e-16   …   3.3752e-16    1.49794e-17\n",
       " -3.79115e-16   1.0           1.71152e-16     -1.81033e-16   1.06193e-16\n",
       "  2.9842e-16    1.71152e-16   1.0              4.92852e-17  -1.23019e-16\n",
       "  2.52259e-16   1.29262e-17   4.31826e-16     -1.98108e-16  -1.30056e-16\n",
       "  3.3752e-16   -1.81033e-16   4.92852e-17      1.0          -3.50325e-16\n",
       "  1.49794e-17   1.06193e-16  -1.23019e-16  …  -3.50325e-16   1.0"
      ]
     },
     "execution_count": 6,
     "metadata": {},
     "output_type": "execute_result"
    }
   ],
   "source": [
    "U*U'"
   ]
  },
  {
   "cell_type": "code",
   "execution_count": 7,
   "metadata": {},
   "outputs": [
    {
     "data": {
      "text/plain": [
       "6×6 Array{Float64,2}:\n",
       "  4.0           5.0   8.0   1.07851e-14   4.0  -5.0\n",
       "  5.0           8.0   4.0   4.0          -6.0   3.0\n",
       "  8.0           4.0  -2.0   7.0          -2.0  -1.0\n",
       "  1.04265e-14   4.0   7.0  -5.0           8.0   4.0\n",
       "  4.0          -6.0  -2.0   8.0           4.0   5.0\n",
       " -5.0           3.0  -1.0   4.0           5.0  -5.0"
      ]
     },
     "execution_count": 7,
     "metadata": {},
     "output_type": "execute_result"
    }
   ],
   "source": [
    "# Provjerimo točnost rastava\n",
    "U*Diagonal(λ)*U'"
   ]
  },
  {
   "cell_type": "code",
   "execution_count": 8,
   "metadata": {},
   "outputs": [
    {
     "data": {
      "text/plain": [
       "6×6 Array{Float64,2}:\n",
       "  4.0           5.0   8.0   1.02141e-14   4.0  -5.0\n",
       "  5.0           8.0   4.0   4.0          -6.0   3.0\n",
       "  8.0           4.0  -2.0   7.0          -2.0  -1.0\n",
       "  1.02141e-14   4.0   7.0  -5.0           8.0   4.0\n",
       "  4.0          -6.0  -2.0   8.0           4.0   5.0\n",
       " -5.0           3.0  -1.0   4.0           5.0  -5.0"
      ]
     },
     "execution_count": 8,
     "metadata": {},
     "output_type": "execute_result"
    }
   ],
   "source": [
    "sum([λ[i]*U[:,i]*U[:,i]' for i=1:size(A,1)])"
   ]
  },
  {
   "cell_type": "markdown",
   "metadata": {},
   "source": [
    "### Primjer - rješavanje algebarskih problema pomoću svojstvenih vrijednosti i vektora\n",
    "\n",
    "Riješimo problem (prema [Logan, Applied Mathematics, str. 205][Log97])\n",
    "\n",
    "$$\n",
    "Ax=\\mu x + f.\n",
    "$$\n",
    "\n",
    "Neka je $A$ simetrična, $A=U\\Lambda U^T$ i $\\mu\\neq \\lambda_i$. Stupci matrice $U$ su ortogonalni i tvore bazu $n$-dimenzionalnog prostora, odnosno svaki vektor se može prikazati kao njihova linearna kombinacija:\n",
    "\n",
    "$$\n",
    "x=\\sum_{i=1}^n c_i u_i, \\quad  f=\\sum_{i=1}^n f_i u_i.\n",
    "$$\n",
    "\n",
    "Imamo\n",
    "\n",
    "$$\n",
    "A\\cdot \\big(\\sum c_i u_i\\big)=\\mu \\big(\\sum c_i u_i\\big) + \\sum f_i u_i,\n",
    "$$\n",
    "\n",
    "odnosno,\n",
    "\n",
    "$$\n",
    "\\sum c_i \\lambda_i u_i=\\mu \\big(\\sum c_i u_i\\big) + \\sum f_i u_i.\n",
    "$$\n",
    "\n",
    "Izjednačavanje koeficijenata daje\n",
    "\n",
    "$$\n",
    "c_i\\lambda_i= \\mu c_i + f_i\n",
    "$$\n",
    "\n",
    "pa je \n",
    "\n",
    "$$\n",
    "c_i=\\frac{f_i}{\\lambda_i-\\mu}.\n",
    "$$\n",
    "\n",
    "[Log97]: http://aaa \"J. David Logan, 'Applied Mathematics', 2nd Edition, Wiley, New York, 1997\""
   ]
  },
  {
   "cell_type": "markdown",
   "metadata": {},
   "source": [
    "Riješimo problem $Ax=\\mu x+f$ za $\\mu=2$:\n",
    "\n",
    "$$\n",
    "A=\\begin{bmatrix} 1&2 &3&4 \\\\ 2 &5&6&7 \\\\ 3&6&8&9 \\\\ 4&7&9&10\\end{bmatrix},\\quad\n",
    "f=\\begin{bmatrix}1 \\\\ 2\\\\ 1\\\\ 2\\\\\\end{bmatrix}.\n",
    "$$"
   ]
  },
  {
   "cell_type": "code",
   "execution_count": 9,
   "metadata": {},
   "outputs": [
    {
     "data": {
      "text/plain": [
       "4-element Array{Int64,1}:\n",
       " 1\n",
       " 2\n",
       " 1\n",
       " 2"
      ]
     },
     "execution_count": 9,
     "metadata": {},
     "output_type": "execute_result"
    }
   ],
   "source": [
    "μ=2\n",
    "A=[1 2 3 4;2 5 6 7;3 6 8 9;4 7 9 10]\n",
    "f=[1;2;1;2]"
   ]
  },
  {
   "cell_type": "code",
   "execution_count": 10,
   "metadata": {},
   "outputs": [],
   "source": [
    "λ,U=eigen(A);"
   ]
  },
  {
   "cell_type": "markdown",
   "metadata": {},
   "source": [
    "Izračunajmo koeficijente vektora $f$ u bazi $U$"
   ]
  },
  {
   "cell_type": "code",
   "execution_count": 11,
   "metadata": {},
   "outputs": [
    {
     "data": {
      "text/plain": [
       "4-element Array{Float64,1}:\n",
       " -0.3177815884084647\n",
       "  0.9132526461104922\n",
       "  0.3689419195350334\n",
       " -2.9881208687820147"
      ]
     },
     "execution_count": 11,
     "metadata": {},
     "output_type": "execute_result"
    }
   ],
   "source": [
    "fU=[f⋅U[:,i] for i=1:4]"
   ]
  },
  {
   "cell_type": "markdown",
   "metadata": {},
   "source": [
    "Izračunajmo koeficijente $c$ rješenja $x$ u bazi $U$ "
   ]
  },
  {
   "cell_type": "code",
   "execution_count": 12,
   "metadata": {},
   "outputs": [
    {
     "data": {
      "text/plain": [
       "4-element Array{Float64,1}:\n",
       "  0.11327153699672189\n",
       " -0.5031455476924442\n",
       " -0.25586073655934255\n",
       " -0.1354386906098454"
      ]
     },
     "execution_count": 12,
     "metadata": {},
     "output_type": "execute_result"
    }
   ],
   "source": [
    "c=fU./(λ.-μ)"
   ]
  },
  {
   "cell_type": "code",
   "execution_count": 13,
   "metadata": {},
   "outputs": [
    {
     "data": {
      "text/plain": [
       "4-element Array{Float64,1}:\n",
       " -0.07407407407407397\n",
       " -0.3333333333333335\n",
       "  0.4814814814814819\n",
       "  0.037037037037036646"
      ]
     },
     "execution_count": 13,
     "metadata": {},
     "output_type": "execute_result"
    }
   ],
   "source": [
    "# Rješenje\n",
    "x=sum([c[i]*U[:,i] for i=1:4])"
   ]
  },
  {
   "cell_type": "code",
   "execution_count": 14,
   "metadata": {},
   "outputs": [
    {
     "data": {
      "text/plain": [
       "4-element Array{Float64,1}:\n",
       " -6.661338147750939e-16\n",
       " -4.440892098500626e-16\n",
       " -1.4432899320127035e-15\n",
       "  0.0"
      ]
     },
     "execution_count": 14,
     "metadata": {},
     "output_type": "execute_result"
    }
   ],
   "source": [
    "# Provjera\n",
    "A*x-μ*x-f"
   ]
  },
  {
   "cell_type": "markdown",
   "metadata": {},
   "source": [
    "## Linearni operatori\n",
    "\n",
    "__Operator__ je preslikavnje $L:X\\to X$ gdje je $X$ vektorski prostor. \n",
    "\n",
    "\n",
    "Neka su \n",
    "$x,y\\in X$ i $\\alpha, \\beta \\in \\mathbb{R}$.\n",
    "\n",
    "Operator je __linearan__ ako je __aditivan__,\n",
    "\n",
    "$$\n",
    "L(x+y)=L(x)+L(y),\n",
    "$$\n",
    "\n",
    "i __homogen__,\n",
    "\n",
    "$$\n",
    "L(\\alpha x)=\\alpha L(x).\n",
    "$$\n",
    "\n",
    "Oba svojstva zajedno možemo pisati kao \n",
    "\n",
    "$$\n",
    "L(\\alpha x+\\beta y)=\\alpha L(x) + \\beta L(y).\n",
    "$$\n",
    "\n",
    "\n",
    "### Primjer - matrica je linearni operator na skupu vektora\n",
    "\n",
    "Uz definiciju\n",
    "\n",
    "$$\n",
    "A(x)\\equiv A\\cdot x,\n",
    "$$\n",
    "\n",
    "vrijedi\n",
    "\n",
    "$$\n",
    "A(x+y)=A(x)+A(y),\\quad A(\\alpha x)=\\alpha A(x), \n",
    "$$\n",
    "\n",
    "odnosno\n",
    "\n",
    "$$\n",
    "A(\\alpha x+\\beta y)=\\alpha A(x)+\\beta A(y).\n",
    "$$"
   ]
  },
  {
   "cell_type": "markdown",
   "metadata": {},
   "source": [
    "## Skalarni produkt, norma, ortogonalnost i baza\n",
    "\n",
    "Neka su zadani vektori $x,y\\in \\mathbb{R}^n$. Definiramo sljedeće:\n",
    "\n",
    "__Skalarni produkt__: $(x,y)=x\\cdot y=\\displaystyle\\sum_{i=1}^n x_i y_i$\n",
    "\n",
    "__Norma__: $\\|x \\|=\\sqrt{(x,x)}=\\sqrt{\\displaystyle\\sum_{i=1}^n x_i x_i}=\\sqrt{\\displaystyle\\sum_{i=1}^n x_i^2}$\n",
    "\n",
    "__Ortogonalnost__: $x\\perp y \\Leftrightarrow (x,y)=0$\n",
    "\n",
    "__Baza__: Skup od $n$ vektora, $x_1,x_2,\\ldots, x_n$ je __potpun__ (baza) ako za svaki vektor $y$ vrijedi\n",
    "\n",
    "$$\n",
    "y=\\displaystyle\\sum_{i=1}^n \\xi_i x_i.\n",
    "$$\n",
    "\n",
    "Ako su, dodatno, vektori $x_i$ međusobno ortogonalni, onda je \n",
    "\n",
    "$$\n",
    "\\xi_j=\\frac{(y,x_j)}{(x_j,x_j)}\\equiv \\frac{(y,x_j)}{\\|x_j\\|^2}.\n",
    "$$"
   ]
  },
  {
   "cell_type": "code",
   "execution_count": 15,
   "metadata": {},
   "outputs": [
    {
     "data": {
      "text/plain": [
       "(5.551115123125783e-17, 1.0000000000000004)"
      ]
     },
     "execution_count": 15,
     "metadata": {},
     "output_type": "execute_result"
    }
   ],
   "source": [
    "# Primjer za vektore - ortogonalnost i norma\n",
    "U[:,1]⋅U[:,3], U[:,3]⋅U[:,3]"
   ]
  },
  {
   "cell_type": "code",
   "execution_count": 16,
   "metadata": {},
   "outputs": [
    {
     "data": {
      "text/plain": [
       "4×2 Array{Float64,2}:\n",
       " 0.136725    0.136725\n",
       " 0.00546956  0.00546956\n",
       " 0.947711    0.947711\n",
       " 0.141059    0.141059"
      ]
     },
     "execution_count": 16,
     "metadata": {},
     "output_type": "execute_result"
    }
   ],
   "source": [
    "# Baza\n",
    "n=size(A,1)\n",
    "x=rand(n)\n",
    "# Računamo koeficijente po bazi stupaca od U\n",
    "ξ=Array{Float64}(undef,n)\n",
    "for i=1:n\n",
    "    ξ[i]=x⋅U[:,i]\n",
    "end\n",
    "# Provjera\n",
    "y=sum([ξ[i]*U[:,i] for i=1:n])\n",
    "[x y]"
   ]
  },
  {
   "cell_type": "markdown",
   "metadata": {},
   "source": [
    "### Primjer - vektorski prostor funkcija\n",
    "\n",
    "Neka su zadane funkcije $f,g\\in C[a,b]$, gdje je $C[a,b]$ skup svih funkcija neprekidnih na intervalu $[a,b]$. \n",
    "\n",
    "_Napomena_. Umjesto skupa $C[a,b]$ može se uzeti i neki skup, na primjer, skup svih kvadratno integrabilnih funkcija na intervalu $[a,b]$ kojeg označavamo s  $L^2[a,b]$.\n",
    "\n",
    "Definirajmo __skalarni produkt__: \n",
    "\n",
    "$$(f,g)=f\\cdot g=\\displaystyle \\int\\limits_{a}^b f(x) g(x) \\, dx.$$\n",
    "\n",
    "Odavde slijede definicije:\n",
    "\n",
    "__norma__: $\\|f \\|=\\sqrt{(f,f)}=\\sqrt{\\displaystyle\\int\\limits_{a}^b f(x)\\cdot f(x)\\, dx}=\n",
    "\\sqrt{\\displaystyle\\int\\limits_{a}^b f^2(x)\\, dx}$\n",
    "\n",
    "__ortogonalnost__: $f\\perp g \\Leftrightarrow (f,g)=0$\n",
    "\n",
    "__baza__: Skup od $\\infty$ funkcija, $f_1,f_2,\\ldots$, je __potpun__ (baza) ako za svaku funkciju $g$ vrijedi\n",
    "\n",
    "$$\n",
    "g(x)=\\displaystyle\\sum_{i=1}^\\infty \\xi_i f_i(x).\n",
    "$$\n",
    "\n",
    "Ukoliko su, dodatno, funkcije $f_i$ međusobno ortogonalne, tada je \n",
    "\n",
    "$$\n",
    "\\xi_j=\\frac{(g,f_j)}{(f_j,f_j)}\\equiv \\frac{(g,f_j)}{\\|f_j\\|^2}.\n",
    "$$"
   ]
  },
  {
   "cell_type": "markdown",
   "metadata": {},
   "source": [
    "### Numeričko i simboličko računanje\n",
    "\n",
    "Julia ima više paketa pomoću kojih možemo računati određene integrale. \n",
    "\n",
    "Najjednostavnija je funkcija `quadgk()` iz paketa \n",
    "[QuadGK.jl](https://github.com/JuliaMath/QuadGK.jl) (numeričko računanje).\n",
    "\n",
    "Ovdje ćemo skalarni produkt definirati pomoću funkcije\n",
    "`integrate()` iz paketa `SymPy.jl` (simboličko računanje)."
   ]
  },
  {
   "cell_type": "code",
   "execution_count": 17,
   "metadata": {},
   "outputs": [],
   "source": [
    "# Učitavanje paketa\n",
    "using SymPy"
   ]
  },
  {
   "cell_type": "code",
   "execution_count": 18,
   "metadata": {},
   "outputs": [
    {
     "name": "stdout",
     "output_type": "stream",
     "text": [
      "search: \u001b[0m\u001b[1mi\u001b[22m\u001b[0m\u001b[1mn\u001b[22m\u001b[0m\u001b[1mt\u001b[22m\u001b[0m\u001b[1me\u001b[22m\u001b[0m\u001b[1mg\u001b[22m\u001b[0m\u001b[1mr\u001b[22m\u001b[0m\u001b[1ma\u001b[22m\u001b[0m\u001b[1mt\u001b[22m\u001b[0m\u001b[1me\u001b[22m l\u001b[0m\u001b[1mi\u001b[22m\u001b[0m\u001b[1mn\u001b[22me_in\u001b[0m\u001b[1mt\u001b[22m\u001b[0m\u001b[1me\u001b[22m\u001b[0m\u001b[1mg\u001b[22m\u001b[0m\u001b[1mr\u001b[22m\u001b[0m\u001b[1ma\u001b[22m\u001b[0m\u001b[1mt\u001b[22m\u001b[0m\u001b[1me\u001b[22m\n",
      "\n"
     ]
    },
    {
     "data": {
      "text/latex": [
       "No documentation found.\n",
       "\n",
       "\\texttt{SymPy.integrate} is a \\texttt{Function}.\n",
       "\n",
       "\\begin{verbatim}\n",
       "# 4 methods for generic function \"integrate\":\n",
       "[1] integrate(ex::SymPy.SymbolicObject, a::Number, b::Number) in SymPy at C:\\Users\\Ivan\\.julia\\packages\\SymPy\\fI5pg\\src\\mathfuns.jl:65\n",
       "[2] integrate(f::Function) in SymPy at C:\\Users\\Ivan\\.julia\\packages\\SymPy\\fI5pg\\src\\mathfuns.jl:77\n",
       "[3] integrate(f::Function, a::Number, b::Number) in SymPy at C:\\Users\\Ivan\\.julia\\packages\\SymPy\\fI5pg\\src\\mathfuns.jl:73\n",
       "[4] integrate(ex::SymPy.SymbolicObject, args...; kwargs...) in SymPy at C:\\Users\\Ivan\\.julia\\packages\\SymPy\\fI5pg\\src\\importexport.jl:102\n",
       "\\end{verbatim}\n"
      ],
      "text/markdown": [
       "No documentation found.\n",
       "\n",
       "`SymPy.integrate` is a `Function`.\n",
       "\n",
       "```\n",
       "# 4 methods for generic function \"integrate\":\n",
       "[1] integrate(ex::SymPy.SymbolicObject, a::Number, b::Number) in SymPy at C:\\Users\\Ivan\\.julia\\packages\\SymPy\\fI5pg\\src\\mathfuns.jl:65\n",
       "[2] integrate(f::Function) in SymPy at C:\\Users\\Ivan\\.julia\\packages\\SymPy\\fI5pg\\src\\mathfuns.jl:77\n",
       "[3] integrate(f::Function, a::Number, b::Number) in SymPy at C:\\Users\\Ivan\\.julia\\packages\\SymPy\\fI5pg\\src\\mathfuns.jl:73\n",
       "[4] integrate(ex::SymPy.SymbolicObject, args...; kwargs...) in SymPy at C:\\Users\\Ivan\\.julia\\packages\\SymPy\\fI5pg\\src\\importexport.jl:102\n",
       "```\n"
      ],
      "text/plain": [
       "  No documentation found.\n",
       "\n",
       "  \u001b[36mSymPy.integrate\u001b[39m is a \u001b[36mFunction\u001b[39m.\n",
       "\n",
       "\u001b[36m  # 4 methods for generic function \"integrate\":\u001b[39m\n",
       "\u001b[36m  [1] integrate(ex::SymPy.SymbolicObject, a::Number, b::Number) in SymPy at C:\\Users\\Ivan\\.julia\\packages\\SymPy\\fI5pg\\src\\mathfuns.jl:65\u001b[39m\n",
       "\u001b[36m  [2] integrate(f::Function) in SymPy at C:\\Users\\Ivan\\.julia\\packages\\SymPy\\fI5pg\\src\\mathfuns.jl:77\u001b[39m\n",
       "\u001b[36m  [3] integrate(f::Function, a::Number, b::Number) in SymPy at C:\\Users\\Ivan\\.julia\\packages\\SymPy\\fI5pg\\src\\mathfuns.jl:73\u001b[39m\n",
       "\u001b[36m  [4] integrate(ex::SymPy.SymbolicObject, args...; kwargs...) in SymPy at C:\\Users\\Ivan\\.julia\\packages\\SymPy\\fI5pg\\src\\importexport.jl:102\u001b[39m"
      ]
     },
     "execution_count": 18,
     "metadata": {},
     "output_type": "execute_result"
    }
   ],
   "source": [
    "?integrate"
   ]
  },
  {
   "cell_type": "code",
   "execution_count": 19,
   "metadata": {},
   "outputs": [
    {
     "data": {
      "text/plain": [
       "dot (generic function with 34 methods)"
      ]
     },
     "execution_count": 19,
     "metadata": {},
     "output_type": "execute_result"
    }
   ],
   "source": [
    "# Definirajmo skalarni produkt\n",
    "import LinearAlgebra.⋅\n",
    "⋅(f,g,a,b)=integrate(f*g,(x,a,b))"
   ]
  },
  {
   "cell_type": "markdown",
   "metadata": {},
   "source": [
    "### Primjer - Fourierov red\n",
    "\n",
    "Promotrimo periodične funkcije s periodom $2\\pi$ na intervalu $[-\\pi,\\pi]$.\n",
    "\n",
    "Funkcije\n",
    "\n",
    "$$\n",
    "1, \\sin x, \\cos x, \\sin(2x), \\cos(2x), \\sin(3x),\\cos(3x), \\ldots\n",
    "$$\n",
    "\n",
    "su međusobno ortogonalne, Vrijedi $\\|1\\|=\\sqrt{2\\pi}$, a norma svih ostalih funkcija je $\\sqrt{\\pi}$. Skup je potpun, odnosno svaka periodična funkcija $f$ se može prikazati kao \n",
    "\n",
    "$$\n",
    "f(x)=\\sum_{i=0}^\\infty \\xi_i f_i(x), \\quad \\xi_i=\\frac{(f,f_i)}{(f_i,f_i)},\n",
    "$$\n",
    "\n",
    "u smislu teorema o konvergenciji Fourierovog reda. \n",
    "Ovo su standardne formule za razvoj funkcije u Fourierov red."
   ]
  },
  {
   "cell_type": "code",
   "execution_count": 20,
   "metadata": {},
   "outputs": [
    {
     "data": {
      "text/latex": [
       "\\begin{equation*}x\\end{equation*}"
      ],
      "text/plain": [
       "x"
      ]
     },
     "execution_count": 20,
     "metadata": {},
     "output_type": "execute_result"
    }
   ],
   "source": [
    "# Definirajmo simboličku varijablu x\n",
    "x=Sym(\"x\")"
   ]
  },
  {
   "cell_type": "code",
   "execution_count": 21,
   "metadata": {},
   "outputs": [
    {
     "data": {
      "text/plain": [
       "(3.14159265358979, 0)"
      ]
     },
     "execution_count": 21,
     "metadata": {},
     "output_type": "execute_result"
    }
   ],
   "source": [
    "# Provjerimo ortogonalnost funkcija\n",
    "⋅(sin(x),sin(x),-π,π), ⋅(sin(2*x),cos(3*x),-π,π)"
   ]
  },
  {
   "cell_type": "code",
   "execution_count": 22,
   "metadata": {},
   "outputs": [
    {
     "data": {
      "text/plain": [
       "(m, n)"
      ]
     },
     "execution_count": 22,
     "metadata": {},
     "output_type": "execute_result"
    }
   ],
   "source": [
    "m,n = symbols(\"m,n\", integer=true, positive=true)"
   ]
  },
  {
   "cell_type": "code",
   "execution_count": 23,
   "metadata": {},
   "outputs": [
    {
     "data": {
      "text/latex": [
       "\\begin{equation*}\\begin{cases} 0 & \\text{for}\\: m \\neq n \\\\\\pi & \\text{otherwise} \\end{cases}\\end{equation*}"
      ],
      "text/plain": [
       "⎧0  for m ≠ n\n",
       "⎨            \n",
       "⎩π  otherwise"
      ]
     },
     "execution_count": 23,
     "metadata": {},
     "output_type": "execute_result"
    }
   ],
   "source": [
    "⋅(sin(m*x),sin(n*x),-PI,PI)"
   ]
  },
  {
   "cell_type": "markdown",
   "metadata": {},
   "source": [
    "__Primjer:__ Razvijmo funkciju definiranu formulom $f(x)=x^2$ na intervalu $[-1,1]$ u Fourier-ov red."
   ]
  },
  {
   "cell_type": "code",
   "execution_count": 24,
   "metadata": {},
   "outputs": [
    {
     "data": {
      "text/latex": [
       "\\begin{equation*}x^{2}\\end{equation*}"
      ],
      "text/plain": [
       " 2\n",
       "x "
      ]
     },
     "execution_count": 24,
     "metadata": {},
     "output_type": "execute_result"
    }
   ],
   "source": [
    "f=x^2"
   ]
  },
  {
   "cell_type": "code",
   "execution_count": 25,
   "metadata": {},
   "outputs": [
    {
     "data": {
      "text/latex": [
       "\\begin{equation*}1\\end{equation*}"
      ],
      "text/plain": [
       "1"
      ]
     },
     "execution_count": 25,
     "metadata": {},
     "output_type": "execute_result"
    }
   ],
   "source": [
    "f₀=x/x"
   ]
  },
  {
   "cell_type": "code",
   "execution_count": 26,
   "metadata": {},
   "outputs": [
    {
     "data": {
      "text/latex": [
       "\\begin{equation*}2\\end{equation*}"
      ],
      "text/plain": [
       "2"
      ]
     },
     "execution_count": 26,
     "metadata": {},
     "output_type": "execute_result"
    }
   ],
   "source": [
    "⋅(f₀,f₀,-1,1)"
   ]
  },
  {
   "cell_type": "code",
   "execution_count": 27,
   "metadata": {},
   "outputs": [
    {
     "data": {
      "text/latex": [
       "\\begin{equation*}\\frac{1}{3}\\end{equation*}"
      ],
      "text/plain": [
       "1/3"
      ]
     },
     "execution_count": 27,
     "metadata": {},
     "output_type": "execute_result"
    }
   ],
   "source": [
    "a₀=⋅(f,f₀,-1,1)/⋅(f₀,f₀,-1,1)"
   ]
  },
  {
   "cell_type": "code",
   "execution_count": 28,
   "metadata": {},
   "outputs": [
    {
     "data": {
      "text/latex": [
       "\\begin{equation*}\\frac{4 \\left(-1\\right)^{n}}{\\pi^{2} n^{2}}\\end{equation*}"
      ],
      "text/plain": [
       "      n\n",
       "4⋅(-1) \n",
       "───────\n",
       "  2  2 \n",
       " π ⋅n  "
      ]
     },
     "execution_count": 28,
     "metadata": {},
     "output_type": "execute_result"
    }
   ],
   "source": [
    "# Funkcija je parna pa imamo samo članove uz kosinuse\n",
    "aₙ=⋅(f,cos(n*PI*x),-1,1)/⋅(cos(n*PI*x),cos(n*PI*x),-1,1)"
   ]
  },
  {
   "cell_type": "code",
   "execution_count": 29,
   "metadata": {},
   "outputs": [
    {
     "data": {
      "text/latex": [
       "\\begin{equation*}\\frac{1}{\\pi^{2}}\\end{equation*}"
      ],
      "text/plain": [
       "1 \n",
       "──\n",
       " 2\n",
       "π "
      ]
     },
     "execution_count": 29,
     "metadata": {},
     "output_type": "execute_result"
    }
   ],
   "source": [
    "# Na primjer\n",
    "aₙ(2)"
   ]
  },
  {
   "cell_type": "code",
   "execution_count": 30,
   "metadata": {},
   "outputs": [
    {
     "name": "stderr",
     "output_type": "stream",
     "text": [
      "┌ Info: Precompiling Plots [91a5bcdd-55d7-5caf-9e0b-520d859cae80]\n",
      "└ @ Base loading.jl:1278\n"
     ]
    }
   ],
   "source": [
    "# Provjerimo crtanjem\n",
    "using Plots"
   ]
  },
  {
   "cell_type": "code",
   "execution_count": 31,
   "metadata": {},
   "outputs": [
    {
     "data": {
      "image/svg+xml": [
       "<?xml version=\"1.0\" encoding=\"utf-8\"?>\n",
       "<svg xmlns=\"http://www.w3.org/2000/svg\" xmlns:xlink=\"http://www.w3.org/1999/xlink\" width=\"600\" height=\"400\" viewBox=\"0 0 2400 1600\">\n",
       "<defs>\n",
       "  <clipPath id=\"clip550\">\n",
       "    <rect x=\"0\" y=\"0\" width=\"2400\" height=\"1600\"/>\n",
       "  </clipPath>\n",
       "</defs>\n",
       "<path clip-path=\"url(#clip550)\" d=\"\n",
       "M0 1600 L2400 1600 L2400 0 L0 0  Z\n",
       "  \" fill=\"#ffffff\" fill-rule=\"evenodd\" fill-opacity=\"1\"/>\n",
       "<defs>\n",
       "  <clipPath id=\"clip551\">\n",
       "    <rect x=\"480\" y=\"0\" width=\"1681\" height=\"1600\"/>\n",
       "  </clipPath>\n",
       "</defs>\n",
       "<path clip-path=\"url(#clip550)\" d=\"\n",
       "M174.862 1486.45 L2352.76 1486.45 L2352.76 47.2441 L174.862 47.2441  Z\n",
       "  \" fill=\"#ffffff\" fill-rule=\"evenodd\" fill-opacity=\"1\"/>\n",
       "<defs>\n",
       "  <clipPath id=\"clip552\">\n",
       "    <rect x=\"174\" y=\"47\" width=\"2179\" height=\"1440\"/>\n",
       "  </clipPath>\n",
       "</defs>\n",
       "<polyline clip-path=\"url(#clip552)\" style=\"stroke:#000000; stroke-width:2; stroke-opacity:0.1; fill:none\" points=\"\n",
       "  236.501,1486.45 236.501,47.2441 \n",
       "  \"/>\n",
       "<polyline clip-path=\"url(#clip552)\" style=\"stroke:#000000; stroke-width:2; stroke-opacity:0.1; fill:none\" points=\"\n",
       "  750.155,1486.45 750.155,47.2441 \n",
       "  \"/>\n",
       "<polyline clip-path=\"url(#clip552)\" style=\"stroke:#000000; stroke-width:2; stroke-opacity:0.1; fill:none\" points=\"\n",
       "  1263.81,1486.45 1263.81,47.2441 \n",
       "  \"/>\n",
       "<polyline clip-path=\"url(#clip552)\" style=\"stroke:#000000; stroke-width:2; stroke-opacity:0.1; fill:none\" points=\"\n",
       "  1777.46,1486.45 1777.46,47.2441 \n",
       "  \"/>\n",
       "<polyline clip-path=\"url(#clip552)\" style=\"stroke:#000000; stroke-width:2; stroke-opacity:0.1; fill:none\" points=\"\n",
       "  2291.12,1486.45 2291.12,47.2441 \n",
       "  \"/>\n",
       "<polyline clip-path=\"url(#clip550)\" style=\"stroke:#000000; stroke-width:4; stroke-opacity:1; fill:none\" points=\"\n",
       "  174.862,1486.45 2352.76,1486.45 \n",
       "  \"/>\n",
       "<polyline clip-path=\"url(#clip550)\" style=\"stroke:#000000; stroke-width:4; stroke-opacity:1; fill:none\" points=\"\n",
       "  236.501,1486.45 236.501,1469.18 \n",
       "  \"/>\n",
       "<polyline clip-path=\"url(#clip550)\" style=\"stroke:#000000; stroke-width:4; stroke-opacity:1; fill:none\" points=\"\n",
       "  750.155,1486.45 750.155,1469.18 \n",
       "  \"/>\n",
       "<polyline clip-path=\"url(#clip550)\" style=\"stroke:#000000; stroke-width:4; stroke-opacity:1; fill:none\" points=\"\n",
       "  1263.81,1486.45 1263.81,1469.18 \n",
       "  \"/>\n",
       "<polyline clip-path=\"url(#clip550)\" style=\"stroke:#000000; stroke-width:4; stroke-opacity:1; fill:none\" points=\"\n",
       "  1777.46,1486.45 1777.46,1469.18 \n",
       "  \"/>\n",
       "<polyline clip-path=\"url(#clip550)\" style=\"stroke:#000000; stroke-width:4; stroke-opacity:1; fill:none\" points=\"\n",
       "  2291.12,1486.45 2291.12,1469.18 \n",
       "  \"/>\n",
       "<path clip-path=\"url(#clip550)\" d=\"M 0 0 M190.286 1530.29 L219.961 1530.29 L219.961 1534.23 L190.286 1534.23 L190.286 1530.29 Z\" fill=\"#000000\" fill-rule=\"evenodd\" fill-opacity=\"1\" /><path clip-path=\"url(#clip550)\" d=\"M 0 0 M225.841 1543.18 L233.48 1543.18 L233.48 1516.82 L225.17 1518.49 L225.17 1514.23 L233.433 1512.56 L238.109 1512.56 L238.109 1543.18 L245.748 1543.18 L245.748 1547.12 L225.841 1547.12 L225.841 1543.18 Z\" fill=\"#000000\" fill-rule=\"evenodd\" fill-opacity=\"1\" /><path clip-path=\"url(#clip550)\" d=\"M 0 0 M250.818 1541.24 L255.702 1541.24 L255.702 1547.12 L250.818 1547.12 L250.818 1541.24 Z\" fill=\"#000000\" fill-rule=\"evenodd\" fill-opacity=\"1\" /><path clip-path=\"url(#clip550)\" d=\"M 0 0 M270.771 1515.64 Q267.16 1515.64 265.331 1519.2 Q263.526 1522.75 263.526 1529.87 Q263.526 1536.98 265.331 1540.55 Q267.16 1544.09 270.771 1544.09 Q274.405 1544.09 276.211 1540.55 Q278.04 1536.98 278.04 1529.87 Q278.04 1522.75 276.211 1519.2 Q274.405 1515.64 270.771 1515.64 M270.771 1511.93 Q276.581 1511.93 279.637 1516.54 Q282.716 1521.12 282.716 1529.87 Q282.716 1538.6 279.637 1543.21 Q276.581 1547.79 270.771 1547.79 Q264.961 1547.79 261.882 1543.21 Q258.827 1538.6 258.827 1529.87 Q258.827 1521.12 261.882 1516.54 Q264.961 1511.93 270.771 1511.93 Z\" fill=\"#000000\" fill-rule=\"evenodd\" fill-opacity=\"1\" /><path clip-path=\"url(#clip550)\" d=\"M 0 0 M703.824 1530.29 L733.5 1530.29 L733.5 1534.23 L703.824 1534.23 L703.824 1530.29 Z\" fill=\"#000000\" fill-rule=\"evenodd\" fill-opacity=\"1\" /><path clip-path=\"url(#clip550)\" d=\"M 0 0 M748.569 1515.64 Q744.958 1515.64 743.129 1519.2 Q741.324 1522.75 741.324 1529.87 Q741.324 1536.98 743.129 1540.55 Q744.958 1544.09 748.569 1544.09 Q752.203 1544.09 754.009 1540.55 Q755.838 1536.98 755.838 1529.87 Q755.838 1522.75 754.009 1519.2 Q752.203 1515.64 748.569 1515.64 M748.569 1511.93 Q754.379 1511.93 757.435 1516.54 Q760.513 1521.12 760.513 1529.87 Q760.513 1538.6 757.435 1543.21 Q754.379 1547.79 748.569 1547.79 Q742.759 1547.79 739.68 1543.21 Q736.625 1538.6 736.625 1529.87 Q736.625 1521.12 739.68 1516.54 Q742.759 1511.93 748.569 1511.93 Z\" fill=\"#000000\" fill-rule=\"evenodd\" fill-opacity=\"1\" /><path clip-path=\"url(#clip550)\" d=\"M 0 0 M765.583 1541.24 L770.467 1541.24 L770.467 1547.12 L765.583 1547.12 L765.583 1541.24 Z\" fill=\"#000000\" fill-rule=\"evenodd\" fill-opacity=\"1\" /><path clip-path=\"url(#clip550)\" d=\"M 0 0 M775.583 1512.56 L793.939 1512.56 L793.939 1516.5 L779.865 1516.5 L779.865 1524.97 Q780.884 1524.62 781.902 1524.46 Q782.921 1524.27 783.939 1524.27 Q789.726 1524.27 793.106 1527.44 Q796.486 1530.62 796.486 1536.03 Q796.486 1541.61 793.013 1544.71 Q789.541 1547.79 783.222 1547.79 Q781.046 1547.79 778.777 1547.42 Q776.532 1547.05 774.125 1546.31 L774.125 1541.61 Q776.208 1542.74 778.43 1543.3 Q780.652 1543.86 783.129 1543.86 Q787.134 1543.86 789.472 1541.75 Q791.81 1539.64 791.81 1536.03 Q791.81 1532.42 789.472 1530.31 Q787.134 1528.21 783.129 1528.21 Q781.254 1528.21 779.379 1528.62 Q777.527 1529.04 775.583 1529.92 L775.583 1512.56 Z\" fill=\"#000000\" fill-rule=\"evenodd\" fill-opacity=\"1\" /><path clip-path=\"url(#clip550)\" d=\"M 0 0 M1245.33 1515.64 Q1241.71 1515.64 1239.89 1519.2 Q1238.08 1522.75 1238.08 1529.87 Q1238.08 1536.98 1239.89 1540.55 Q1241.71 1544.09 1245.33 1544.09 Q1248.96 1544.09 1250.77 1540.55 Q1252.59 1536.98 1252.59 1529.87 Q1252.59 1522.75 1250.77 1519.2 Q1248.96 1515.64 1245.33 1515.64 M1245.33 1511.93 Q1251.14 1511.93 1254.19 1516.54 Q1257.27 1521.12 1257.27 1529.87 Q1257.27 1538.6 1254.19 1543.21 Q1251.14 1547.79 1245.33 1547.79 Q1239.52 1547.79 1236.44 1543.21 Q1233.38 1538.6 1233.38 1529.87 Q1233.38 1521.12 1236.44 1516.54 Q1239.52 1511.93 1245.33 1511.93 Z\" fill=\"#000000\" fill-rule=\"evenodd\" fill-opacity=\"1\" /><path clip-path=\"url(#clip550)\" d=\"M 0 0 M1262.34 1541.24 L1267.22 1541.24 L1267.22 1547.12 L1262.34 1547.12 L1262.34 1541.24 Z\" fill=\"#000000\" fill-rule=\"evenodd\" fill-opacity=\"1\" /><path clip-path=\"url(#clip550)\" d=\"M 0 0 M1282.29 1515.64 Q1278.68 1515.64 1276.85 1519.2 Q1275.05 1522.75 1275.05 1529.87 Q1275.05 1536.98 1276.85 1540.55 Q1278.68 1544.09 1282.29 1544.09 Q1285.93 1544.09 1287.73 1540.55 Q1289.56 1536.98 1289.56 1529.87 Q1289.56 1522.75 1287.73 1519.2 Q1285.93 1515.64 1282.29 1515.64 M1282.29 1511.93 Q1288.1 1511.93 1291.16 1516.54 Q1294.24 1521.12 1294.24 1529.87 Q1294.24 1538.6 1291.16 1543.21 Q1288.1 1547.79 1282.29 1547.79 Q1276.48 1547.79 1273.4 1543.21 Q1270.35 1538.6 1270.35 1529.87 Q1270.35 1521.12 1273.4 1516.54 Q1276.48 1511.93 1282.29 1511.93 Z\" fill=\"#000000\" fill-rule=\"evenodd\" fill-opacity=\"1\" /><path clip-path=\"url(#clip550)\" d=\"M 0 0 M1759.48 1515.64 Q1755.87 1515.64 1754.04 1519.2 Q1752.23 1522.75 1752.23 1529.87 Q1752.23 1536.98 1754.04 1540.55 Q1755.87 1544.09 1759.48 1544.09 Q1763.11 1544.09 1764.92 1540.55 Q1766.75 1536.98 1766.75 1529.87 Q1766.75 1522.75 1764.92 1519.2 Q1763.11 1515.64 1759.48 1515.64 M1759.48 1511.93 Q1765.29 1511.93 1768.34 1516.54 Q1771.42 1521.12 1771.42 1529.87 Q1771.42 1538.6 1768.34 1543.21 Q1765.29 1547.79 1759.48 1547.79 Q1753.67 1547.79 1750.59 1543.21 Q1747.53 1538.6 1747.53 1529.87 Q1747.53 1521.12 1750.59 1516.54 Q1753.67 1511.93 1759.48 1511.93 Z\" fill=\"#000000\" fill-rule=\"evenodd\" fill-opacity=\"1\" /><path clip-path=\"url(#clip550)\" d=\"M 0 0 M1776.49 1541.24 L1781.38 1541.24 L1781.38 1547.12 L1776.49 1547.12 L1776.49 1541.24 Z\" fill=\"#000000\" fill-rule=\"evenodd\" fill-opacity=\"1\" /><path clip-path=\"url(#clip550)\" d=\"M 0 0 M1786.49 1512.56 L1804.85 1512.56 L1804.85 1516.5 L1790.77 1516.5 L1790.77 1524.97 Q1791.79 1524.62 1792.81 1524.46 Q1793.83 1524.27 1794.85 1524.27 Q1800.63 1524.27 1804.01 1527.44 Q1807.39 1530.62 1807.39 1536.03 Q1807.39 1541.61 1803.92 1544.71 Q1800.45 1547.79 1794.13 1547.79 Q1791.95 1547.79 1789.69 1547.42 Q1787.44 1547.05 1785.03 1546.31 L1785.03 1541.61 Q1787.12 1542.74 1789.34 1543.3 Q1791.56 1543.86 1794.04 1543.86 Q1798.04 1543.86 1800.38 1541.75 Q1802.72 1539.64 1802.72 1536.03 Q1802.72 1532.42 1800.38 1530.31 Q1798.04 1528.21 1794.04 1528.21 Q1792.16 1528.21 1790.29 1528.62 Q1788.44 1529.04 1786.49 1529.92 L1786.49 1512.56 Z\" fill=\"#000000\" fill-rule=\"evenodd\" fill-opacity=\"1\" /><path clip-path=\"url(#clip550)\" d=\"M 0 0 M2263.02 1543.18 L2270.65 1543.18 L2270.65 1516.82 L2262.34 1518.49 L2262.34 1514.23 L2270.61 1512.56 L2275.28 1512.56 L2275.28 1543.18 L2282.92 1543.18 L2282.92 1547.12 L2263.02 1547.12 L2263.02 1543.18 Z\" fill=\"#000000\" fill-rule=\"evenodd\" fill-opacity=\"1\" /><path clip-path=\"url(#clip550)\" d=\"M 0 0 M2287.99 1541.24 L2292.88 1541.24 L2292.88 1547.12 L2287.99 1547.12 L2287.99 1541.24 Z\" fill=\"#000000\" fill-rule=\"evenodd\" fill-opacity=\"1\" /><path clip-path=\"url(#clip550)\" d=\"M 0 0 M2307.95 1515.64 Q2304.33 1515.64 2302.51 1519.2 Q2300.7 1522.75 2300.7 1529.87 Q2300.7 1536.98 2302.51 1540.55 Q2304.33 1544.09 2307.95 1544.09 Q2311.58 1544.09 2313.39 1540.55 Q2315.21 1536.98 2315.21 1529.87 Q2315.21 1522.75 2313.39 1519.2 Q2311.58 1515.64 2307.95 1515.64 M2307.95 1511.93 Q2313.76 1511.93 2316.81 1516.54 Q2319.89 1521.12 2319.89 1529.87 Q2319.89 1538.6 2316.81 1543.21 Q2313.76 1547.79 2307.95 1547.79 Q2302.14 1547.79 2299.06 1543.21 Q2296 1538.6 2296 1529.87 Q2296 1521.12 2299.06 1516.54 Q2302.14 1511.93 2307.95 1511.93 Z\" fill=\"#000000\" fill-rule=\"evenodd\" fill-opacity=\"1\" /><polyline clip-path=\"url(#clip552)\" style=\"stroke:#000000; stroke-width:2; stroke-opacity:0.1; fill:none\" points=\"\n",
       "  174.862,1445.75 2352.76,1445.75 \n",
       "  \"/>\n",
       "<polyline clip-path=\"url(#clip552)\" style=\"stroke:#000000; stroke-width:2; stroke-opacity:0.1; fill:none\" points=\"\n",
       "  174.862,1106.31 2352.76,1106.31 \n",
       "  \"/>\n",
       "<polyline clip-path=\"url(#clip552)\" style=\"stroke:#000000; stroke-width:2; stroke-opacity:0.1; fill:none\" points=\"\n",
       "  174.862,766.863 2352.76,766.863 \n",
       "  \"/>\n",
       "<polyline clip-path=\"url(#clip552)\" style=\"stroke:#000000; stroke-width:2; stroke-opacity:0.1; fill:none\" points=\"\n",
       "  174.862,427.419 2352.76,427.419 \n",
       "  \"/>\n",
       "<polyline clip-path=\"url(#clip552)\" style=\"stroke:#000000; stroke-width:2; stroke-opacity:0.1; fill:none\" points=\"\n",
       "  174.862,87.9763 2352.76,87.9763 \n",
       "  \"/>\n",
       "<polyline clip-path=\"url(#clip550)\" style=\"stroke:#000000; stroke-width:4; stroke-opacity:1; fill:none\" points=\"\n",
       "  174.862,1486.45 174.862,47.2441 \n",
       "  \"/>\n",
       "<polyline clip-path=\"url(#clip550)\" style=\"stroke:#000000; stroke-width:4; stroke-opacity:1; fill:none\" points=\"\n",
       "  174.862,1445.75 200.997,1445.75 \n",
       "  \"/>\n",
       "<polyline clip-path=\"url(#clip550)\" style=\"stroke:#000000; stroke-width:4; stroke-opacity:1; fill:none\" points=\"\n",
       "  174.862,1106.31 200.997,1106.31 \n",
       "  \"/>\n",
       "<polyline clip-path=\"url(#clip550)\" style=\"stroke:#000000; stroke-width:4; stroke-opacity:1; fill:none\" points=\"\n",
       "  174.862,766.863 200.997,766.863 \n",
       "  \"/>\n",
       "<polyline clip-path=\"url(#clip550)\" style=\"stroke:#000000; stroke-width:4; stroke-opacity:1; fill:none\" points=\"\n",
       "  174.862,427.419 200.997,427.419 \n",
       "  \"/>\n",
       "<polyline clip-path=\"url(#clip550)\" style=\"stroke:#000000; stroke-width:4; stroke-opacity:1; fill:none\" points=\"\n",
       "  174.862,87.9763 200.997,87.9763 \n",
       "  \"/>\n",
       "<path clip-path=\"url(#clip550)\" d=\"M 0 0 M62.9365 1431.55 Q59.3254 1431.55 57.4967 1435.11 Q55.6912 1438.65 55.6912 1445.78 Q55.6912 1452.89 57.4967 1456.45 Q59.3254 1460 62.9365 1460 Q66.5707 1460 68.3763 1456.45 Q70.205 1452.89 70.205 1445.78 Q70.205 1438.65 68.3763 1435.11 Q66.5707 1431.55 62.9365 1431.55 M62.9365 1427.84 Q68.7467 1427.84 71.8022 1432.45 Q74.8809 1437.03 74.8809 1445.78 Q74.8809 1454.51 71.8022 1459.12 Q68.7467 1463.7 62.9365 1463.7 Q57.1264 1463.7 54.0477 1459.12 Q50.9921 1454.51 50.9921 1445.78 Q50.9921 1437.03 54.0477 1432.45 Q57.1264 1427.84 62.9365 1427.84 Z\" fill=\"#000000\" fill-rule=\"evenodd\" fill-opacity=\"1\" /><path clip-path=\"url(#clip550)\" d=\"M 0 0 M79.9503 1457.15 L84.8345 1457.15 L84.8345 1463.03 L79.9503 1463.03 L79.9503 1457.15 Z\" fill=\"#000000\" fill-rule=\"evenodd\" fill-opacity=\"1\" /><path clip-path=\"url(#clip550)\" d=\"M 0 0 M99.9039 1431.55 Q96.2928 1431.55 94.4641 1435.11 Q92.6586 1438.65 92.6586 1445.78 Q92.6586 1452.89 94.4641 1456.45 Q96.2928 1460 99.9039 1460 Q103.538 1460 105.344 1456.45 Q107.172 1452.89 107.172 1445.78 Q107.172 1438.65 105.344 1435.11 Q103.538 1431.55 99.9039 1431.55 M99.9039 1427.84 Q105.714 1427.84 108.77 1432.45 Q111.848 1437.03 111.848 1445.78 Q111.848 1454.51 108.77 1459.12 Q105.714 1463.7 99.9039 1463.7 Q94.0937 1463.7 91.0151 1459.12 Q87.9595 1454.51 87.9595 1445.78 Q87.9595 1437.03 91.0151 1432.45 Q94.0937 1427.84 99.9039 1427.84 Z\" fill=\"#000000\" fill-rule=\"evenodd\" fill-opacity=\"1\" /><path clip-path=\"url(#clip550)\" d=\"M 0 0 M126.918 1431.55 Q123.307 1431.55 121.478 1435.11 Q119.672 1438.65 119.672 1445.78 Q119.672 1452.89 121.478 1456.45 Q123.307 1460 126.918 1460 Q130.552 1460 132.357 1456.45 Q134.186 1452.89 134.186 1445.78 Q134.186 1438.65 132.357 1435.11 Q130.552 1431.55 126.918 1431.55 M126.918 1427.84 Q132.728 1427.84 135.783 1432.45 Q138.862 1437.03 138.862 1445.78 Q138.862 1454.51 135.783 1459.12 Q132.728 1463.7 126.918 1463.7 Q121.107 1463.7 118.029 1459.12 Q114.973 1454.51 114.973 1445.78 Q114.973 1437.03 118.029 1432.45 Q121.107 1427.84 126.918 1427.84 Z\" fill=\"#000000\" fill-rule=\"evenodd\" fill-opacity=\"1\" /><path clip-path=\"url(#clip550)\" d=\"M 0 0 M65.5291 1092.1 Q61.918 1092.1 60.0893 1095.67 Q58.2838 1099.21 58.2838 1106.34 Q58.2838 1113.45 60.0893 1117.01 Q61.918 1120.55 65.5291 1120.55 Q69.1633 1120.55 70.9689 1117.01 Q72.7976 1113.45 72.7976 1106.34 Q72.7976 1099.21 70.9689 1095.67 Q69.1633 1092.1 65.5291 1092.1 M65.5291 1088.4 Q71.3392 1088.4 74.3948 1093.01 Q77.4735 1097.59 77.4735 1106.34 Q77.4735 1115.07 74.3948 1119.67 Q71.3392 1124.26 65.5291 1124.26 Q59.7189 1124.26 56.6402 1119.67 Q53.5847 1115.07 53.5847 1106.34 Q53.5847 1097.59 56.6402 1093.01 Q59.7189 1088.4 65.5291 1088.4 Z\" fill=\"#000000\" fill-rule=\"evenodd\" fill-opacity=\"1\" /><path clip-path=\"url(#clip550)\" d=\"M 0 0 M82.5429 1117.71 L87.4271 1117.71 L87.4271 1123.59 L82.5429 1123.59 L82.5429 1117.71 Z\" fill=\"#000000\" fill-rule=\"evenodd\" fill-opacity=\"1\" /><path clip-path=\"url(#clip550)\" d=\"M 0 0 M96.5243 1119.65 L112.844 1119.65 L112.844 1123.59 L90.8993 1123.59 L90.8993 1119.65 Q93.5613 1116.9 98.1447 1112.27 Q102.751 1107.61 103.932 1106.27 Q106.177 1103.75 107.057 1102.01 Q107.959 1100.25 107.959 1098.56 Q107.959 1095.81 106.015 1094.07 Q104.094 1092.34 100.992 1092.34 Q98.7928 1092.34 96.3391 1093.1 Q93.9086 1093.86 91.1308 1095.41 L91.1308 1090.69 Q93.9549 1089.56 96.4085 1088.98 Q98.8622 1088.4 100.899 1088.4 Q106.27 1088.4 109.464 1091.09 Q112.658 1093.77 112.658 1098.26 Q112.658 1100.39 111.848 1102.31 Q111.061 1104.21 108.955 1106.8 Q108.376 1107.47 105.274 1110.69 Q102.172 1113.89 96.5243 1119.65 Z\" fill=\"#000000\" fill-rule=\"evenodd\" fill-opacity=\"1\" /><path clip-path=\"url(#clip550)\" d=\"M 0 0 M117.959 1089.03 L136.316 1089.03 L136.316 1092.96 L122.242 1092.96 L122.242 1101.43 Q123.26 1101.09 124.279 1100.92 Q125.297 1100.74 126.316 1100.74 Q132.103 1100.74 135.482 1103.91 Q138.862 1107.08 138.862 1112.5 Q138.862 1118.08 135.39 1121.18 Q131.918 1124.26 125.598 1124.26 Q123.422 1124.26 121.154 1123.89 Q118.908 1123.52 116.501 1122.78 L116.501 1118.08 Q118.584 1119.21 120.807 1119.77 Q123.029 1120.32 125.506 1120.32 Q129.51 1120.32 131.848 1118.22 Q134.186 1116.11 134.186 1112.5 Q134.186 1108.89 131.848 1106.78 Q129.51 1104.67 125.506 1104.67 Q123.631 1104.67 121.756 1105.09 Q119.904 1105.51 117.959 1106.39 L117.959 1089.03 Z\" fill=\"#000000\" fill-rule=\"evenodd\" fill-opacity=\"1\" /><path clip-path=\"url(#clip550)\" d=\"M 0 0 M63.9319 752.661 Q60.3208 752.661 58.4921 756.226 Q56.6865 759.768 56.6865 766.897 Q56.6865 774.004 58.4921 777.568 Q60.3208 781.11 63.9319 781.11 Q67.5661 781.11 69.3717 777.568 Q71.2004 774.004 71.2004 766.897 Q71.2004 759.768 69.3717 756.226 Q67.5661 752.661 63.9319 752.661 M63.9319 748.958 Q69.742 748.958 72.7976 753.564 Q75.8763 758.147 75.8763 766.897 Q75.8763 775.624 72.7976 780.231 Q69.742 784.814 63.9319 784.814 Q58.1217 784.814 55.043 780.231 Q51.9875 775.624 51.9875 766.897 Q51.9875 758.147 55.043 753.564 Q58.1217 748.958 63.9319 748.958 Z\" fill=\"#000000\" fill-rule=\"evenodd\" fill-opacity=\"1\" /><path clip-path=\"url(#clip550)\" d=\"M 0 0 M80.9457 778.263 L85.8299 778.263 L85.8299 784.143 L80.9457 784.143 L80.9457 778.263 Z\" fill=\"#000000\" fill-rule=\"evenodd\" fill-opacity=\"1\" /><path clip-path=\"url(#clip550)\" d=\"M 0 0 M90.9456 749.583 L109.302 749.583 L109.302 753.518 L95.228 753.518 L95.228 761.99 Q96.2465 761.643 97.265 761.481 Q98.2835 761.295 99.3021 761.295 Q105.089 761.295 108.469 764.467 Q111.848 767.638 111.848 773.055 Q111.848 778.633 108.376 781.735 Q104.904 784.814 98.5845 784.814 Q96.4085 784.814 94.14 784.443 Q91.8947 784.073 89.4873 783.332 L89.4873 778.633 Q91.5706 779.768 93.7928 780.323 Q96.015 780.879 98.4919 780.879 Q102.496 780.879 104.834 778.772 Q107.172 776.666 107.172 773.055 Q107.172 769.444 104.834 767.337 Q102.496 765.231 98.4919 765.231 Q96.6169 765.231 94.7419 765.647 Q92.89 766.064 90.9456 766.944 L90.9456 749.583 Z\" fill=\"#000000\" fill-rule=\"evenodd\" fill-opacity=\"1\" /><path clip-path=\"url(#clip550)\" d=\"M 0 0 M126.918 752.661 Q123.307 752.661 121.478 756.226 Q119.672 759.768 119.672 766.897 Q119.672 774.004 121.478 777.568 Q123.307 781.11 126.918 781.11 Q130.552 781.11 132.357 777.568 Q134.186 774.004 134.186 766.897 Q134.186 759.768 132.357 756.226 Q130.552 752.661 126.918 752.661 M126.918 748.958 Q132.728 748.958 135.783 753.564 Q138.862 758.147 138.862 766.897 Q138.862 775.624 135.783 780.231 Q132.728 784.814 126.918 784.814 Q121.107 784.814 118.029 780.231 Q114.973 775.624 114.973 766.897 Q114.973 758.147 118.029 753.564 Q121.107 748.958 126.918 748.958 Z\" fill=\"#000000\" fill-rule=\"evenodd\" fill-opacity=\"1\" /><path clip-path=\"url(#clip550)\" d=\"M 0 0 M64.8346 413.218 Q61.2236 413.218 59.3949 416.783 Q57.5893 420.325 57.5893 427.454 Q57.5893 434.561 59.3949 438.125 Q61.2236 441.667 64.8346 441.667 Q68.4689 441.667 70.2744 438.125 Q72.1031 434.561 72.1031 427.454 Q72.1031 420.325 70.2744 416.783 Q68.4689 413.218 64.8346 413.218 M64.8346 409.514 Q70.6448 409.514 73.7003 414.121 Q76.779 418.704 76.779 427.454 Q76.779 436.181 73.7003 440.787 Q70.6448 445.371 64.8346 445.371 Q59.0245 445.371 55.9458 440.787 Q52.8903 436.181 52.8903 427.454 Q52.8903 418.704 55.9458 414.121 Q59.0245 409.514 64.8346 409.514 Z\" fill=\"#000000\" fill-rule=\"evenodd\" fill-opacity=\"1\" /><path clip-path=\"url(#clip550)\" d=\"M 0 0 M81.8484 438.82 L86.7327 438.82 L86.7327 444.699 L81.8484 444.699 L81.8484 438.82 Z\" fill=\"#000000\" fill-rule=\"evenodd\" fill-opacity=\"1\" /><path clip-path=\"url(#clip550)\" d=\"M 0 0 M90.6215 410.139 L112.844 410.139 L112.844 412.13 L100.297 444.699 L95.4132 444.699 L107.219 414.075 L90.6215 414.075 L90.6215 410.139 Z\" fill=\"#000000\" fill-rule=\"evenodd\" fill-opacity=\"1\" /><path clip-path=\"url(#clip550)\" d=\"M 0 0 M117.959 410.139 L136.316 410.139 L136.316 414.075 L122.242 414.075 L122.242 422.547 Q123.26 422.2 124.279 422.037 Q125.297 421.852 126.316 421.852 Q132.103 421.852 135.482 425.024 Q138.862 428.195 138.862 433.611 Q138.862 439.19 135.39 442.292 Q131.918 445.371 125.598 445.371 Q123.422 445.371 121.154 445 Q118.908 444.63 116.501 443.889 L116.501 439.19 Q118.584 440.324 120.807 440.88 Q123.029 441.436 125.506 441.436 Q129.51 441.436 131.848 439.329 Q134.186 437.223 134.186 433.611 Q134.186 430 131.848 427.894 Q129.51 425.787 125.506 425.787 Q123.631 425.787 121.756 426.204 Q119.904 426.621 117.959 427.5 L117.959 410.139 Z\" fill=\"#000000\" fill-rule=\"evenodd\" fill-opacity=\"1\" /><path clip-path=\"url(#clip550)\" d=\"M 0 0 M54.9736 101.321 L62.6124 101.321 L62.6124 74.9555 L54.3023 76.6222 L54.3023 72.3629 L62.5661 70.6963 L67.242 70.6963 L67.242 101.321 L74.8809 101.321 L74.8809 105.256 L54.9736 105.256 L54.9736 101.321 Z\" fill=\"#000000\" fill-rule=\"evenodd\" fill-opacity=\"1\" /><path clip-path=\"url(#clip550)\" d=\"M 0 0 M79.9503 99.3767 L84.8345 99.3767 L84.8345 105.256 L79.9503 105.256 L79.9503 99.3767 Z\" fill=\"#000000\" fill-rule=\"evenodd\" fill-opacity=\"1\" /><path clip-path=\"url(#clip550)\" d=\"M 0 0 M99.9039 73.775 Q96.2928 73.775 94.4641 77.3398 Q92.6586 80.8814 92.6586 88.011 Q92.6586 95.1174 94.4641 98.6822 Q96.2928 102.224 99.9039 102.224 Q103.538 102.224 105.344 98.6822 Q107.172 95.1174 107.172 88.011 Q107.172 80.8814 105.344 77.3398 Q103.538 73.775 99.9039 73.775 M99.9039 70.0713 Q105.714 70.0713 108.77 74.6777 Q111.848 79.261 111.848 88.011 Q111.848 96.7378 108.77 101.344 Q105.714 105.928 99.9039 105.928 Q94.0937 105.928 91.0151 101.344 Q87.9595 96.7378 87.9595 88.011 Q87.9595 79.261 91.0151 74.6777 Q94.0937 70.0713 99.9039 70.0713 Z\" fill=\"#000000\" fill-rule=\"evenodd\" fill-opacity=\"1\" /><path clip-path=\"url(#clip550)\" d=\"M 0 0 M126.918 73.775 Q123.307 73.775 121.478 77.3398 Q119.672 80.8814 119.672 88.011 Q119.672 95.1174 121.478 98.6822 Q123.307 102.224 126.918 102.224 Q130.552 102.224 132.357 98.6822 Q134.186 95.1174 134.186 88.011 Q134.186 80.8814 132.357 77.3398 Q130.552 73.775 126.918 73.775 M126.918 70.0713 Q132.728 70.0713 135.783 74.6777 Q138.862 79.261 138.862 88.011 Q138.862 96.7378 135.783 101.344 Q132.728 105.928 126.918 105.928 Q121.107 105.928 118.029 101.344 Q114.973 96.7378 114.973 88.011 Q114.973 79.261 118.029 74.6777 Q121.107 70.0713 126.918 70.0713 Z\" fill=\"#000000\" fill-rule=\"evenodd\" fill-opacity=\"1\" /><polyline clip-path=\"url(#clip552)\" style=\"stroke:#009af9; stroke-width:4; stroke-opacity:1; fill:none\" points=\"\n",
       "  236.501,87.9763 246.533,114.366 256.566,140.497 349.331,369.848 442.096,577.056 497.844,690.928 553.591,796.803 600.726,880.081 647.86,957.642 699.061,1035.42 \n",
       "  750.262,1106.45 797.464,1165.95 844.667,1219.73 895.273,1271.01 945.879,1315.71 1004.51,1359.25 1063.14,1393.94 1115.25,1417.35 1167.36,1433.78 1213.05,1442.43 \n",
       "  1258.74,1445.72 1308.56,1443.17 1358.37,1434.24 1408.48,1418.82 1458.6,1396.93 1514,1365.22 1569.41,1325.6 1622.13,1280.57 1674.84,1228.39 1729.66,1166.55 \n",
       "  1784.47,1096.98 1830.61,1032.43 1876.75,962.394 1933.09,869.465 1989.42,768.37 2042.37,665.892 2095.33,556.198 2180.17,365.421 2265,156.123 2278.06,122.269 \n",
       "  2291.12,87.9763 \n",
       "  \"/>\n",
       "<polyline clip-path=\"url(#clip552)\" style=\"stroke:#e26f46; stroke-width:4; stroke-opacity:1; fill:none\" points=\"\n",
       "  236.501,172.47 241.517,172.858 246.533,174.022 251.549,175.957 256.566,178.656 279.757,200.727 302.948,237.198 326.139,285.448 349.331,342.195 395.713,467.061 \n",
       "  442.096,586.874 469.97,650.109 497.844,705.774 525.717,754.974 553.591,799.82 600.726,872.318 647.86,947.222 699.061,1031.71 750.262,1111.78 797.464,1174.29 \n",
       "  844.667,1224.1 895.273,1267.84 945.879,1308.55 1004.51,1355.91 1063.14,1398.14 1115.25,1423.84 1167.36,1436.11 1213.05,1439.08 1258.74,1439.35 1308.56,1439.18 \n",
       "  1358.37,1436.34 1408.48,1425.2 1458.6,1401.71 1514,1363.05 1569.41,1318.53 1622.13,1276.11 1674.84,1231.6 1729.66,1174.88 1784.47,1101.28 1830.61,1028.34 \n",
       "  1876.75,952.137 1933.09,862.762 1989.42,775.449 2015.9,730.962 2042.37,681.511 2068.85,625.616 2095.33,562.862 2137.75,451.174 2180.17,337.364 2201.38,285.682 \n",
       "  2222.59,241.097 2243.8,206.143 2265,182.912 2271.53,178.364 2278.06,175.096 2284.59,173.127 2291.12,172.47 \n",
       "  \"/>\n",
       "<path clip-path=\"url(#clip550)\" d=\"\n",
       "M1987.15 276.658 L2280.16 276.658 L2280.16 95.2176 L1987.15 95.2176  Z\n",
       "  \" fill=\"#ffffff\" fill-rule=\"evenodd\" fill-opacity=\"1\"/>\n",
       "<polyline clip-path=\"url(#clip550)\" style=\"stroke:#000000; stroke-width:4; stroke-opacity:1; fill:none\" points=\"\n",
       "  1987.15,276.658 2280.16,276.658 2280.16,95.2176 1987.15,95.2176 1987.15,276.658 \n",
       "  \"/>\n",
       "<polyline clip-path=\"url(#clip550)\" style=\"stroke:#009af9; stroke-width:4; stroke-opacity:1; fill:none\" points=\"\n",
       "  2011.35,155.698 2156.54,155.698 \n",
       "  \"/>\n",
       "<path clip-path=\"url(#clip550)\" d=\"M 0 0 M2194.59 175.385 Q2192.78 180.015 2191.07 181.427 Q2189.35 182.839 2186.48 182.839 L2183.08 182.839 L2183.08 179.274 L2185.58 179.274 Q2187.34 179.274 2188.31 178.44 Q2189.29 177.607 2190.47 174.505 L2191.23 172.561 L2180.74 147.052 L2185.26 147.052 L2193.36 167.329 L2201.46 147.052 L2205.97 147.052 L2194.59 175.385 Z\" fill=\"#000000\" fill-rule=\"evenodd\" fill-opacity=\"1\" /><path clip-path=\"url(#clip550)\" d=\"M 0 0 M2211.85 169.042 L2219.49 169.042 L2219.49 142.677 L2211.18 144.343 L2211.18 140.084 L2219.45 138.418 L2224.12 138.418 L2224.12 169.042 L2231.76 169.042 L2231.76 172.978 L2211.85 172.978 L2211.85 169.042 Z\" fill=\"#000000\" fill-rule=\"evenodd\" fill-opacity=\"1\" /><polyline clip-path=\"url(#clip550)\" style=\"stroke:#e26f46; stroke-width:4; stroke-opacity:1; fill:none\" points=\"\n",
       "  2011.35,216.178 2156.54,216.178 \n",
       "  \"/>\n",
       "<path clip-path=\"url(#clip550)\" d=\"M 0 0 M2194.59 235.865 Q2192.78 240.495 2191.07 241.907 Q2189.35 243.319 2186.48 243.319 L2183.08 243.319 L2183.08 239.754 L2185.58 239.754 Q2187.34 239.754 2188.31 238.92 Q2189.29 238.087 2190.47 234.985 L2191.23 233.041 L2180.74 207.532 L2185.26 207.532 L2193.36 227.809 L2201.46 207.532 L2205.97 207.532 L2194.59 235.865 Z\" fill=\"#000000\" fill-rule=\"evenodd\" fill-opacity=\"1\" /><path clip-path=\"url(#clip550)\" d=\"M 0 0 M2215.07 229.522 L2231.39 229.522 L2231.39 233.458 L2209.45 233.458 L2209.45 229.522 Q2212.11 226.768 2216.69 222.138 Q2221.3 217.485 2222.48 216.143 Q2224.72 213.62 2225.6 211.884 Q2226.51 210.124 2226.51 208.435 Q2226.51 205.68 2224.56 203.944 Q2222.64 202.208 2219.54 202.208 Q2217.34 202.208 2214.89 202.972 Q2212.46 203.735 2209.68 205.286 L2209.68 200.564 Q2212.5 199.43 2214.96 198.851 Q2217.41 198.273 2219.45 198.273 Q2224.82 198.273 2228.01 200.958 Q2231.21 203.643 2231.21 208.134 Q2231.21 210.263 2230.4 212.185 Q2229.61 214.083 2227.5 216.675 Q2226.92 217.347 2223.82 220.564 Q2220.72 223.759 2215.07 229.522 Z\" fill=\"#000000\" fill-rule=\"evenodd\" fill-opacity=\"1\" /></svg>\n"
      ]
     },
     "execution_count": 31,
     "metadata": {},
     "output_type": "execute_result"
    }
   ],
   "source": [
    "plot([x->x^2,x->a₀+sum([aₙ(i)*cos(i*PI*x) for i=1:6])],-1,1)"
   ]
  },
  {
   "cell_type": "markdown",
   "metadata": {},
   "source": [
    "## Diferencijalni problem svojstvenih vrijednosti\n",
    "\n",
    "Skup $C^2[a,b]$ je skup svih funkcija koje na intervalu $[a,b]$ imaju dvije neprekidne derivacije. \n",
    "\n",
    "\n",
    "### Primjer\n",
    "\n",
    "Operator druge derivacije $A\\equiv\\displaystyle\\frac{d^2}{dx^2}$ je linearan operator. \n",
    "\n",
    "Riješimo problem svojstvenih vrijednosti\n",
    "\n",
    "$$\n",
    "\\frac{d^2}{dx^2} \\Phi=\\lambda \\Phi, \\quad 0<x<l,\\quad \\Phi(0)=\\Phi(l)=0.\n",
    "$$\n",
    "\n",
    "Razlikujemo slučajeve $\\lambda=0$, $\\lambda<0$ i $\\lambda>0$.\n",
    "\n",
    "__Slučaj__ $\\lambda=0$. \n",
    "\n",
    "Vrijedi $\\Phi(x)=a x+b$. Iz rubnog uvjeta $\\Phi(0)=0$ slijedi $b=0$ pa je $\\Phi(x)=ax$. Iz rubnog uvjeta $\\Phi(l)=0$ slijedi $al=0$ pa je i $a=0$. Dakle, $\\Phi(x)=0$, što ne može biti svojstvena funkcija, pa $\\lambda=0$ nije svojstvena vrijednost.\n",
    "\n",
    "__Slučaj__ $\\lambda>0$. \n",
    "\n",
    "Vrijedi (vidi [Linearne diferencijalne jednadžbe drugog reda s konstantnim koeficijentima][Mat2])\n",
    "\n",
    "$$\n",
    "\\Phi(x)=a e^{\\displaystyle\\sqrt{\\lambda}x}+ b e^{-\\displaystyle\\sqrt{\\lambda}x}.\n",
    "$$\n",
    "\n",
    "Iz rubnog uvjeta $\\Phi(0)=0$ slijedi $a+b=0$ pa je $b=-a$. \n",
    "\n",
    "Iz rubnog uvjeta $\\Phi(l)=0$ slijedi \n",
    "\n",
    "$$\n",
    "a\\big(e^{\\displaystyle\\sqrt{\\lambda}l}-e^{-\\displaystyle\\sqrt{\\lambda}l}\\big)=0\n",
    "$$\n",
    "\n",
    "pa je $a=0$. Dakle, $\\Phi(x)=0$, što ne može biti svojstvena funkcija, pa niti jedna $\\lambda>0$ nije svojstvena vrijednost.\n",
    "\n",
    "__Slučaj__ $\\lambda<0$.\n",
    "\n",
    "Vrijedi\n",
    "\n",
    "$$\n",
    "\\Phi(x)=a \\sin (\\sqrt{-\\lambda}x)+b \\cos (\\sqrt{-\\lambda}x).\n",
    "$$\n",
    "\n",
    "Iz rubnog uvjeta $\\Phi(0)=0$ slijedi $b=0$ pa je $\\Phi(x)=a\\sin(\\sqrt{-\\lambda}x)$. \n",
    "\n",
    "Iz rubnog uvjeta $\\Phi(l)=0$ slijedi \n",
    "\n",
    "$$\n",
    "a \\sin(\\sqrt{-\\lambda}l)=0\n",
    "$$\n",
    "\n",
    "pa je ili $a=0$, što opet ne daje svojstvenu funkciju, ili \n",
    "\n",
    "$$\n",
    "\\sqrt{-\\lambda}l=n\\pi, \\quad n\\in\\mathbb{N}.\n",
    "$$\n",
    "\n",
    "Dakle, svojstvene vrijednosti su \n",
    "\n",
    "$$\n",
    "\\lambda_n=-\\frac{n^2\\pi^2}{l^2}, \\quad n\\in\\mathbb{N},\n",
    "$$\n",
    "\n",
    "a pripadne svojstvene funkcije su\n",
    "\n",
    "$$\n",
    "\\Phi_n(x)=\\sin \\big(\\frac{n\\pi}{l}x\\big).\n",
    "$$\n",
    "\n",
    "\n",
    "Funkcije $\\Phi_n(x)$ su međusobno ortogonalne i čine bazu promatranog prostora.\n",
    "\n",
    "\n",
    "[Mat2]: http://lavica.fesb.unist.hr/mat2/predavanja/node95.html \"I. Slapničar, 'Matematika 2', 2018.\"\n"
   ]
  },
  {
   "cell_type": "markdown",
   "metadata": {},
   "source": [
    "## Regularni Sturm-Liouvilleov problem (SLP)\n",
    "\n",
    "Problem glasi:\n",
    "\n",
    "\\begin{align*}\n",
    "&A(\\Phi) \\equiv -(p(x)\\,\\Phi')'+q(x)\\,\\Phi = \\lambda\\, \\Phi, \\quad a\\leq x\\leq b,\\\\\n",
    "&\\alpha_1\\Phi(a)+\\alpha_2\\Phi'(a)=0,\\\\\n",
    "&\\beta_1 \\Phi(b)+\\beta_2\\Phi'(b)=0,\n",
    "\\end{align*}\n",
    "\n",
    "gdje je \n",
    "\n",
    "$$\\Phi\\in C^2[a,b],\\quad p\\in C^1[a,b],\\quad q\\in C^0[a,b],\\quad \n",
    "\\alpha_i,\\beta_i\\in\\mathbb{R}.\n",
    "$$\n",
    "\n",
    "Operator $A$ je linearan (provjerite!).\n",
    "\n",
    "__Teorem__. Za regularni SLP vrijedi:\n",
    "\n",
    "1. Postoji beskonačno mnogo svojstvenih vrijednosti $\\lambda_n$, $n=1,2,3,\\ldots$, koje su sve realne\n",
    "i vrijedi \n",
    "$$\\lim\\limits_{n\\to\\infty} |\\lambda_n|=\\infty.$$\n",
    "2. Svojstvene funkcije koje odgovaraju različitim svojstvenim vrijednostima su ortogonalne. \n",
    "\n",
    "3. Skup svih svojstvenih funkcija $\\Phi_1,\\Phi_2,\\Phi_3,\\ldots$ je potpun u smislu da se svaka funkcija \n",
    "$f\\in L^2[a,b]$ može razviti u red\n",
    "$$\n",
    "f(x)=\\sum_{n=1}^\\infty \\xi_n \\Phi_n(x), \\quad \\xi_n=\\frac{(f,\\Phi_n)}{(\\Phi_n,\\Phi_n)}\n",
    "$$\n",
    "koji konvergira u $L^2[a,b]$. \n",
    "\n",
    "Konvergencija u $L^2[a,b]$ znači\n",
    "\n",
    "$$\n",
    "\\big\\|f-\\sum_{n=1}^N \\xi_n\\Phi_n\\big\\|^2\\equiv \\int\\limits_a^b \n",
    "\\big(f-\\sum_{n=1}^N \\xi_n\\Phi_n\\big)^2 dx \\to 0 \\quad \\textrm{kada} \\quad  N\\to\\infty.\n",
    "$$\n",
    "\n",
    "Na primjer, teorem vrijedi za regularni SLP iz prethodnog primjera, gdje je \n",
    "\n",
    "$$p(x)=-1,\\quad q(x)=0,\\quad a=0,\\quad b=l, \\\\  \n",
    "\\alpha_1=1,\\quad \\alpha_2=0,\\quad \\beta_1=1,\\quad \\beta_2=0.\n",
    "$$\n",
    "\n",
    "_Dokaz 2. tvrdnje_ (prema [Logan, Applied Mathematics, str. 209][Log97])\n",
    "\n",
    "[Log97]: http://aaa \"J. David Logan, 'Applied Mathematics', 2nd Edition, Wiley, New York, 1997\"\n",
    "\n",
    "Neka su $\\lambda$ i $\\mu$ dvije različite svojstvene vrijednosti sa svojstvenim funkcijama \n",
    "$\\phi$ i $\\psi$, redom. Tada vrijedi\n",
    "\n",
    "\\begin{align*}\n",
    "-(p\\phi')'+q\\phi&=\\lambda\\phi, \\\\\n",
    "-(p\\psi')'+q\\psi&=\\mu\\psi.\n",
    "\\end{align*}\n",
    "\n",
    "Pomnožimo prvu jednadžbu sa $\\psi$ i drugu sa $\\phi$ te ih oduzmimo:\n",
    "\n",
    "$$\n",
    "\\phi(p\\psi')'-\\psi(p\\phi')'=(\\lambda-\\mu)\\phi\\psi.\n",
    "$$\n",
    "\n",
    "Integriranje od $a$ do $b$ daje\n",
    "\n",
    "$$\n",
    "\\int\\limits_a^b (\\phi(p\\psi')'-\\psi(p\\phi')')\\, dx=(\\lambda-\\mu) (\\phi,\\psi).\n",
    "$$\n",
    "\n",
    "Parcijalna integracija daje\n",
    "\n",
    "$$\n",
    "\\int\\limits_a^b \\phi(p\\psi')'\\, dx = \\left\\{ {u=\\phi, \\quad du=\\phi'\\, dx  \\atop dv=(p\\psi')'\\, \n",
    "dx, \\quad v=p\\psi' } \\right\\}\n",
    "=\\phi(p\\psi')\\big|_a^b -\\int\\limits_a^b p\\psi'\\phi' \\, dx,\n",
    "$$\n",
    "\n",
    "i, slično,\n",
    "\n",
    "$$\n",
    "\\int\\limits_a^b \\psi(p\\phi')'\\, dx = \\psi(p\\phi')\\big|_a^b -\\int\\limits_a^b p\\psi'\\phi' \\, dx.\n",
    "$$\n",
    "\n",
    "Dakle, \n",
    "\n",
    "$$\n",
    "p(\\phi\\psi'-\\psi\\phi')\\big|_a^b=(\\lambda-\\mu)(\\phi,\\psi).\n",
    "$$\n",
    "\n",
    "Iz rubnih uvjeta slijedi da je lijeva strana jednaka nuli: na primjer, \n",
    "ako su sva dijeljenja definirana, onda je \n",
    "\n",
    "$$\n",
    "\\frac{\\phi(a)}{\\phi'(a)}=-\\frac{\\alpha_2}{\\alpha_1}=\\frac{\\psi(a)}{\\psi'(a)}\n",
    "$$\n",
    "\n",
    "pa je $\\phi(a)\\psi'(a)-\\phi'(a)\\psi(a)=0$. Slično se analiziraju i ostali slučajevi.\n",
    "\n",
    "Dakle, \n",
    "\n",
    "$$0=(\\lambda-\\mu)(\\phi,\\psi).$$\n",
    "\n",
    "Ako je $\\lambda\\neq \\mu$, onda je $(\\phi,\\psi)=0$, odnosno,\n",
    "$\\phi\\perp\\psi$. \n",
    "\n",
    "Primjere rješavanja regularnog SLP dati ćemo kasnije."
   ]
  },
  {
   "cell_type": "code",
   "execution_count": null,
   "metadata": {},
   "outputs": [],
   "source": []
  }
 ],
 "metadata": {
  "anaconda-cloud": {},
  "kernelspec": {
   "display_name": "Julia 1.5.2",
   "language": "julia",
   "name": "julia-1.5"
  },
  "language_info": {
   "file_extension": ".jl",
   "mimetype": "application/julia",
   "name": "julia",
   "version": "1.5.2"
  }
 },
 "nbformat": 4,
 "nbformat_minor": 1
}
