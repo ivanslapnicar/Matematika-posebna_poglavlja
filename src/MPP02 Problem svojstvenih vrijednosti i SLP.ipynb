{
 "cells": [
  {
   "cell_type": "markdown",
   "metadata": {},
   "source": [
    "# Problem svojstvenih vrijednosti i SLP\n",
    "\n",
    "\n",
    "\n",
    "## Matrični problem svojstvenih vrijednosti\n",
    "\n",
    "Neka je $A\\in\\mathbb{R}^{n\\times n}$ kvadratna realna matrica. \n",
    "\n",
    "Tražimo __svojstvene vrijednosti__  $\\lambda\\in\\mathbb{R}$ i __svojstvene vektore__ $x\\in\\mathbb{R}^{n}\\neq 0$,\n",
    "takve da je \n",
    "\n",
    "$$Ax=\\lambda x.$$\n",
    "\n",
    "Dakle, $A$ djeluje na vektor $x$ tako da ga produži ili skrati, eventualno promijeni orijentaciju, dok smjer ostaje isti. \n",
    "\n",
    "Vrijedi \n",
    "\n",
    "$$ Ax-\\lambda I x=(A-\\lambda I)x=0.$$\n",
    "\n",
    "Ovo je homogeni sustav linearnih jednadžbi koji ima netrivijalna rješenja ($x\\neq 0$) ako i samo ako je \n",
    "matrica sustava $(A-\\lambda I)$ singularna, odnosno ako i samo ako je \n",
    "\n",
    "$$\n",
    "\\det(A-\\lambda I)=0.\n",
    "$$\n",
    "\n",
    "Izraz $\\det(A-\\lambda I)$ je polinom stupnja $n$ u varijabli $\\lambda$ s realnim koeficijentima, koji, prema osnovnom teoremu algebre, ima \n",
    "$n$ nul-točaka koje su ili realne ili dolaze u konjugirano kompleksnim parovima. \n",
    "\n",
    "__Teorem__. Svojstveni vektori koji odgovaraju različitim svojstvenim vrijednostima su linearno nezavisni.\n",
    "\n",
    "_Dokaz_: Zaista, neka je\n",
    "\n",
    "$$Ax=\\lambda x, \\quad Ay=\\mu y, \\quad x,y\\neq 0, \\quad \\lambda\\neq\\mu.\n",
    "$$\n",
    "\n",
    "Pretpostavimo da su $x$ i $y$ linearno zavisni, odnosno, \n",
    "\n",
    "$$\n",
    "\\alpha x+\\beta y=0, \\quad |\\alpha|+|\\beta|>0.\n",
    "$$\n",
    "\n",
    "Vrijedi\n",
    "\n",
    "$$\n",
    "A\\cdot (\\alpha x+\\beta y)=\\alpha\\lambda x+\\beta\\mu y=A\\cdot 0=0.\n",
    "$$\n",
    "\n",
    "Množenje prve jednakosti s $\\lambda$ daje sustav\n",
    "\n",
    "\\begin{align*}\n",
    "\\lambda\\alpha x+\\lambda\\beta y&=0 \\\\\n",
    "\\alpha\\lambda x+\\beta\\mu y&=0.\n",
    "\\end{align*}\n",
    "\n",
    "Oduzmanje prve jednadžbu od druge daje\n",
    "\n",
    "$$\n",
    "\\beta(\\mu-\\lambda)y=0\n",
    "$$\n",
    "\n",
    "pa je, zbog $\\mu-\\lambda\\neq 0$ i $y\\neq 0$, nužno $\\beta=0$. \n",
    "Uvrštavanjem u originalnu lineranu kombinaciju, zbog $x\\neq 0$ \n",
    "slijedi $\\alpha=0$ pa su $x$ i $y$ linearno nezavisni.\n",
    "\n",
    "__Teorem__.  Ako je $A$ simetrična matrica, $A=A^T$, tada su sve svojstvene vrijednosti realne i imaju ortogonalni skup svojstvenih vektora, osnosno postoji matrica $U$ takva da je \n",
    "\n",
    "$$U^TU=UU^T=I\\\\\n",
    "A=U\\Lambda U^T, \\quad AU=U\\Lambda, \\quad A=\\sum_{i=1}^n \\lambda_i u_i u_i^T.\n",
    "$$"
   ]
  },
  {
   "cell_type": "code",
   "execution_count": 2,
   "metadata": {},
   "outputs": [
    {
     "data": {
      "text/plain": [
       "6×6 Symmetric{Int64,Array{Int64,2}}:\n",
       " -4  -1  -7  -4  -7  -7\n",
       " -1   3  -1   5   8  -3\n",
       " -7  -1   6   0   5  -2\n",
       " -4   5   0   7   3  -2\n",
       " -7   8   5   3   5   6\n",
       " -7  -3  -2  -2   6  -4"
      ]
     },
     "execution_count": 2,
     "metadata": {},
     "output_type": "execute_result"
    }
   ],
   "source": [
    "# Primjer\n",
    "using Random\n",
    "using LinearAlgebra\n",
    "Random.seed!(123)\n",
    "A=Symmetric(rand(-8:8,6,6))"
   ]
  },
  {
   "cell_type": "code",
   "execution_count": 3,
   "metadata": {},
   "outputs": [],
   "source": [
    "λ,U=eigen(A);"
   ]
  },
  {
   "cell_type": "code",
   "execution_count": 4,
   "metadata": {},
   "outputs": [
    {
     "data": {
      "text/plain": [
       "6-element Array{Float64,1}:\n",
       " -14.515672729799535 \n",
       "  -9.015056690475657 \n",
       "   1.6151598652401997\n",
       "   4.508602764312164 \n",
       "   9.921630354706176 \n",
       "  20.48533643601663  "
      ]
     },
     "execution_count": 4,
     "metadata": {},
     "output_type": "execute_result"
    }
   ],
   "source": [
    "λ"
   ]
  },
  {
   "cell_type": "code",
   "execution_count": 5,
   "metadata": {},
   "outputs": [
    {
     "data": {
      "text/plain": [
       "6×6 Array{Float64,2}:\n",
       "  0.615207   0.544991    0.311435  -0.0163865   0.246438   0.40806 \n",
       "  0.198534  -0.488967    0.574106   0.155323    0.481344  -0.368891\n",
       "  0.324083  -0.0171381   0.258665  -0.639063   -0.534065  -0.366253\n",
       "  0.152281   0.143078   -0.54616   -0.421614    0.583851  -0.373374\n",
       " -0.167763   0.624953    0.151875   0.392735   -0.086412  -0.629695\n",
       "  0.652489  -0.229269   -0.430286   0.48498    -0.272033  -0.16535 "
      ]
     },
     "execution_count": 5,
     "metadata": {},
     "output_type": "execute_result"
    }
   ],
   "source": [
    "U"
   ]
  },
  {
   "cell_type": "code",
   "execution_count": 6,
   "metadata": {},
   "outputs": [
    {
     "data": {
      "text/plain": [
       "6×6 Array{Float64,2}:\n",
       "  1.0          -1.17731e-16  -1.17847e-16  …   1.18645e-16   6.11163e-17\n",
       " -1.17731e-16   1.0          -2.98903e-16      4.78539e-16  -1.04463e-16\n",
       " -1.17847e-16  -2.98903e-16   1.0              3.91013e-16  -4.92074e-17\n",
       " -7.28223e-17   3.65662e-17   2.35919e-15      1.46338e-16   1.05129e-17\n",
       "  1.18645e-16   4.78539e-16   3.91013e-16      1.0          -1.24317e-16\n",
       "  6.11163e-17  -1.04463e-16  -4.92074e-17  …  -1.24317e-16   1.0        "
      ]
     },
     "execution_count": 6,
     "metadata": {},
     "output_type": "execute_result"
    }
   ],
   "source": [
    "# Ortogonalnost matrice svojstvenih vektora\n",
    "U'*U"
   ]
  },
  {
   "cell_type": "code",
   "execution_count": 7,
   "metadata": {},
   "outputs": [
    {
     "data": {
      "text/plain": [
       "6×6 Array{Float64,2}:\n",
       "  1.0           3.20215e-16  -6.3747e-16   …   2.55922e-16   2.98057e-16\n",
       "  3.20215e-16   1.0          -6.96944e-16      7.13117e-16   2.96657e-16\n",
       " -6.3747e-16   -6.96944e-16   1.0             -3.82456e-16   8.58191e-16\n",
       " -6.32677e-18  -1.05579e-15   7.7397e-16      -3.72295e-16  -1.80667e-16\n",
       "  2.55922e-16   7.13117e-16  -3.82456e-16      1.0          -2.9517e-16 \n",
       "  2.98057e-16   2.96657e-16   8.58191e-16  …  -2.9517e-16    1.0        "
      ]
     },
     "execution_count": 7,
     "metadata": {},
     "output_type": "execute_result"
    }
   ],
   "source": [
    "U*U'"
   ]
  },
  {
   "cell_type": "code",
   "execution_count": 9,
   "metadata": {},
   "outputs": [
    {
     "data": {
      "text/plain": [
       "6×6 Array{Float64,2}:\n",
       " -4.0  -1.0  -7.0          -4.0          -7.0  -7.0\n",
       " -1.0   3.0  -1.0           5.0           8.0  -3.0\n",
       " -7.0  -1.0   6.0           1.60473e-14   5.0  -2.0\n",
       " -4.0   5.0   1.61116e-14   7.0           3.0  -2.0\n",
       " -7.0   8.0   5.0           3.0           5.0   6.0\n",
       " -7.0  -3.0  -2.0          -2.0           6.0  -4.0"
      ]
     },
     "execution_count": 9,
     "metadata": {},
     "output_type": "execute_result"
    }
   ],
   "source": [
    "# Provjerimo točnost rastava\n",
    "U*Diagonal(λ)*U'"
   ]
  },
  {
   "cell_type": "code",
   "execution_count": 10,
   "metadata": {},
   "outputs": [
    {
     "data": {
      "text/plain": [
       "6×6 Array{Float64,2}:\n",
       " -4.0  -1.0  -7.0          -4.0          -7.0  -7.0\n",
       " -1.0   3.0  -1.0           5.0           8.0  -3.0\n",
       " -7.0  -1.0   6.0           1.59872e-14   5.0  -2.0\n",
       " -4.0   5.0   1.59872e-14   7.0           3.0  -2.0\n",
       " -7.0   8.0   5.0           3.0           5.0   6.0\n",
       " -7.0  -3.0  -2.0          -2.0           6.0  -4.0"
      ]
     },
     "execution_count": 10,
     "metadata": {},
     "output_type": "execute_result"
    }
   ],
   "source": [
    "sum([λ[i]*U[:,i]*U[:,i]' for i=1:size(A,1)])"
   ]
  },
  {
   "cell_type": "markdown",
   "metadata": {},
   "source": [
    "### Primjer - rješavanje algebarskih problema pomoću svojstvenih vrijednosti i vektora\n",
    "\n",
    "Riješimo problem (prema [Logan, Applied Mathematics, str. 205][Log97])\n",
    "\n",
    "$$\n",
    "Ax=\\mu x + f.\n",
    "$$\n",
    "\n",
    "Neka je $A$ simetrična, $A=U\\Lambda U^T$ i $\\mu\\neq \\lambda_i$. Stupci matrice $U$ su ortogonalni i tvore bazu $n$-dimenzionalnog prostora, odnosno svaki vektor se može prikazati kao njihova linearna kombinacija:\n",
    "\n",
    "$$\n",
    "x=\\sum_{i=1}^n c_i u_i, \\quad  f=\\sum_{i=1}^n f_i u_i.\n",
    "$$\n",
    "\n",
    "Imamo\n",
    "\n",
    "$$\n",
    "A\\cdot \\big(\\sum c_i u_i\\big)=\\mu \\big(\\sum c_i u_i\\big) + \\sum f_i u_i,\n",
    "$$\n",
    "\n",
    "odnosno,\n",
    "\n",
    "$$\n",
    "\\sum c_i \\lambda_i u_i=\\mu \\big(\\sum c_i u_i\\big) + \\sum f_i u_i.\n",
    "$$\n",
    "\n",
    "Izjednačavanje koeficijenata daje\n",
    "\n",
    "$$\n",
    "c_i\\lambda_i= \\mu c_i + f_i\n",
    "$$\n",
    "\n",
    "pa je \n",
    "\n",
    "$$\n",
    "c_i=\\frac{f_i}{\\lambda_i-\\mu}.\n",
    "$$\n",
    "\n",
    "[Log97]: http://aaa \"J. David Logan, 'Applied Mathematics', 2nd Edition, Wiley, New York, 1997\""
   ]
  },
  {
   "cell_type": "markdown",
   "metadata": {},
   "source": [
    "Riješimo problem $Ax=\\mu x+f$ za $\\mu=2$:\n",
    "\n",
    "$$\n",
    "A=\\begin{bmatrix} 1&2 &3&4 \\\\ 2 &5&6&7 \\\\ 3&6&8&9 \\\\ 4&7&9&10\\end{bmatrix},\\quad\n",
    "f=\\begin{bmatrix}1 \\\\ 2\\\\ 1\\\\ 2\\\\\\end{bmatrix}.\n",
    "$$"
   ]
  },
  {
   "cell_type": "code",
   "execution_count": 11,
   "metadata": {},
   "outputs": [
    {
     "data": {
      "text/plain": [
       "4-element Array{Int64,1}:\n",
       " 1\n",
       " 2\n",
       " 1\n",
       " 2"
      ]
     },
     "execution_count": 11,
     "metadata": {},
     "output_type": "execute_result"
    }
   ],
   "source": [
    "μ=2\n",
    "A=[1 2 3 4;2 5 6 7;3 6 8 9;4 7 9 10]\n",
    "f=[1;2;1;2]"
   ]
  },
  {
   "cell_type": "code",
   "execution_count": 13,
   "metadata": {},
   "outputs": [],
   "source": [
    "λ,U=eigen(A);"
   ]
  },
  {
   "cell_type": "markdown",
   "metadata": {},
   "source": [
    "Izračunajmo koeficijente vektora $f$ u bazi $U$"
   ]
  },
  {
   "cell_type": "code",
   "execution_count": 14,
   "metadata": {},
   "outputs": [
    {
     "data": {
      "text/plain": [
       "4-element Array{Float64,1}:\n",
       " -0.3177815884084647\n",
       "  0.9132526461104922\n",
       "  0.3689419195350334\n",
       " -2.9881208687820147"
      ]
     },
     "execution_count": 14,
     "metadata": {},
     "output_type": "execute_result"
    }
   ],
   "source": [
    "fU=[f⋅U[:,i] for i=1:4]"
   ]
  },
  {
   "cell_type": "markdown",
   "metadata": {},
   "source": [
    "Izračunajmo koeficijente $c$ rješenja $x$ u bazi $U$ "
   ]
  },
  {
   "cell_type": "code",
   "execution_count": 16,
   "metadata": {},
   "outputs": [
    {
     "data": {
      "text/plain": [
       "4-element Array{Float64,1}:\n",
       "  0.11327153699672189\n",
       " -0.5031455476924442 \n",
       " -0.25586073655934255\n",
       " -0.1354386906098454 "
      ]
     },
     "execution_count": 16,
     "metadata": {},
     "output_type": "execute_result"
    }
   ],
   "source": [
    "c=fU./(λ.-μ)"
   ]
  },
  {
   "cell_type": "code",
   "execution_count": 17,
   "metadata": {},
   "outputs": [
    {
     "data": {
      "text/plain": [
       "4-element Array{Float64,1}:\n",
       " -0.07407407407407397 \n",
       " -0.3333333333333335  \n",
       "  0.4814814814814819  \n",
       "  0.037037037037036646"
      ]
     },
     "execution_count": 17,
     "metadata": {},
     "output_type": "execute_result"
    }
   ],
   "source": [
    "# Rješenje\n",
    "x=sum([c[i]*U[:,i] for i=1:4])"
   ]
  },
  {
   "cell_type": "code",
   "execution_count": 18,
   "metadata": {},
   "outputs": [
    {
     "data": {
      "text/plain": [
       "4-element Array{Float64,1}:\n",
       " -6.661338147750939e-16 \n",
       " -4.440892098500626e-16 \n",
       " -1.4432899320127035e-15\n",
       "  0.0                   "
      ]
     },
     "execution_count": 18,
     "metadata": {},
     "output_type": "execute_result"
    }
   ],
   "source": [
    "# Provjera\n",
    "A*x-μ*x-f"
   ]
  },
  {
   "cell_type": "markdown",
   "metadata": {},
   "source": [
    "## Linearni operatori\n",
    "\n",
    "__Operator__ je preslikavnje $L:X\\to X$ gdje je $X$ vektorski prostor. \n",
    "\n",
    "\n",
    "Neka su \n",
    "$x,y\\in X$ i $\\alpha, \\beta \\in \\mathbb{R}$.\n",
    "\n",
    "Operator je __linearan__ ako je __aditivan__,\n",
    "\n",
    "$$\n",
    "L(x+y)=L(x)+L(y),\n",
    "$$\n",
    "\n",
    "i __homogen__,\n",
    "\n",
    "$$\n",
    "L(\\alpha x)=\\alpha L(x).\n",
    "$$\n",
    "\n",
    "Oba svojstva zajedno možemo pisati kao \n",
    "\n",
    "$$\n",
    "L(\\alpha x+\\beta y)=\\alpha L(x) + \\beta L(y).\n",
    "$$\n",
    "\n",
    "\n",
    "### Primjer - matrica je linearni operator na skupu vektora\n",
    "\n",
    "Uz definiciju\n",
    "\n",
    "$$\n",
    "A(x)\\equiv A\\cdot x,\n",
    "$$\n",
    "\n",
    "vrijedi\n",
    "\n",
    "$$\n",
    "A(x+y)=A(x)+A(y),\\quad A(\\alpha x)=\\alpha A(x), \n",
    "$$\n",
    "\n",
    "odnosno\n",
    "\n",
    "$$\n",
    "A(\\alpha x+\\beta y)=\\alpha A(x)+\\beta A(y).\n",
    "$$"
   ]
  },
  {
   "cell_type": "markdown",
   "metadata": {},
   "source": [
    "## Skalarni produkt, norma, ortogonalnost i baza\n",
    "\n",
    "Neka su zadani vektori $x,y\\in \\mathbb{R}^n$. Definiramo sljedeće:\n",
    "\n",
    "__Skalarni produkt__: $(x,y)=x\\cdot y=\\displaystyle\\sum_{i=1}^n x_i y_i$\n",
    "\n",
    "__Norma__: $\\|x \\|=\\sqrt{(x,x)}=\\sqrt{\\displaystyle\\sum_{i=1}^n x_i x_i}=\\sqrt{\\displaystyle\\sum_{i=1}^n x_i^2}$\n",
    "\n",
    "__Ortogonalnost__: $x\\perp y \\Leftrightarrow (x,y)=0$\n",
    "\n",
    "__Baza__: Skup od $n$ vektora, $x_1,x_2,\\ldots, x_n$ je __potpun__ (baza) ako za svaki vektor $y$ vrijedi\n",
    "\n",
    "$$\n",
    "y=\\displaystyle\\sum_{i=1}^n \\xi_i x_i.\n",
    "$$\n",
    "\n",
    "Ako su, dodatno, vektori $x_i$ međusobno ortogonalni, onda je \n",
    "\n",
    "$$\n",
    "\\xi_j=\\frac{(y,x_j)}{(x_j,x_j)}\\equiv \\frac{(y,x_j)}{\\|x_j\\|^2}.\n",
    "$$"
   ]
  },
  {
   "cell_type": "code",
   "execution_count": 19,
   "metadata": {},
   "outputs": [
    {
     "data": {
      "text/plain": [
       "(5.551115123125783e-17, 1.0000000000000004)"
      ]
     },
     "execution_count": 19,
     "metadata": {},
     "output_type": "execute_result"
    }
   ],
   "source": [
    "# Primjer za vektore - ortogonalnost i norma\n",
    "U[:,1]⋅U[:,3], U[:,3]⋅U[:,3]"
   ]
  },
  {
   "cell_type": "code",
   "execution_count": 21,
   "metadata": {},
   "outputs": [
    {
     "data": {
      "text/plain": [
       "4×2 Array{Float64,2}:\n",
       " 0.777869   0.777869 \n",
       " 0.120155   0.120155 \n",
       " 0.0769717  0.0769717\n",
       " 0.924965   0.924965 "
      ]
     },
     "execution_count": 21,
     "metadata": {},
     "output_type": "execute_result"
    }
   ],
   "source": [
    "# Baza\n",
    "n=size(A,1)\n",
    "x=rand(n)\n",
    "# Računamo koeficijente po bazi stupaca od U\n",
    "ξ=Array{Float64}(undef,n)\n",
    "for i=1:n\n",
    "    ξ[i]=x⋅U[:,i]\n",
    "end\n",
    "# Provjera\n",
    "y=sum([ξ[i]*U[:,i] for i=1:n])\n",
    "[x y]"
   ]
  },
  {
   "cell_type": "markdown",
   "metadata": {},
   "source": [
    "### Primjer - vektorski prostor funkcija\n",
    "\n",
    "Neka su zadane funkcije $f,g\\in C[a,b]$, gdje je $C[a,b]$ skup svih funkcija neprekidnih na intervalu $[a,b]$. \n",
    "\n",
    "_Napomena_. Umjesto skupa $C[a,b]$ može se uzeti i neki skup, na primjer, skup svih kvadratno integrabilnih funkcija na intervalu $[a,b]$ kojeg označavamo s  $L^2[a,b]$.\n",
    "\n",
    "Definirajmo __skalarni produkt__: \n",
    "\n",
    "$$(f,g)=f\\cdot g=\\displaystyle \\int\\limits_{a}^b f(x) g(x) \\, dx.$$\n",
    "\n",
    "Odavde slijede definicije:\n",
    "\n",
    "__norma__: $\\|f \\|=\\sqrt{(f,f)}=\\sqrt{\\displaystyle\\int\\limits_{a}^b f(x)\\cdot f(x)\\, dx}=\n",
    "\\sqrt{\\displaystyle\\int\\limits_{a}^b f^2(x)\\, dx}$\n",
    "\n",
    "__ortogonalnost__: $f\\perp g \\Leftrightarrow (f,g)=0$\n",
    "\n",
    "__baza__: Skup od $\\infty$ funkcija, $f_1,f_2,\\ldots$, je __potpun__ (baza) ako za svaku funkciju $g$ vrijedi\n",
    "\n",
    "$$\n",
    "g(x)=\\displaystyle\\sum_{i=1}^\\infty \\xi_i f_i(x).\n",
    "$$\n",
    "\n",
    "Ukoliko su, dodatno, funkcije $f_i$ međusobno ortogonalne, tada je \n",
    "\n",
    "$$\n",
    "\\xi_j=\\frac{(g,f_j)}{(f_j,f_j)}\\equiv \\frac{(g,f_j)}{\\|f_j\\|^2}.\n",
    "$$"
   ]
  },
  {
   "cell_type": "markdown",
   "metadata": {},
   "source": [
    "### Numeričko i simboličko računanje\n",
    "\n",
    "Julia ima više paketa pomoću kojih možemo računati određene integrale. \n",
    "\n",
    "Najjednostavnija je funkcija `quadgk()` iz paketa \n",
    "[QuadGK.jl](https://github.com/JuliaMath/QuadGK.jl) (numeričko računanje).\n",
    "\n",
    "Ovdje ćemo skalarni produkt definirati pomoću funkcije\n",
    "`integrate()` iz paketa `SymPy.jl` (simboličko računanje)."
   ]
  },
  {
   "cell_type": "code",
   "execution_count": 23,
   "metadata": {},
   "outputs": [],
   "source": [
    "# Učitavanje paketa\n",
    "using SymPy"
   ]
  },
  {
   "cell_type": "code",
   "execution_count": 24,
   "metadata": {},
   "outputs": [
    {
     "name": "stdout",
     "output_type": "stream",
     "text": [
      "search: \u001b[0m\u001b[1mi\u001b[22m\u001b[0m\u001b[1mn\u001b[22m\u001b[0m\u001b[1mt\u001b[22m\u001b[0m\u001b[1me\u001b[22m\u001b[0m\u001b[1mg\u001b[22m\u001b[0m\u001b[1mr\u001b[22m\u001b[0m\u001b[1ma\u001b[22m\u001b[0m\u001b[1mt\u001b[22m\u001b[0m\u001b[1me\u001b[22m l\u001b[0m\u001b[1mi\u001b[22m\u001b[0m\u001b[1mn\u001b[22me_in\u001b[0m\u001b[1mt\u001b[22m\u001b[0m\u001b[1me\u001b[22m\u001b[0m\u001b[1mg\u001b[22m\u001b[0m\u001b[1mr\u001b[22m\u001b[0m\u001b[1ma\u001b[22m\u001b[0m\u001b[1mt\u001b[22m\u001b[0m\u001b[1me\u001b[22m\n",
      "\n"
     ]
    },
    {
     "data": {
      "text/latex": [
       "No documentation found.\n",
       "\n",
       "\\texttt{SymPy.integrate} is a \\texttt{Function}.\n",
       "\n",
       "\\begin{verbatim}\n",
       "# 4 methods for generic function \"integrate\":\n",
       "[1] integrate(ex::SymPy.SymbolicObject, a::Number, b::Number) in SymPy at /home/slap/.julia/packages/SymPy/XrH7Q/src/mathfuns.jl:62\n",
       "[2] integrate(f::Function) in SymPy at /home/slap/.julia/packages/SymPy/XrH7Q/src/mathfuns.jl:74\n",
       "[3] integrate(f::Function, a::Number, b::Number) in SymPy at /home/slap/.julia/packages/SymPy/XrH7Q/src/mathfuns.jl:70\n",
       "[4] integrate(ex::SymPy.SymbolicObject, args...; kwargs...) in SymPy at /home/slap/.julia/packages/SymPy/XrH7Q/src/utils.jl:222\n",
       "\\end{verbatim}\n"
      ],
      "text/markdown": [
       "No documentation found.\n",
       "\n",
       "`SymPy.integrate` is a `Function`.\n",
       "\n",
       "```\n",
       "# 4 methods for generic function \"integrate\":\n",
       "[1] integrate(ex::SymPy.SymbolicObject, a::Number, b::Number) in SymPy at /home/slap/.julia/packages/SymPy/XrH7Q/src/mathfuns.jl:62\n",
       "[2] integrate(f::Function) in SymPy at /home/slap/.julia/packages/SymPy/XrH7Q/src/mathfuns.jl:74\n",
       "[3] integrate(f::Function, a::Number, b::Number) in SymPy at /home/slap/.julia/packages/SymPy/XrH7Q/src/mathfuns.jl:70\n",
       "[4] integrate(ex::SymPy.SymbolicObject, args...; kwargs...) in SymPy at /home/slap/.julia/packages/SymPy/XrH7Q/src/utils.jl:222\n",
       "```\n"
      ],
      "text/plain": [
       "  No documentation found.\n",
       "\n",
       "  \u001b[36mSymPy.integrate\u001b[39m is a \u001b[36mFunction\u001b[39m.\n",
       "\n",
       "\u001b[36m  # 4 methods for generic function \"integrate\":\u001b[39m\n",
       "\u001b[36m  [1] integrate(ex::SymPy.SymbolicObject, a::Number, b::Number) in SymPy at /home/slap/.julia/packages/SymPy/XrH7Q/src/mathfuns.jl:62\u001b[39m\n",
       "\u001b[36m  [2] integrate(f::Function) in SymPy at /home/slap/.julia/packages/SymPy/XrH7Q/src/mathfuns.jl:74\u001b[39m\n",
       "\u001b[36m  [3] integrate(f::Function, a::Number, b::Number) in SymPy at /home/slap/.julia/packages/SymPy/XrH7Q/src/mathfuns.jl:70\u001b[39m\n",
       "\u001b[36m  [4] integrate(ex::SymPy.SymbolicObject, args...; kwargs...) in SymPy at /home/slap/.julia/packages/SymPy/XrH7Q/src/utils.jl:222\u001b[39m"
      ]
     },
     "execution_count": 24,
     "metadata": {},
     "output_type": "execute_result"
    }
   ],
   "source": [
    "?integrate"
   ]
  },
  {
   "cell_type": "code",
   "execution_count": 26,
   "metadata": {},
   "outputs": [
    {
     "data": {
      "text/plain": [
       "dot (generic function with 13 methods)"
      ]
     },
     "execution_count": 26,
     "metadata": {},
     "output_type": "execute_result"
    }
   ],
   "source": [
    "# Definirajmo skalarni produkt\n",
    "import LinearAlgebra.⋅\n",
    "⋅(f,g,a,b)=integrate(f*g,(x,a,b))"
   ]
  },
  {
   "cell_type": "markdown",
   "metadata": {},
   "source": [
    "### Primjer - Fourierov red\n",
    "\n",
    "Promotrimo periodične funkcije s periodom $2\\pi$ na intervalu $[-\\pi,\\pi]$.\n",
    "\n",
    "Funkcije\n",
    "\n",
    "$$\n",
    "1, \\sin x, \\cos x, \\sin(2x), \\cos(2x), \\sin(3x),\\cos(3x), \\ldots\n",
    "$$\n",
    "\n",
    "su međusobno ortogonalne, Vrijedi $\\|1\\|=\\sqrt{2\\pi}$, a norma svih ostalih funkcija je $\\sqrt{\\pi}$. Skup je potpun, odnosno svaka periodična funkcija $f$ se može prikazati kao \n",
    "\n",
    "$$\n",
    "f(x)=\\sum_{i=0}^\\infty \\xi_i f_i(x), \\quad \\xi_i=\\frac{(f,f_i)}{(f_i,f_i)},\n",
    "$$\n",
    "\n",
    "u smislu teorema o konvergenciji Fourierovog reda. \n",
    "Ovo su standardne formule za razvoj funkcije u Fourierov red."
   ]
  },
  {
   "cell_type": "code",
   "execution_count": 27,
   "metadata": {},
   "outputs": [
    {
     "data": {
      "text/latex": [
       "\\begin{equation*}x\\end{equation*}"
      ],
      "text/plain": [
       "x"
      ]
     },
     "execution_count": 27,
     "metadata": {},
     "output_type": "execute_result"
    }
   ],
   "source": [
    "# Definirajmo simboličku varijablu x\n",
    "x=Sym(\"x\")"
   ]
  },
  {
   "cell_type": "code",
   "execution_count": 28,
   "metadata": {},
   "outputs": [
    {
     "data": {
      "text/plain": [
       "(3.14159265358979, 0)"
      ]
     },
     "execution_count": 28,
     "metadata": {},
     "output_type": "execute_result"
    }
   ],
   "source": [
    "# Provjerimo ortogonalnost funkcija\n",
    "⋅(sin(x),sin(x),-π,π), ⋅(sin(2*x),cos(3*x),-π,π)"
   ]
  },
  {
   "cell_type": "code",
   "execution_count": 29,
   "metadata": {},
   "outputs": [
    {
     "data": {
      "text/plain": [
       "(m, n)"
      ]
     },
     "execution_count": 29,
     "metadata": {},
     "output_type": "execute_result"
    }
   ],
   "source": [
    "m,n = symbols(\"m,n\", integer=true, positive=true)"
   ]
  },
  {
   "cell_type": "code",
   "execution_count": 30,
   "metadata": {},
   "outputs": [
    {
     "data": {
      "text/latex": [
       "\\begin{equation*}\\begin{cases} \\pi & \\text{for}\\: m = n \\\\0 & \\text{otherwise} \\end{cases}\\end{equation*}"
      ],
      "text/plain": [
       "⎧π  for m = n\n",
       "⎨            \n",
       "⎩0  otherwise"
      ]
     },
     "execution_count": 30,
     "metadata": {},
     "output_type": "execute_result"
    }
   ],
   "source": [
    "⋅(sin(m*x),sin(n*x),-PI,PI)"
   ]
  },
  {
   "cell_type": "markdown",
   "metadata": {},
   "source": [
    "__Primjer:__ Razvijmo funkciju definiranu formulom $f(x)=x^2$ na intervalu $[-1,1]$ u Fourier-ov red."
   ]
  },
  {
   "cell_type": "code",
   "execution_count": 31,
   "metadata": {},
   "outputs": [
    {
     "data": {
      "text/latex": [
       "\\begin{equation*}x^{2}\\end{equation*}"
      ],
      "text/plain": [
       " 2\n",
       "x "
      ]
     },
     "execution_count": 31,
     "metadata": {},
     "output_type": "execute_result"
    }
   ],
   "source": [
    "f=x^2"
   ]
  },
  {
   "cell_type": "code",
   "execution_count": 32,
   "metadata": {},
   "outputs": [
    {
     "data": {
      "text/latex": [
       "\\begin{equation*}1\\end{equation*}"
      ],
      "text/plain": [
       "1"
      ]
     },
     "execution_count": 32,
     "metadata": {},
     "output_type": "execute_result"
    }
   ],
   "source": [
    "f0=x/x"
   ]
  },
  {
   "cell_type": "code",
   "execution_count": 33,
   "metadata": {},
   "outputs": [
    {
     "data": {
      "text/latex": [
       "\\begin{equation*}2\\end{equation*}"
      ],
      "text/plain": [
       "2"
      ]
     },
     "execution_count": 33,
     "metadata": {},
     "output_type": "execute_result"
    }
   ],
   "source": [
    "⋅(f0,f0,-1,1)"
   ]
  },
  {
   "cell_type": "code",
   "execution_count": 34,
   "metadata": {},
   "outputs": [
    {
     "data": {
      "text/latex": [
       "\\begin{equation*}\\frac{1}{3}\\end{equation*}"
      ],
      "text/plain": [
       "1/3"
      ]
     },
     "execution_count": 34,
     "metadata": {},
     "output_type": "execute_result"
    }
   ],
   "source": [
    "a0=⋅(f,f0,-1,1)/⋅(f0,f0,-1,1)"
   ]
  },
  {
   "cell_type": "code",
   "execution_count": 35,
   "metadata": {},
   "outputs": [
    {
     "data": {
      "text/latex": [
       "\\begin{equation*}\\frac{4 \\left(-1\\right)^{n}}{\\pi^{2} n^{2}}\\end{equation*}"
      ],
      "text/plain": [
       "      n\n",
       "4⋅(-1) \n",
       "───────\n",
       "  2  2 \n",
       " π ⋅n  "
      ]
     },
     "execution_count": 35,
     "metadata": {},
     "output_type": "execute_result"
    }
   ],
   "source": [
    "# Funkcija je parna pa imamo samo članove uz kosinuse\n",
    "an=⋅(f,cos(n*PI*x),-1,1)/⋅(cos(n*PI*x),cos(n*PI*x),-1,1)"
   ]
  },
  {
   "cell_type": "code",
   "execution_count": 36,
   "metadata": {},
   "outputs": [
    {
     "data": {
      "text/latex": [
       "\\begin{equation*}\\frac{1}{\\pi^{2}}\\end{equation*}"
      ],
      "text/plain": [
       "1 \n",
       "──\n",
       " 2\n",
       "π "
      ]
     },
     "execution_count": 36,
     "metadata": {},
     "output_type": "execute_result"
    }
   ],
   "source": [
    "# Na primjer\n",
    "an(2)"
   ]
  },
  {
   "cell_type": "code",
   "execution_count": 37,
   "metadata": {},
   "outputs": [],
   "source": [
    "# Provjerimo crtanjem\n",
    "using Plots"
   ]
  },
  {
   "cell_type": "code",
   "execution_count": 38,
   "metadata": {},
   "outputs": [
    {
     "data": {
      "image/svg+xml": [
       "<?xml version=\"1.0\" encoding=\"utf-8\"?>\n",
       "<svg xmlns=\"http://www.w3.org/2000/svg\" xmlns:xlink=\"http://www.w3.org/1999/xlink\" width=\"600\" height=\"400\" viewBox=\"0 0 2400 1600\">\n",
       "<defs>\n",
       "  <clipPath id=\"clip4200\">\n",
       "    <rect x=\"0\" y=\"0\" width=\"2400\" height=\"1600\"/>\n",
       "  </clipPath>\n",
       "</defs>\n",
       "<polygon clip-path=\"url(#clip4200)\" points=\"\n",
       "0,1600 2400,1600 2400,0 0,0 \n",
       "  \" fill=\"#ffffff\" fill-rule=\"evenodd\" fill-opacity=\"1\"/>\n",
       "<defs>\n",
       "  <clipPath id=\"clip4201\">\n",
       "    <rect x=\"480\" y=\"0\" width=\"1681\" height=\"1600\"/>\n",
       "  </clipPath>\n",
       "</defs>\n",
       "<polygon clip-path=\"url(#clip4200)\" points=\"\n",
       "188.156,1503.47 2321.26,1503.47 2321.26,47.2441 188.156,47.2441 \n",
       "  \" fill=\"#ffffff\" fill-rule=\"evenodd\" fill-opacity=\"1\"/>\n",
       "<defs>\n",
       "  <clipPath id=\"clip4202\">\n",
       "    <rect x=\"188\" y=\"47\" width=\"2134\" height=\"1457\"/>\n",
       "  </clipPath>\n",
       "</defs>\n",
       "<polyline clip-path=\"url(#clip4202)\" style=\"stroke:#000000; stroke-width:2; stroke-opacity:0.1; fill:none\" points=\"\n",
       "  243.586,1503.47 243.586,47.2441 \n",
       "  \"/>\n",
       "<polyline clip-path=\"url(#clip4202)\" style=\"stroke:#000000; stroke-width:2; stroke-opacity:0.1; fill:none\" points=\"\n",
       "  749.52,1503.47 749.52,47.2441 \n",
       "  \"/>\n",
       "<polyline clip-path=\"url(#clip4202)\" style=\"stroke:#000000; stroke-width:2; stroke-opacity:0.1; fill:none\" points=\"\n",
       "  1255.45,1503.47 1255.45,47.2441 \n",
       "  \"/>\n",
       "<polyline clip-path=\"url(#clip4202)\" style=\"stroke:#000000; stroke-width:2; stroke-opacity:0.1; fill:none\" points=\"\n",
       "  1761.39,1503.47 1761.39,47.2441 \n",
       "  \"/>\n",
       "<polyline clip-path=\"url(#clip4202)\" style=\"stroke:#000000; stroke-width:2; stroke-opacity:0.1; fill:none\" points=\"\n",
       "  2267.32,1503.47 2267.32,47.2441 \n",
       "  \"/>\n",
       "<polyline clip-path=\"url(#clip4202)\" style=\"stroke:#000000; stroke-width:2; stroke-opacity:0.1; fill:none\" points=\"\n",
       "  188.156,1462.29 2321.26,1462.29 \n",
       "  \"/>\n",
       "<polyline clip-path=\"url(#clip4202)\" style=\"stroke:#000000; stroke-width:2; stroke-opacity:0.1; fill:none\" points=\"\n",
       "  188.156,1112.03 2321.26,1112.03 \n",
       "  \"/>\n",
       "<polyline clip-path=\"url(#clip4202)\" style=\"stroke:#000000; stroke-width:2; stroke-opacity:0.1; fill:none\" points=\"\n",
       "  188.156,761.761 2321.26,761.761 \n",
       "  \"/>\n",
       "<polyline clip-path=\"url(#clip4202)\" style=\"stroke:#000000; stroke-width:2; stroke-opacity:0.1; fill:none\" points=\"\n",
       "  188.156,411.494 2321.26,411.494 \n",
       "  \"/>\n",
       "<polyline clip-path=\"url(#clip4202)\" style=\"stroke:#000000; stroke-width:2; stroke-opacity:0.1; fill:none\" points=\"\n",
       "  188.156,61.2266 2321.26,61.2266 \n",
       "  \"/>\n",
       "<polyline clip-path=\"url(#clip4200)\" style=\"stroke:#000000; stroke-width:4; stroke-opacity:1; fill:none\" points=\"\n",
       "  188.156,1503.47 2321.26,1503.47 \n",
       "  \"/>\n",
       "<polyline clip-path=\"url(#clip4200)\" style=\"stroke:#000000; stroke-width:4; stroke-opacity:1; fill:none\" points=\"\n",
       "  188.156,1503.47 188.156,47.2441 \n",
       "  \"/>\n",
       "<polyline clip-path=\"url(#clip4200)\" style=\"stroke:#000000; stroke-width:4; stroke-opacity:1; fill:none\" points=\"\n",
       "  243.586,1503.47 243.586,1481.63 \n",
       "  \"/>\n",
       "<polyline clip-path=\"url(#clip4200)\" style=\"stroke:#000000; stroke-width:4; stroke-opacity:1; fill:none\" points=\"\n",
       "  749.52,1503.47 749.52,1481.63 \n",
       "  \"/>\n",
       "<polyline clip-path=\"url(#clip4200)\" style=\"stroke:#000000; stroke-width:4; stroke-opacity:1; fill:none\" points=\"\n",
       "  1255.45,1503.47 1255.45,1481.63 \n",
       "  \"/>\n",
       "<polyline clip-path=\"url(#clip4200)\" style=\"stroke:#000000; stroke-width:4; stroke-opacity:1; fill:none\" points=\"\n",
       "  1761.39,1503.47 1761.39,1481.63 \n",
       "  \"/>\n",
       "<polyline clip-path=\"url(#clip4200)\" style=\"stroke:#000000; stroke-width:4; stroke-opacity:1; fill:none\" points=\"\n",
       "  2267.32,1503.47 2267.32,1481.63 \n",
       "  \"/>\n",
       "<polyline clip-path=\"url(#clip4200)\" style=\"stroke:#000000; stroke-width:4; stroke-opacity:1; fill:none\" points=\"\n",
       "  188.156,1462.29 220.153,1462.29 \n",
       "  \"/>\n",
       "<polyline clip-path=\"url(#clip4200)\" style=\"stroke:#000000; stroke-width:4; stroke-opacity:1; fill:none\" points=\"\n",
       "  188.156,1112.03 220.153,1112.03 \n",
       "  \"/>\n",
       "<polyline clip-path=\"url(#clip4200)\" style=\"stroke:#000000; stroke-width:4; stroke-opacity:1; fill:none\" points=\"\n",
       "  188.156,761.761 220.153,761.761 \n",
       "  \"/>\n",
       "<polyline clip-path=\"url(#clip4200)\" style=\"stroke:#000000; stroke-width:4; stroke-opacity:1; fill:none\" points=\"\n",
       "  188.156,411.494 220.153,411.494 \n",
       "  \"/>\n",
       "<polyline clip-path=\"url(#clip4200)\" style=\"stroke:#000000; stroke-width:4; stroke-opacity:1; fill:none\" points=\"\n",
       "  188.156,61.2266 220.153,61.2266 \n",
       "  \"/>\n",
       "<g clip-path=\"url(#clip4200)\">\n",
       "<text style=\"fill:#000000; fill-opacity:1; font-family:Arial,Helvetica Neue,Helvetica,sans-serif; font-size:48px; text-anchor:middle;\" transform=\"rotate(0, 243.586, 1557.47)\" x=\"243.586\" y=\"1557.47\">-1.0</text>\n",
       "</g>\n",
       "<g clip-path=\"url(#clip4200)\">\n",
       "<text style=\"fill:#000000; fill-opacity:1; font-family:Arial,Helvetica Neue,Helvetica,sans-serif; font-size:48px; text-anchor:middle;\" transform=\"rotate(0, 749.52, 1557.47)\" x=\"749.52\" y=\"1557.47\">-0.5</text>\n",
       "</g>\n",
       "<g clip-path=\"url(#clip4200)\">\n",
       "<text style=\"fill:#000000; fill-opacity:1; font-family:Arial,Helvetica Neue,Helvetica,sans-serif; font-size:48px; text-anchor:middle;\" transform=\"rotate(0, 1255.45, 1557.47)\" x=\"1255.45\" y=\"1557.47\">0.0</text>\n",
       "</g>\n",
       "<g clip-path=\"url(#clip4200)\">\n",
       "<text style=\"fill:#000000; fill-opacity:1; font-family:Arial,Helvetica Neue,Helvetica,sans-serif; font-size:48px; text-anchor:middle;\" transform=\"rotate(0, 1761.39, 1557.47)\" x=\"1761.39\" y=\"1557.47\">0.5</text>\n",
       "</g>\n",
       "<g clip-path=\"url(#clip4200)\">\n",
       "<text style=\"fill:#000000; fill-opacity:1; font-family:Arial,Helvetica Neue,Helvetica,sans-serif; font-size:48px; text-anchor:middle;\" transform=\"rotate(0, 2267.32, 1557.47)\" x=\"2267.32\" y=\"1557.47\">1.0</text>\n",
       "</g>\n",
       "<g clip-path=\"url(#clip4200)\">\n",
       "<text style=\"fill:#000000; fill-opacity:1; font-family:Arial,Helvetica Neue,Helvetica,sans-serif; font-size:48px; text-anchor:end;\" transform=\"rotate(0, 164.156, 1479.79)\" x=\"164.156\" y=\"1479.79\">0.00</text>\n",
       "</g>\n",
       "<g clip-path=\"url(#clip4200)\">\n",
       "<text style=\"fill:#000000; fill-opacity:1; font-family:Arial,Helvetica Neue,Helvetica,sans-serif; font-size:48px; text-anchor:end;\" transform=\"rotate(0, 164.156, 1129.53)\" x=\"164.156\" y=\"1129.53\">0.25</text>\n",
       "</g>\n",
       "<g clip-path=\"url(#clip4200)\">\n",
       "<text style=\"fill:#000000; fill-opacity:1; font-family:Arial,Helvetica Neue,Helvetica,sans-serif; font-size:48px; text-anchor:end;\" transform=\"rotate(0, 164.156, 779.261)\" x=\"164.156\" y=\"779.261\">0.50</text>\n",
       "</g>\n",
       "<g clip-path=\"url(#clip4200)\">\n",
       "<text style=\"fill:#000000; fill-opacity:1; font-family:Arial,Helvetica Neue,Helvetica,sans-serif; font-size:48px; text-anchor:end;\" transform=\"rotate(0, 164.156, 428.994)\" x=\"164.156\" y=\"428.994\">0.75</text>\n",
       "</g>\n",
       "<g clip-path=\"url(#clip4200)\">\n",
       "<text style=\"fill:#000000; fill-opacity:1; font-family:Arial,Helvetica Neue,Helvetica,sans-serif; font-size:48px; text-anchor:end;\" transform=\"rotate(0, 164.156, 78.7266)\" x=\"164.156\" y=\"78.7266\">1.00</text>\n",
       "</g>\n",
       "<polyline clip-path=\"url(#clip4202)\" style=\"stroke:#009af9; stroke-width:4; stroke-opacity:1; fill:none\" points=\"\n",
       "  253.468,88.4582 263.35,115.422 354.72,352.087 446.091,565.902 501.001,683.405 555.911,792.656 602.337,878.589 648.762,958.623 699.193,1038.88 749.625,1112.17 \n",
       "  796.118,1173.58 842.611,1229.07 892.457,1281.99 942.302,1328.11 1000.05,1373.04 1057.8,1408.84 1109.13,1433 1160.45,1449.94 1205.45,1458.87 1250.46,1462.26 \n",
       "  1299.53,1459.64 1348.59,1450.42 1397.95,1434.51 1447.31,1411.92 1501.89,1379.19 1556.46,1338.31 1608.38,1291.85 1660.31,1238 1714.3,1174.19 1768.29,1102.41 \n",
       "  1813.73,1035.79 1859.18,963.528 1914.67,867.635 1970.16,763.316 2022.31,657.57 2074.47,544.379 2158.04,347.518 2241.6,131.547 2254.46,96.6131 \n",
       "  \"/>\n",
       "<polyline clip-path=\"url(#clip4202)\" style=\"stroke:#e26f46; stroke-width:4; stroke-opacity:1; fill:none\" points=\"\n",
       "  248.527,148.815 253.468,150.016 258.409,152.013 263.35,154.798 286.192,177.573 309.035,215.206 331.878,264.995 354.72,323.552 400.406,452.399 446.091,576.032 \n",
       "  473.546,641.284 501.001,698.725 528.456,749.494 555.911,795.77 602.337,870.578 648.762,947.871 699.193,1035.05 749.625,1117.67 796.118,1182.18 842.611,1233.57 \n",
       "  892.457,1278.71 942.302,1320.72 1000.05,1369.59 1057.8,1413.17 1109.13,1439.69 1160.45,1452.35 1205.45,1455.41 1250.46,1455.69 1299.53,1455.52 1348.59,1452.59 \n",
       "  1397.95,1441.09 1447.31,1416.85 1501.89,1376.96 1556.46,1331.02 1608.38,1287.25 1660.31,1241.31 1714.3,1182.79 1768.29,1106.84 1813.73,1031.58 1859.18,952.943 \n",
       "  1914.67,860.718 1970.16,770.621 1996.23,724.716 2022.31,673.687 2048.39,616.011 2074.47,551.255 2116.25,436.006 2158.04,318.567 2178.93,265.237 2199.82,219.23 \n",
       "  2220.71,183.161 2241.6,159.19 2248.03,154.497 2254.46,151.125 2260.89,149.093 \n",
       "  \"/>\n",
       "<polygon clip-path=\"url(#clip4200)\" points=\"\n",
       "1958.43,312.204 2249.26,312.204 2249.26,130.764 1958.43,130.764 \n",
       "  \" fill=\"#ffffff\" fill-rule=\"evenodd\" fill-opacity=\"1\"/>\n",
       "<polyline clip-path=\"url(#clip4200)\" style=\"stroke:#000000; stroke-width:4; stroke-opacity:1; fill:none\" points=\"\n",
       "  1958.43,312.204 2249.26,312.204 2249.26,130.764 1958.43,130.764 1958.43,312.204 \n",
       "  \"/>\n",
       "<polyline clip-path=\"url(#clip4200)\" style=\"stroke:#009af9; stroke-width:4; stroke-opacity:1; fill:none\" points=\"\n",
       "  1982.43,191.244 2126.43,191.244 \n",
       "  \"/>\n",
       "<g clip-path=\"url(#clip4200)\">\n",
       "<text style=\"fill:#000000; fill-opacity:1; font-family:Arial,Helvetica Neue,Helvetica,sans-serif; font-size:48px; text-anchor:start;\" transform=\"rotate(0, 2150.43, 208.744)\" x=\"2150.43\" y=\"208.744\">y1</text>\n",
       "</g>\n",
       "<polyline clip-path=\"url(#clip4200)\" style=\"stroke:#e26f46; stroke-width:4; stroke-opacity:1; fill:none\" points=\"\n",
       "  1982.43,251.724 2126.43,251.724 \n",
       "  \"/>\n",
       "<g clip-path=\"url(#clip4200)\">\n",
       "<text style=\"fill:#000000; fill-opacity:1; font-family:Arial,Helvetica Neue,Helvetica,sans-serif; font-size:48px; text-anchor:start;\" transform=\"rotate(0, 2150.43, 269.224)\" x=\"2150.43\" y=\"269.224\">y2</text>\n",
       "</g>\n",
       "</svg>\n"
      ]
     },
     "execution_count": 38,
     "metadata": {},
     "output_type": "execute_result"
    }
   ],
   "source": [
    "plot([x->x^2,x->a0+sum([an(i)*cos(i*PI*x) for i=1:6])],-1,1)"
   ]
  },
  {
   "cell_type": "markdown",
   "metadata": {},
   "source": [
    "## Diferencijalni problem svojstvenih vrijednosti\n",
    "\n",
    "Skup $C^2[a,b]$ je skup svih funkcija koje na intervalu $[a,b]$ imaju dvije neprekidne derivacije. \n",
    "\n",
    "\n",
    "### Primjer\n",
    "\n",
    "Operator druge derivacije $A\\equiv\\displaystyle\\frac{d^2}{dx^2}$ je linearan operator. \n",
    "\n",
    "Riješimo problem svojstvenih vrijednosti\n",
    "\n",
    "$$\n",
    "\\frac{d^2}{dx^2} \\Phi=\\lambda \\Phi, \\quad 0<x<l,\\quad \\Phi(0)=\\Phi(l)=0.\n",
    "$$\n",
    "\n",
    "Razlikujemo slučajeve $\\lambda=0$, $\\lambda<0$ i $\\lambda>0$.\n",
    "\n",
    "__Slučaj__ $\\lambda=0$. \n",
    "\n",
    "Vrijedi $\\Phi(x)=a x+b$. Iz rubnog uvjeta $\\Phi(0)=0$ slijedi $b=0$ pa je $\\Phi(x)=ax$. Iz rubnog uvjeta $\\Phi(l)=0$ slijedi $al=0$ pa je i $a=0$. Dakle, $\\Phi(x)=0$, što ne može biti svojstvena funkcija, pa $\\lambda=0$ nije svojstvena vrijednost.\n",
    "\n",
    "__Slučaj__ $\\lambda>0$. \n",
    "\n",
    "Vrijedi (vidi [Linearne diferencijalne jednadžbe drugog reda s konstantnim koeficijentima][Mat2])\n",
    "\n",
    "$$\n",
    "\\Phi(x)=a e^{\\displaystyle\\sqrt{\\lambda}x}+ b e^{-\\displaystyle\\sqrt{\\lambda}x}.\n",
    "$$\n",
    "\n",
    "Iz rubnog uvjeta $\\Phi(0)=0$ slijedi $a+b=0$ pa je $b=-a$. \n",
    "\n",
    "Iz rubnog uvjeta $\\Phi(l)=0$ slijedi \n",
    "\n",
    "$$\n",
    "a\\big(e^{\\displaystyle\\sqrt{\\lambda}l}-e^{-\\displaystyle\\sqrt{\\lambda}l}\\big)=0\n",
    "$$\n",
    "\n",
    "pa je $a=0$. Dakle, $\\Phi(x)=0$, što ne može biti svojstvena funkcija, pa niti jedna $\\lambda>0$ nije svojstvena vrijednost.\n",
    "\n",
    "__Slučaj__ $\\lambda<0$.\n",
    "\n",
    "Vrijedi\n",
    "\n",
    "$$\n",
    "\\Phi(x)=a \\sin (\\sqrt{-\\lambda}x)+b \\cos (\\sqrt{-\\lambda}x).\n",
    "$$\n",
    "\n",
    "Iz rubnog uvjeta $\\Phi(0)=0$ slijedi $b=0$ pa je $\\Phi(x)=a\\sin(\\sqrt{-\\lambda}x)$. \n",
    "\n",
    "Iz rubnog uvjeta $\\Phi(l)=0$ slijedi \n",
    "\n",
    "$$\n",
    "a \\sin(\\sqrt{-\\lambda}l)=0\n",
    "$$\n",
    "\n",
    "pa je ili $a=0$, što opet ne daje svojstvenu funkciju, ili \n",
    "\n",
    "$$\n",
    "\\sqrt{-\\lambda}l=n\\pi, \\quad n\\in\\mathbb{N}.\n",
    "$$\n",
    "\n",
    "Dakle, svojstvene vrijednosti su \n",
    "\n",
    "$$\n",
    "\\lambda_n=-\\frac{n^2\\pi^2}{l^2}, \\quad n\\in\\mathbb{N},\n",
    "$$\n",
    "\n",
    "a pripadne svojstvene funkcije su\n",
    "\n",
    "$$\n",
    "\\Phi_n(x)=\\sin \\big(\\frac{n\\pi}{l}x\\big).\n",
    "$$\n",
    "\n",
    "\n",
    "Funkcije $\\Phi_n(x)$ su međusobno ortogonalne i čine bazu promatranog prostora.\n",
    "\n",
    "\n",
    "[Mat2]: http://lavica.fesb.unist.hr/mat2/predavanja/node95.html \"I. Slapničar, 'Matematika 2', 2018.\"\n"
   ]
  },
  {
   "cell_type": "markdown",
   "metadata": {},
   "source": [
    "## Regularni Sturm-Liouvilleov problem (SLP)\n",
    "\n",
    "Problem glasi:\n",
    "\n",
    "\\begin{align*}\n",
    "&A(\\Phi) \\equiv -(p(x)\\,\\Phi')'+q(x)\\,\\Phi = \\lambda\\, \\Phi, \\quad a\\leq x\\leq b,\\\\\n",
    "&\\alpha_1\\Phi(a)+\\alpha_2\\Phi'(a)=0,\\\\\n",
    "&\\beta_1 \\Phi(b)+\\beta_2\\Phi'(b)=0,\n",
    "\\end{align*}\n",
    "\n",
    "gdje je \n",
    "\n",
    "$$\\Phi\\in C^2[a,b],\\quad p\\in C^1[a,b],\\quad q\\in C^0[a,b],\\quad \n",
    "\\alpha_i,\\beta_i\\in\\mathbb{R}.\n",
    "$$\n",
    "\n",
    "Operator $A$ je linearan (provjerite!).\n",
    "\n",
    "__Teorem__. Za regularni SLP vrijedi:\n",
    "\n",
    "1. Postoji beskonačno mnogo svojstvenih vrijednosti $\\lambda_n$, $n=1,2,3,\\ldots$, koje su sve realne\n",
    "i vrijedi \n",
    "$$\\lim\\limits_{n\\to\\infty} |\\lambda_n|=\\infty.$$\n",
    "2. Svojstvene funkcije koje odgovaraju različitim svojstvenim vrijednostima su ortogonalne. \n",
    "\n",
    "3. Skup svih svojstvenih funkcija $\\Phi_1,\\Phi_2,\\Phi_3,\\ldots$ je potpun u smislu da se svaka funkcija \n",
    "$f\\in L^2[a,b]$ može razviti u red\n",
    "$$\n",
    "f(x)=\\sum_{n=1}^\\infty \\xi_n \\Phi_n(x), \\quad \\xi_n=\\frac{(f,\\Phi_n)}{(\\Phi_n,\\Phi_n)}\n",
    "$$\n",
    "koji konvergira u $L^2[a,b]$. \n",
    "\n",
    "Konvergencija u $L^2[a,b]$ znači\n",
    "\n",
    "$$\n",
    "\\big\\|f-\\sum_{n=1}^N \\xi_n\\Phi_n\\big\\|^2\\equiv \\int\\limits_a^b \n",
    "\\big(f-\\sum_{n=1}^N \\xi_n\\Phi_n\\big)^2 dx \\to 0 \\quad \\textrm{kada} \\quad  N\\to\\infty.\n",
    "$$\n",
    "\n",
    "Na primjer, teorem vrijedi za regularni SLP iz prethodnog primjera, gdje je \n",
    "\n",
    "$$p(x)=-1,\\quad q(x)=0,\\quad a=0,\\quad b=l, \\\\  \n",
    "\\alpha_1=1,\\quad \\alpha_2=0,\\quad \\beta_1=1,\\quad \\beta_2=0.\n",
    "$$\n",
    "\n",
    "_Dokaz 2. tvrdnje_ (prema [Logan, Applied Mathematics, str. 209][Log97])\n",
    "\n",
    "[Log97]: http://aaa \"J. David Logan, 'Applied Mathematics', 2nd Edition, Wiley, New York, 1997\"\n",
    "\n",
    "Neka su $\\lambda$ i $\\mu$ dvije različite svojstvene vrijednosti sa svojstvenim funkcijama \n",
    "$\\phi$ i $\\psi$, redom. Tada vrijedi\n",
    "\n",
    "\\begin{align*}\n",
    "-(p\\phi')'+q\\phi&=\\lambda\\phi, \\\\\n",
    "-(p\\psi')'+q\\psi&=\\mu\\psi.\n",
    "\\end{align*}\n",
    "\n",
    "Pomnožimo prvu jednadžbu sa $\\psi$ i drugu sa $\\phi$ te ih oduzmimo:\n",
    "\n",
    "$$\n",
    "\\phi(p\\psi')'-\\psi(p\\phi')'=(\\lambda-\\mu)\\phi\\psi.\n",
    "$$\n",
    "\n",
    "Integriranje od $a$ do $b$ daje\n",
    "\n",
    "$$\n",
    "\\int\\limits_a^b (\\phi(p\\psi')'-\\psi(p\\phi')')\\, dx=(\\lambda-\\mu) (\\phi,\\psi).\n",
    "$$\n",
    "\n",
    "Parcijalna integracija daje\n",
    "\n",
    "$$\n",
    "\\int\\limits_a^b \\phi(p\\psi')'\\, dx = \\left\\{ {u=\\phi, \\quad du=\\phi'\\, dx  \\atop dv=(p\\psi')'\\, \n",
    "dx, \\quad v=p\\psi' } \\right\\}\n",
    "=\\phi(p\\psi')\\big|_a^b -\\int\\limits_a^b p\\psi'\\phi' \\, dx,\n",
    "$$\n",
    "\n",
    "i, slično,\n",
    "\n",
    "$$\n",
    "\\int\\limits_a^b \\psi(p\\phi')'\\, dx = \\psi(p\\phi')\\big|_a^b -\\int\\limits_a^b p\\psi'\\phi' \\, dx.\n",
    "$$\n",
    "\n",
    "Dakle, \n",
    "\n",
    "$$\n",
    "p(\\phi\\psi'-\\psi\\phi')\\big|_a^b=(\\lambda-\\mu)(\\phi,\\psi).\n",
    "$$\n",
    "\n",
    "Iz rubnih uvjeta slijedi da je lijeva strana jednaka nuli: na primjer, \n",
    "ako su sva dijeljenja definirana, onda je \n",
    "\n",
    "$$\n",
    "\\frac{\\phi(a)}{\\phi'(a)}=-\\frac{\\alpha_2}{\\alpha_1}=\\frac{\\psi(a)}{\\psi'(a)}\n",
    "$$\n",
    "\n",
    "pa je $\\phi(a)\\psi'(a)-\\phi'(a)\\psi(a)=0$. Slično se analiziraju i ostali slučajevi.\n",
    "\n",
    "Dakle, \n",
    "\n",
    "$$0=(\\lambda-\\mu)(\\phi,\\psi).$$\n",
    "\n",
    "Ako je $\\lambda\\neq \\mu$, onda je $(\\phi,\\psi)=0$, odnosno,\n",
    "$\\phi\\perp\\psi$. \n",
    "\n",
    "Primjere rješavanja regularnog SLP dati ćemo kasnije."
   ]
  },
  {
   "cell_type": "code",
   "execution_count": null,
   "metadata": {},
   "outputs": [],
   "source": []
  }
 ],
 "metadata": {
  "anaconda-cloud": {},
  "kernelspec": {
   "display_name": "Julia 1.1.0",
   "language": "julia",
   "name": "julia-1.1"
  },
  "language_info": {
   "file_extension": ".jl",
   "mimetype": "application/julia",
   "name": "julia",
   "version": "1.1.0"
  }
 },
 "nbformat": 4,
 "nbformat_minor": 1
}
