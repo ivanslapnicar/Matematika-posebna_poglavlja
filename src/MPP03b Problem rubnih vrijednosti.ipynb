{
 "cells": [
  {
   "cell_type": "markdown",
   "metadata": {},
   "source": [
    "# Problem rubnih vrijednosti\n",
    "\n",
    "\n",
    "\n",
    "## Klasifikacija\n",
    "\n",
    "Neka je \n",
    "\n",
    "$$ \n",
    "a\\cdot u_{xx}+b\\cdot u_{xt}+c\\cdot u_{tt}+d\\cdot u_x+e\\cdot u_t + f\\cdot u + g = 0\n",
    "$$\n",
    "\n",
    "i neka je\n",
    "\n",
    "$$\n",
    "D=b^2-4ac.\n",
    "$$\n",
    "\n",
    "Vrijedi sljedeća klasifikacija:\n",
    "\n",
    "|D | D=0  | D<0 | D>0 |  \n",
    "|:---:|:---:|:--:|:---:|\n",
    "|Vrsta| parabolička | eliptička | hiperbolička |\n",
    "|Problem| difuzija  | ravnoteža | valovi   |\n",
    "|Domena / Metoda | omeđena / SLP | omeđena / SLP | |\n",
    "|                | neomeđena / integr. trans. | neomeđena / integr. trans. | |\n",
    "\n",
    "Za neomeđeni interval $(0,\\infty)$ koristi se Laplace-ova transformacija, a za interval $(\\infty,\\infty)$ koristi se Fourier-ova transformacija."
   ]
  },
  {
   "cell_type": "markdown",
   "metadata": {},
   "source": [
    "## Jednadžba difuzije\n",
    "\n",
    "Zadan je problem \n",
    "\n",
    "\\begin{align*}\n",
    "& u_t-u_{xx}=0  \\\\\n",
    "& u(x,0)=|x|, \\quad -2<x<2 \\\\\n",
    "& u_x(-2,t)=0, \\quad u_x(2,t)=0, \\quad t>0 \n",
    "\\end{align*}\n",
    "\n",
    "Pretpostavimo separaciju varijabli (rješenje je jedinstveno pa je svaka pretpostavka korektna ako daje rješenje):\n",
    "\n",
    "$$\n",
    "u(x,t)=X(x)T(t).\n",
    "$$ \n",
    "\n",
    "Uvrštavanje u jednadžbu daje\n",
    "\n",
    "$$\n",
    "XT'=X''T\n",
    "$$\n",
    "\n",
    "odnosno (stavljamo $-\\lambda$ po dogovoru)\n",
    "\n",
    "$$\n",
    "\\frac{T'}{T}=\\frac{X''}{X}=-\\lambda,\n",
    "$$\n",
    "\n",
    "za neki $\\lambda \\in\\mathbb{R}$.\n",
    "Dakle,\n",
    "\n",
    "$$\n",
    "\\frac{T'}{T}=\\frac{X''}{X}=-\\lambda,\n",
    "$$\n",
    "\n",
    "za neki $\\lambda \\in\\mathbb{R}$.\n",
    "\n",
    "Dobili smo SLP i populacijsku jednadžbu:\n",
    "\n",
    "1. SLP: $ X''+\\lambda X=0$ uz uvjete $X'(-2)=0$ i $X'(2)=0$\n",
    "2. Populacijska jednadžba: $T'+\\lambda T=0$\n",
    "\n",
    "Za $\\lambda \\geq 0$ SLP ima svojstvene vrijednosti (izračunajte!, vidi napomenu!)\n",
    "\n",
    "$$\n",
    "\\lambda_n = \\frac{n^2\\pi^2}{4}, \\quad n\\in \\mathbb{N}\\cup \\{0\\}.\n",
    "$$\n",
    "\n",
    "i pripadne svojstvene funkcije \n",
    "\n",
    "$$ \n",
    "X_n(x)= A_n \\cos \\big(\\frac{n\\pi}{2}x\\big ).\n",
    "$$\n",
    "\n",
    "Za svaki $\\lambda_n$ rješenje populacijske jednadžbe glasi \n",
    "\n",
    "$$\n",
    "T_n(t)=B_n e^{\\displaystyle-\\frac{n^2\\pi^2}{4} t}\n",
    "$$\n",
    "\n",
    "što zajedno daje \n",
    "\n",
    "$$\n",
    "u_n(x,t)= C_n \\cos \\big(\\frac{n\\pi}{2}x\\big ) e^{\\displaystyle-\\frac{n^2\\pi^2}{4} t}.\n",
    "$$\n",
    "\n",
    "Svaka funkcija $u_n$ zadovoljava jednadžbu i rubne uvjete. \n",
    "\n",
    "Prema _principu superpozicije_ i funkcija \n",
    "\n",
    "$$\n",
    "u(x,t)=\\sum_{n=0}^\\infty u_n(x,t)= \\sum_{n=0}^\\infty C_n \\cos \\big(\\frac{n\\pi}{2}x\\big ) e^{\\displaystyle-\\frac{n^2\\pi^2}{4} t}\n",
    "$$\n",
    "\n",
    "također zadovoljava jednadžbu i rubne uvjete. Treba još odabrati koeficijente $C_n$ tako da se zadovolji i početni uvijet - radi se o razvoju u _(generalizirani) Fourierov red_:\n",
    "\n",
    "\\begin{align*}\n",
    "& u(x,0)=\\sum_{n=0}^\\infty C_n \\cos \\big(\\frac{n\\pi}{2}x\\big ) \\\\\n",
    "& C_n=  \\displaystyle \\frac{ \\big(|x|, \\cos \\big(\\frac{n\\pi}{2}x\\big ) \\big)}\n",
    "{\\big (\\cos \\big(\\frac{n\\pi}{2}x\\big ), \\cos \\big(\\frac{n\\pi}{2}x\\big ) \\big)} \\tag{*}\n",
    "\\end{align*}"
   ]
  },
  {
   "cell_type": "markdown",
   "metadata": {},
   "source": [
    "__Napomena:__ Kod traženja svojstvenih vrijednosti za slučaj $\\lambda>0$, zbog parnosti početnog uvjeta možemo odmah staviti da je koeficijent uz $\\sin(\\sqrt{\\lambda}x)$ jednak nuli."
   ]
  },
  {
   "cell_type": "markdown",
   "metadata": {},
   "source": [
    "Probajmo simboličko računanje - treba nam paket `PyPlot.jl` za crtanje i paket `SymPy.jl` za simboličko računanje:"
   ]
  },
  {
   "cell_type": "code",
   "execution_count": 1,
   "metadata": {},
   "outputs": [],
   "source": [
    "using PyPlot\n",
    "using SymPy"
   ]
  },
  {
   "cell_type": "code",
   "execution_count": 2,
   "metadata": {},
   "outputs": [
    {
     "data": {
      "text/latex": [
       "$$x$$"
      ],
      "text/plain": [
       "x"
      ]
     },
     "execution_count": 2,
     "metadata": {},
     "output_type": "execute_result"
    }
   ],
   "source": [
    "# Definirajmo simbole\n",
    "n=symbols(\"n\",integer=true, nonnegative=true)\n",
    "x=Sym(\"x\")"
   ]
  },
  {
   "cell_type": "code",
   "execution_count": 3,
   "metadata": {},
   "outputs": [
    {
     "data": {
      "text/plain": [
       "dot (generic function with 12 methods)"
      ]
     },
     "execution_count": 3,
     "metadata": {},
     "output_type": "execute_result"
    }
   ],
   "source": [
    "# Definirajmo skalarni produkt\n",
    "import Base.⋅\n",
    "⋅(f,g,a,b)=integrate(f*g,(x,a,b))"
   ]
  },
  {
   "cell_type": "code",
   "execution_count": 4,
   "metadata": {},
   "outputs": [
    {
     "data": {
      "text/latex": [
       "$$\\left|{x}\\right|$$"
      ],
      "text/plain": [
       "|x|"
      ]
     },
     "execution_count": 4,
     "metadata": {},
     "output_type": "execute_result"
    }
   ],
   "source": [
    "g=abs(x)"
   ]
  },
  {
   "cell_type": "code",
   "execution_count": 5,
   "metadata": {},
   "outputs": [
    {
     "data": {
      "text/plain": [
       "f (generic function with 1 method)"
      ]
     },
     "execution_count": 5,
     "metadata": {},
     "output_type": "execute_result"
    }
   ],
   "source": [
    "f(n)=cos(n*PI*x/2)"
   ]
  },
  {
   "cell_type": "code",
   "execution_count": 6,
   "metadata": {},
   "outputs": [
    {
     "data": {
      "text/latex": [
       "$$\\cos{\\left (\\pi x \\right )}$$"
      ],
      "text/plain": [
       "cos(pi*x)"
      ]
     },
     "execution_count": 6,
     "metadata": {},
     "output_type": "execute_result"
    }
   ],
   "source": [
    "# Na primjer\n",
    "f(2)"
   ]
  },
  {
   "cell_type": "code",
   "execution_count": 7,
   "metadata": {},
   "outputs": [
    {
     "data": {
      "text/latex": [
       "$$1$$"
      ],
      "text/plain": [
       "1"
      ]
     },
     "execution_count": 7,
     "metadata": {},
     "output_type": "execute_result"
    }
   ],
   "source": [
    "f(0)"
   ]
  },
  {
   "cell_type": "markdown",
   "metadata": {},
   "source": [
    "Izračunajmo koeficijente $C_n$:"
   ]
  },
  {
   "cell_type": "code",
   "execution_count": 8,
   "metadata": {},
   "outputs": [
    {
     "data": {
      "text/plain": [
       "C (generic function with 1 method)"
      ]
     },
     "execution_count": 8,
     "metadata": {},
     "output_type": "execute_result"
    }
   ],
   "source": [
    "C(n)=⋅(g,f(n),-2,2)/⋅(f(n),f(n),-2,2)"
   ]
  },
  {
   "cell_type": "code",
   "execution_count": 9,
   "metadata": {},
   "outputs": [
    {
     "data": {
      "text/latex": [
       "$$1$$"
      ],
      "text/plain": [
       "1"
      ]
     },
     "execution_count": 9,
     "metadata": {},
     "output_type": "execute_result"
    }
   ],
   "source": [
    "C(0)"
   ]
  },
  {
   "cell_type": "code",
   "execution_count": 10,
   "metadata": {},
   "outputs": [
    {
     "data": {
      "text/latex": [
       "$$- \\frac{8}{\\pi^{2}}$$"
      ],
      "text/plain": [
       "-8 \n",
       "---\n",
       "  2\n",
       "pi "
      ]
     },
     "execution_count": 10,
     "metadata": {},
     "output_type": "execute_result"
    }
   ],
   "source": [
    "C(1)"
   ]
  },
  {
   "cell_type": "code",
   "execution_count": 11,
   "metadata": {},
   "outputs": [
    {
     "data": {
      "text/latex": [
       "$$0$$"
      ],
      "text/plain": [
       "0"
      ]
     },
     "execution_count": 11,
     "metadata": {},
     "output_type": "execute_result"
    }
   ],
   "source": [
    "C(2)"
   ]
  },
  {
   "cell_type": "code",
   "execution_count": 12,
   "metadata": {},
   "outputs": [
    {
     "data": {
      "text/latex": [
       "$$- \\frac{8}{9 \\pi^{2}}$$"
      ],
      "text/plain": [
       " -8  \n",
       "-----\n",
       "    2\n",
       "9*pi "
      ]
     },
     "execution_count": 12,
     "metadata": {},
     "output_type": "execute_result"
    }
   ],
   "source": [
    "C(3)"
   ]
  },
  {
   "cell_type": "code",
   "execution_count": 13,
   "metadata": {},
   "outputs": [
    {
     "data": {
      "text/latex": [
       "$$- \\frac{8}{25 \\pi^{2}}$$"
      ],
      "text/plain": [
       " -8   \n",
       "------\n",
       "     2\n",
       "25*pi "
      ]
     },
     "execution_count": 13,
     "metadata": {},
     "output_type": "execute_result"
    }
   ],
   "source": [
    "C(5)"
   ]
  },
  {
   "cell_type": "markdown",
   "metadata": {},
   "source": [
    "Vidimo da je \n",
    "\n",
    "\\begin{align}\n",
    "& C_0=1, \\\\\n",
    "& C_{2k}=0, \\\\\n",
    "& C_{2k-1}=\\displaystyle\\frac{-8}{(2k-1)^2\\pi^2},\n",
    "\\end{align}\n",
    "\n",
    "odnosno\n",
    "\n",
    "$$\n",
    "u(x,t)=1 - \\sum_{k=1}^\\infty \\frac{8}{(2k-1)^2\\pi^2}\n",
    "\\cos \\bigg(\\frac{(2k-1)\\pi}{2}x\\bigg ) e^{\\displaystyle-\\frac{(2k-1)^2\\pi^2}{4} t}.\n",
    "$$"
   ]
  },
  {
   "cell_type": "markdown",
   "metadata": {},
   "source": [
    "Definirajmo sumu prvih $n$ članova reda:"
   ]
  },
  {
   "cell_type": "code",
   "execution_count": 14,
   "metadata": {},
   "outputs": [
    {
     "data": {
      "text/latex": [
       "$$t$$"
      ],
      "text/plain": [
       "t"
      ]
     },
     "execution_count": 14,
     "metadata": {},
     "output_type": "execute_result"
    }
   ],
   "source": [
    "k=symbols(\"k\", integer=true)\n",
    "t=symbols(\"t\", real=true, nonnegative=true)"
   ]
  },
  {
   "cell_type": "code",
   "execution_count": 15,
   "metadata": {},
   "outputs": [
    {
     "data": {
      "text/plain": [
       "u (generic function with 1 method)"
      ]
     },
     "execution_count": 15,
     "metadata": {},
     "output_type": "execute_result"
    }
   ],
   "source": [
    "u(n)=C(n)*f(n)*exp(-(n^2*PI^2*t/4))"
   ]
  },
  {
   "cell_type": "code",
   "execution_count": 16,
   "metadata": {},
   "outputs": [
    {
     "data": {
      "text/latex": [
       "$$1$$"
      ],
      "text/plain": [
       "1"
      ]
     },
     "execution_count": 16,
     "metadata": {},
     "output_type": "execute_result"
    }
   ],
   "source": [
    "# Na primjer\n",
    "u(0)"
   ]
  },
  {
   "cell_type": "code",
   "execution_count": 17,
   "metadata": {},
   "outputs": [
    {
     "data": {
      "text/latex": [
       "$$- \\frac{8 e^{- \\frac{9 \\pi^{2} t}{4}} \\cos{\\left (\\frac{3 \\pi x}{2} \\right )}}{9 \\pi^{2}}$$"
      ],
      "text/plain": [
       "         2                \n",
       "    -9*pi *t              \n",
       "    ---------             \n",
       "        4        /3*pi*x\\ \n",
       "-8*e         *cos|------| \n",
       "                 \\  2   / \n",
       "--------------------------\n",
       "              2           \n",
       "          9*pi            "
      ]
     },
     "execution_count": 17,
     "metadata": {},
     "output_type": "execute_result"
    }
   ],
   "source": [
    "u(3)"
   ]
  },
  {
   "cell_type": "code",
   "execution_count": 18,
   "metadata": {},
   "outputs": [
    {
     "data": {
      "text/latex": [
       "$$- \\frac{8 \\cos{\\left (0.75 \\pi \\right )}}{9 \\pi^{2} e^{1.125 \\pi^{2}}}$$"
      ],
      "text/plain": [
       "             2              \n",
       "    -1.125*pi               \n",
       "-8*e          *cos(0.75*pi) \n",
       "----------------------------\n",
       "               2            \n",
       "           9*pi             "
      ]
     },
     "execution_count": 18,
     "metadata": {},
     "output_type": "execute_result"
    }
   ],
   "source": [
    "# u(3) u nekoj točki (x,t)\n",
    "u(3)(0.5,0.5)"
   ]
  },
  {
   "cell_type": "code",
   "execution_count": 19,
   "metadata": {},
   "outputs": [
    {
     "data": {
      "text/plain": [
       "9.59243054056247e-7"
      ]
     },
     "execution_count": 19,
     "metadata": {},
     "output_type": "execute_result"
    }
   ],
   "source": [
    "# Numerička vrijednost\n",
    "N(u(3)(0.5,0.5))"
   ]
  },
  {
   "cell_type": "code",
   "execution_count": 20,
   "metadata": {},
   "outputs": [
    {
     "data": {
      "text/plain": [
       "U (generic function with 1 method)"
      ]
     },
     "execution_count": 20,
     "metadata": {},
     "output_type": "execute_result"
    }
   ],
   "source": [
    "# Suma prvih n članova reda\n",
    "U(n)=summation(u(k),(k,0,n))"
   ]
  },
  {
   "cell_type": "code",
   "execution_count": 21,
   "metadata": {},
   "outputs": [
    {
     "data": {
      "text/latex": [
       "$$1 - \\frac{8 e^{- \\frac{\\pi^{2} t}{4}} \\cos{\\left (\\frac{\\pi x}{2} \\right )}}{\\pi^{2}} - \\frac{8 e^{- \\frac{9 \\pi^{2} t}{4}} \\cos{\\left (\\frac{3 \\pi x}{2} \\right )}}{9 \\pi^{2}} - \\frac{8 e^{- \\frac{25 \\pi^{2} t}{4}} \\cos{\\left (\\frac{5 \\pi x}{2} \\right )}}{25 \\pi^{2}}$$"
      ],
      "text/plain": [
       "          2                        2                           2              \n",
       "       -pi *t                 -9*pi *t                   -25*pi *t            \n",
       "       -------                ---------                  ----------           \n",
       "          4       /pi*x\\          4        /3*pi*x\\          4         /5*pi*x\n",
       "    8*e       *cos|----|   8*e         *cos|------|   8*e          *cos|------\n",
       "                  \\ 2  /                   \\  2   /                    \\  2   \n",
       "1 - -------------------- - ------------------------ - ------------------------\n",
       "              2                         2                            2        \n",
       "            pi                      9*pi                        25*pi         \n",
       "\n",
       " \n",
       " \n",
       " \n",
       "\\\n",
       "|\n",
       "/\n",
       "-\n",
       " \n",
       " "
      ]
     },
     "execution_count": 21,
     "metadata": {},
     "output_type": "execute_result"
    }
   ],
   "source": [
    "U(5)"
   ]
  },
  {
   "cell_type": "code",
   "execution_count": 22,
   "metadata": {},
   "outputs": [
    {
     "data": {
      "text/plain": [
       "0.8330895966582438"
      ]
     },
     "execution_count": 22,
     "metadata": {},
     "output_type": "execute_result"
    }
   ],
   "source": [
    "# Numerička vrijednost\n",
    "N(U(5)(0.5,0.5))"
   ]
  },
  {
   "cell_type": "code",
   "execution_count": 23,
   "metadata": {},
   "outputs": [
    {
     "name": "stdout",
     "output_type": "stream",
     "text": [
      "  2.427475 seconds (1.47 k allocations: 51.576 KiB)\n"
     ]
    },
    {
     "data": {
      "text/plain": [
       "0.499415238140432"
      ]
     },
     "execution_count": 23,
     "metadata": {},
     "output_type": "execute_result"
    }
   ],
   "source": [
    "# Za t=0 ovo mora konvergirati u |x|\n",
    "@time N(U(11)(0.5,0.0))"
   ]
  },
  {
   "cell_type": "markdown",
   "metadata": {},
   "source": [
    "__Napomena:__ Radi se o simboličkom računanju pa ne treba pretjerivati s $n$.\n",
    "\n",
    "### Crtanje"
   ]
  },
  {
   "cell_type": "code",
   "execution_count": 24,
   "metadata": {},
   "outputs": [
    {
     "data": {
      "text/plain": [
       "0.0:0.7142857142857143:5.0"
      ]
     },
     "execution_count": 24,
     "metadata": {},
     "output_type": "execute_result"
    }
   ],
   "source": [
    "m=8\n",
    "X=linspace(-2,2,m)\n",
    "T=linspace(0,5,m)"
   ]
  },
  {
   "cell_type": "code",
   "execution_count": 25,
   "metadata": {},
   "outputs": [],
   "source": [
    "# Ovo je sporo jer se radi o simboličkoj funkciji \n",
    "# (8*8*2.5=160 sekunda)\n",
    "z = zeros(m,m)\n",
    "for i in 1:m\n",
    "    for j in 1:m\n",
    "        z[i,j] = N(U(9)(X[i],T[j]))\n",
    "    end\n",
    "end"
   ]
  },
  {
   "cell_type": "code",
   "execution_count": 26,
   "metadata": {},
   "outputs": [
    {
     "data": {
      "image/png": "[encoded data removed]",
      "text/plain": [
       "PyPlot.Figure(PyObject <matplotlib.figure.Figure object at 0x7f426c004f10>)"
      ]
     },
     "metadata": {},
     "output_type": "display_data"
    },
    {
     "data": {
      "text/plain": [
       "PyObject <matplotlib.text.Text object at 0x7f426b8ca190>"
      ]
     },
     "execution_count": 26,
     "metadata": {},
     "output_type": "execute_result"
    }
   ],
   "source": [
    "plot_surface(X,T,z',rstride=1,edgecolors=\"k\", cstride=1, \n",
    "    cmap=ColorMap(\"gray\"), alpha=0.8, linewidth=0.25)\n",
    "xlabel(\"X\")\n",
    "ylabel(\"T\")"
   ]
  },
  {
   "cell_type": "markdown",
   "metadata": {},
   "source": [
    "### Numeričko računanje i crtanje\n",
    "\n",
    "Pogledajmo interaktivno konvergenciju - treba nam paket `Interact.jl`:"
   ]
  },
  {
   "cell_type": "code",
   "execution_count": 27,
   "metadata": {},
   "outputs": [
    {
     "data": {
      "text/html": [
       "<div id=\"interact-js-shim\">\n",
       "    <script charset=\"utf-8\">\n",
       "(function (IPython, $, _, MathJax) {\n",
       "    $.event.special.destroyed = {\n",
       "\tremove: function(o) {\n",
       "\t    if (o.handler) {\n",
       "\t\to.handler.apply(this, arguments)\n",
       "\t    }\n",
       "\t}\n",
       "    }\n",
       "\n",
       "    var OutputArea = IPython.version >= \"4.0.0\" ? require(\"notebook/js/outputarea\").OutputArea : IPython.OutputArea;\n",
       "\n",
       "    var redrawValue = function (container, type, val) {\n",
       "\tvar selector = $(\"<div/>\");\n",
       "\tvar oa = new OutputArea(_.extend(selector, {\n",
       "\t    selector: selector,\n",
       "\t    prompt_area: true,\n",
       "\t    events: IPython.events,\n",
       "\t    keyboard_manager: IPython.keyboard_manager\n",
       "\t})); // Hack to work with IPython 2.1.0\n",
       "\n",
       "\tswitch (type) {\n",
       "\tcase \"image/png\":\n",
       "            var _src = 'data:' + type + ';base64,' + val;\n",
       "\t    $(container).find(\"img\").attr('src', _src);\n",
       "\t    break;\n",
       "\tcase \"text/latex\":\n",
       "\t\tif (MathJax){\n",
       "\t\t\tvar math = MathJax.Hub.getAllJax(container)[0];\n",
       "\t\t\tMathJax.Hub.Queue([\"Text\", math, val.replace(/^\\${1,2}|\\${1,2}$/g, '')]);\n",
       "\t\t\tbreak;\n",
       "\t\t}\n",
       "\tdefault:\n",
       "\t    var toinsert = OutputArea.append_map[type].apply(\n",
       "\t\toa, [val, {}, selector]\n",
       "\t    );\n",
       "\t    $(container).empty().append(toinsert.contents());\n",
       "\t    selector.remove();\n",
       "\t}\n",
       "    }\n",
       "\n",
       "\n",
       "    $(document).ready(function() {\n",
       "\tfunction initComm(evt, data) {\n",
       "\t    var comm_manager = data.kernel.comm_manager;\n",
       "        //_.extend(comm_manager.targets, require(\"widgets/js/widget\"))\n",
       "\t    comm_manager.register_target(\"Signal\", function (comm) {\n",
       "            comm.on_msg(function (msg) {\n",
       "                var val = msg.content.data.value;\n",
       "                $(\".signal-\" + comm.comm_id).each(function() {\n",
       "                var type = $(this).data(\"type\");\n",
       "                if (typeof(val[type]) !== \"undefined\" && val[type] !== null) {\n",
       "                    redrawValue(this, type, val[type], type);\n",
       "                }\n",
       "                });\n",
       "                delete val;\n",
       "                delete msg.content.data.value;\n",
       "            });\n",
       "\t    });\n",
       "\n",
       "\t    // coordingate with Comm and redraw Signals\n",
       "\t    // XXX: Test using Reactive here to improve performance\n",
       "\t    $([IPython.events]).on(\n",
       "\t\t'output_appended.OutputArea', function (event, type, value, md, toinsert) {\n",
       "\t\t    if (md && md.reactive) {\n",
       "                // console.log(md.comm_id);\n",
       "                toinsert.addClass(\"signal-\" + md.comm_id);\n",
       "                toinsert.data(\"type\", type);\n",
       "                // Signal back indicating the mimetype required\n",
       "                var comm_manager = IPython.notebook.kernel.comm_manager;\n",
       "                var comm = comm_manager.comms[md.comm_id];\n",
       "                comm.then(function (c) {\n",
       "                    c.send({action: \"subscribe_mime\",\n",
       "                       mime: type});\n",
       "                    toinsert.bind(\"destroyed\", function() {\n",
       "                        c.send({action: \"unsubscribe_mime\",\n",
       "                               mime: type});\n",
       "                    });\n",
       "                })\n",
       "\t\t    }\n",
       "\t    });\n",
       "\t}\n",
       "\n",
       "\ttry {\n",
       "\t    // try to initialize right away. otherwise, wait on the status_started event.\n",
       "\t    initComm(undefined, IPython.notebook);\n",
       "\t} catch (e) {\n",
       "\t    $([IPython.events]).on('kernel_created.Kernel kernel_created.Session', initComm);\n",
       "\t}\n",
       "    });\n",
       "})(IPython, jQuery, _, MathJax);\n",
       "</script>\n",
       "    <script>\n",
       "        window.interactLoadedFlag = true\n",
       "       $(\"#interact-js-shim\").bind(\"destroyed\", function () {\n",
       "           if (window.interactLoadedFlag) {\n",
       "               console.warn(\"JavaScript required by Interact will be removed if you remove this cell or run using Interact more than once.\")\n",
       "           }\n",
       "       })\n",
       "       $([IPython.events]).on(\"kernel_starting.Kernel kernel_restarting.Kernel\", function () { window.interactLoadedFlag = false })\n",
       "   </script>\n",
       "</div>"
      ]
     },
     "metadata": {},
     "output_type": "display_data"
    },
    {
     "name": "stderr",
     "output_type": "stream",
     "text": [
      "\u001b[1m\u001b[36mINFO: \u001b[39m\u001b[22m\u001b[36mInteract.jl: using new nbwidgetsextension protocol\n",
      "\u001b[39m"
     ]
    }
   ],
   "source": [
    "using Interact"
   ]
  },
  {
   "cell_type": "code",
   "execution_count": 28,
   "metadata": {},
   "outputs": [
    {
     "data": {
      "text/plain": [
       "50×50 Array{Tuple{Float64,Float64},2}:\n",
       " (-2.0, 0.0)      (-2.0, 0.102041)      …  (-2.0, 5.0)    \n",
       " (-1.91837, 0.0)  (-1.91837, 0.102041)     (-1.91837, 5.0)\n",
       " (-1.83673, 0.0)  (-1.83673, 0.102041)     (-1.83673, 5.0)\n",
       " (-1.7551, 0.0)   (-1.7551, 0.102041)      (-1.7551, 5.0) \n",
       " (-1.67347, 0.0)  (-1.67347, 0.102041)     (-1.67347, 5.0)\n",
       " (-1.59184, 0.0)  (-1.59184, 0.102041)  …  (-1.59184, 5.0)\n",
       " (-1.5102, 0.0)   (-1.5102, 0.102041)      (-1.5102, 5.0) \n",
       " (-1.42857, 0.0)  (-1.42857, 0.102041)     (-1.42857, 5.0)\n",
       " (-1.34694, 0.0)  (-1.34694, 0.102041)     (-1.34694, 5.0)\n",
       " (-1.26531, 0.0)  (-1.26531, 0.102041)     (-1.26531, 5.0)\n",
       " (-1.18367, 0.0)  (-1.18367, 0.102041)  …  (-1.18367, 5.0)\n",
       " (-1.10204, 0.0)  (-1.10204, 0.102041)     (-1.10204, 5.0)\n",
       " (-1.02041, 0.0)  (-1.02041, 0.102041)     (-1.02041, 5.0)\n",
       " ⋮                                      ⋱                 \n",
       " (1.10204, 0.0)   (1.10204, 0.102041)      (1.10204, 5.0) \n",
       " (1.18367, 0.0)   (1.18367, 0.102041)      (1.18367, 5.0) \n",
       " (1.26531, 0.0)   (1.26531, 0.102041)   …  (1.26531, 5.0) \n",
       " (1.34694, 0.0)   (1.34694, 0.102041)      (1.34694, 5.0) \n",
       " (1.42857, 0.0)   (1.42857, 0.102041)      (1.42857, 5.0) \n",
       " (1.5102, 0.0)    (1.5102, 0.102041)       (1.5102, 5.0)  \n",
       " (1.59184, 0.0)   (1.59184, 0.102041)      (1.59184, 5.0) \n",
       " (1.67347, 0.0)   (1.67347, 0.102041)   …  (1.67347, 5.0) \n",
       " (1.7551, 0.0)    (1.7551, 0.102041)       (1.7551, 5.0)  \n",
       " (1.83673, 0.0)   (1.83673, 0.102041)      (1.83673, 5.0) \n",
       " (1.91837, 0.0)   (1.91837, 0.102041)      (1.91837, 5.0) \n",
       " (2.0, 0.0)       (2.0, 0.102041)          (2.0, 5.0)     "
      ]
     },
     "execution_count": 28,
     "metadata": {},
     "output_type": "execute_result"
    }
   ],
   "source": [
    "X=linspace(-2,2)\n",
    "T=linspace(0,5)\n",
    "XT=collect(Iterators.product(X,T))"
   ]
  },
  {
   "cell_type": "code",
   "execution_count": 29,
   "metadata": {},
   "outputs": [
    {
     "data": {
      "application/vnd.jupyter.widget-view+json": {
       "model_id": "63db9f11-b736-4844-9de2-9b29910f9154",
       "version_major": 2,
       "version_minor": 0
      }
     },
     "metadata": {},
     "output_type": "display_data"
    },
    {
     "data": {
      "text/html": [],
      "text/plain": [
       "Interact.Slider{Int64}(1: \"input\" = 1 Int64 , \"\", 1, 1:10, \"horizontal\", true, \"d\", true)"
      ]
     },
     "metadata": {},
     "output_type": "display_data"
    },
    {
     "data": {
      "image/png": "[encoded data removed]",
      "text/plain": [
       "PyPlot.Figure(PyObject <matplotlib.figure.Figure object at 0x7f426bfb7650>)"
      ]
     },
     "execution_count": 29,
     "metadata": {
      "comm_id": "98556e56-3aef-4671-89e6-a05900dba73e",
      "reactive": true
     },
     "output_type": "execute_result"
    }
   ],
   "source": [
    "g=figure()\n",
    "@manipulate for l in slider(1:10, value=1) ; withfig(g) do\n",
    "        h(xt)=1-8*sum([cos.((2*k-1)*pi*xt[1]/2).*exp.(-(2*k-1)^2*pi^2*xt[2]/4)/((2*k-1)^2*π^2) \n",
    "                for k=1:l])\n",
    "        surf(X,T,map(h,XT)')\n",
    "        xlabel(\"X\")\n",
    "        ylabel(\"T\")\n",
    "    end\n",
    "end"
   ]
  },
  {
   "cell_type": "markdown",
   "metadata": {},
   "source": [
    "## Primjer 1\n",
    "\n",
    "\\begin{align*}\n",
    "& u_t-u_{xx}=-u \\\\\n",
    "& u(x,0)=f(x)=\\begin{cases}0, \\quad -1<x<0 \\\\ x,\\quad 0<x<1 \\end{cases} \\\\\n",
    "& u(-1,t)=0,\\quad u(1,t)=0 \n",
    "\\end{align*}\n",
    "\n",
    "Za detalje o simboličkom računanju pogledajte\n",
    "[SymPy Tutorial](https://github.com/jverzani/SymPy.jl/blob/master/examples/tutorial.md).\n",
    "\n",
    "Uvrštavanjem\n",
    "\n",
    "$$\n",
    "u(x,t)=X(x)T(t)\n",
    "$$\n",
    "\n",
    "jednadžba prelazi u jednadžbu\n",
    "\n",
    "$$\n",
    "T'X-TX''=-TX,\n",
    "$$\n",
    "\n",
    "što daje dvije jednadžbe:\n",
    "\n",
    "$$\n",
    "\\frac{X''}{X}=\\frac{T'+T}{T}=-\\lambda.\n",
    "$$\n",
    "\n",
    "Jednadžba po $T$ je populacijska jednadžba koja glasi\n",
    "\n",
    "$$\n",
    "T'=-(\\lambda+1)T\n",
    "$$\n",
    "\n",
    "i čije rješenje je\n",
    "\n",
    "$$\n",
    "T=Ce^{-(\\lambda+1)t}.\n",
    "$$\n",
    "\n",
    "Riješimo SLP po $X$:\n",
    "\n",
    "$$\n",
    "X''=-\\lambda X, \\quad X(-1)=0, \\quad X(1)=0.\n",
    "$$"
   ]
  },
  {
   "cell_type": "code",
   "execution_count": 30,
   "metadata": {},
   "outputs": [
    {
     "data": {
      "text/plain": [
       "F"
      ]
     },
     "execution_count": 30,
     "metadata": {},
     "output_type": "execute_result"
    }
   ],
   "source": [
    "F = SymFunction(\"F\")"
   ]
  },
  {
   "cell_type": "code",
   "execution_count": 31,
   "metadata": {},
   "outputs": [
    {
     "data": {
      "text/latex": [
       "$$l F{\\left (x \\right )} + \\frac{d^{2}}{d x^{2}} F{\\left (x \\right )} = 0$$"
      ],
      "text/plain": [
       "           2          \n",
       "          d           \n",
       "l*F(x) + ---(F(x)) = 0\n",
       "           2          \n",
       "         dx           "
      ]
     },
     "execution_count": 31,
     "metadata": {},
     "output_type": "execute_result"
    }
   ],
   "source": [
    "l=symbols(\"l\",real=true,positive=true)\n",
    "diffeq = Eq(diff(F(x), x, x) +l*F(x), 0)"
   ]
  },
  {
   "cell_type": "code",
   "execution_count": 32,
   "metadata": {},
   "outputs": [
    {
     "data": {
      "text/latex": [
       "$$F{\\left (x \\right )} = C_{1} \\sin{\\left (\\sqrt{l} x \\right )} + C_{2} \\cos{\\left (\\sqrt{l} x \\right )}$$"
      ],
      "text/plain": [
       "             /  ___  \\         /  ___  \\\n",
       "F(x) = C1*sin\\\\/ l *x/ + C2*cos\\\\/ l *x/"
      ]
     },
     "execution_count": 32,
     "metadata": {},
     "output_type": "execute_result"
    }
   ],
   "source": [
    "ex = dsolve(diffeq)"
   ]
  },
  {
   "cell_type": "code",
   "execution_count": 33,
   "metadata": {},
   "outputs": [
    {
     "data": {
      "text/latex": [
       "$$C_{1} \\sin{\\left (\\sqrt{l} x \\right )} + C_{2} \\cos{\\left (\\sqrt{l} x \\right )}$$"
      ],
      "text/plain": [
       "      /  ___  \\         /  ___  \\\n",
       "C1*sin\\\\/ l *x/ + C2*cos\\\\/ l *x/"
      ]
     },
     "execution_count": 33,
     "metadata": {},
     "output_type": "execute_result"
    }
   ],
   "source": [
    "ex1 = rhs(ex)"
   ]
  },
  {
   "cell_type": "markdown",
   "metadata": {},
   "source": [
    "Uvrstimo rubne uvjete:"
   ]
  },
  {
   "cell_type": "code",
   "execution_count": 34,
   "metadata": {},
   "outputs": [
    {
     "data": {
      "text/latex": [
       "$$- C_{1} \\sin{\\left (\\sqrt{l} \\right )} + C_{2} \\cos{\\left (\\sqrt{l} \\right )}$$"
      ],
      "text/plain": [
       "        /  ___\\         /  ___\\\n",
       "- C1*sin\\\\/ l / + C2*cos\\\\/ l /"
      ]
     },
     "execution_count": 34,
     "metadata": {},
     "output_type": "execute_result"
    }
   ],
   "source": [
    "ex1a=subs(ex1,x,-1)"
   ]
  },
  {
   "cell_type": "code",
   "execution_count": 35,
   "metadata": {},
   "outputs": [
    {
     "data": {
      "text/latex": [
       "$$C_{1} \\sin{\\left (\\sqrt{l} \\right )} + C_{2} \\cos{\\left (\\sqrt{l} \\right )}$$"
      ],
      "text/plain": [
       "      /  ___\\         /  ___\\\n",
       "C1*sin\\\\/ l / + C2*cos\\\\/ l /"
      ]
     },
     "execution_count": 35,
     "metadata": {},
     "output_type": "execute_result"
    }
   ],
   "source": [
    "ex1b=subs(ex1,x,1)"
   ]
  },
  {
   "cell_type": "code",
   "execution_count": 36,
   "metadata": {},
   "outputs": [
    {
     "data": {
      "text/latex": [
       "\\begin{bmatrix}\\frac{\\pi^{2}}{4}\\\\\\frac{9 \\pi^{2}}{4}\\end{bmatrix}"
      ],
      "text/plain": [
       "2-element Array{SymPy.Sym,1}:\n",
       "   pi^2/4\n",
       " 9*pi^2/4"
      ]
     },
     "execution_count": 36,
     "metadata": {},
     "output_type": "execute_result"
    }
   ],
   "source": [
    "solve(cos(sqrt(l)),l)"
   ]
  },
  {
   "cell_type": "markdown",
   "metadata": {},
   "source": [
    "Sustav jednadžbi je homogen i glasi\n",
    "\n",
    "$$\n",
    "\\begin{bmatrix} -C_1 & C_2 \\\\ C_1 & C_2 \\end{bmatrix} \\begin{bmatrix}\\sin \\sqrt{\\lambda} \\\\ \\cos\\sqrt{\\lambda} \\end{bmatrix} = \\begin{bmatrix} 0\\\\ 0\\end{bmatrix}.\n",
    "$$\n",
    "\n",
    "Trivijalno rješenje je u ovom slučaju očito nemoguće, a netrivijalna rješenje postoje kada je \n",
    "matrica sustava singularna, odnosno kada je $C_1=0$ ili $C_2=0$.\n",
    "\n",
    "Kada je $C_1=0$ onda je $\\cos\\sqrt{\\lambda}=0$ pa je \n",
    "\n",
    "$$\n",
    "\\sqrt{\\lambda}=\\frac{2n+1}{2}\\pi, \\quad n=0,1,2,3,\\ldots\n",
    "$$\n",
    "\n",
    "Kada je $C_2=0$ onda je $\\sin\\sqrt{\\lambda}=0$ pa je \n",
    "\n",
    "$$\n",
    "\\sqrt{\\lambda}=n\\pi, \\quad n=0,1,2,3,\\ldots\n",
    "$$\n",
    "\n",
    "Dakle, rješenje problema koje zadovoljava jednadžbu i rubne uvjete ima oblik:\n",
    "\n",
    "\\begin{equation*}\n",
    "u(x,t)=\\sum_{n=0}^\\infty a_n \\cos \\bigg(\\frac{2n+1}{2}\\pi x\\bigg)\n",
    "e^{-\\big(\\big[\\frac{2n+1}{2}\\pi\\big]^2+1\\big)t}+b_n \\sin (n\\pi x)\\,e^{-([n\\pi]^2+1)t}.\n",
    "\\end{equation*}\n",
    "\n",
    "Potrebno je zadovoljiti još početni uvjet:\n",
    "\n",
    "\\begin{equation*}\n",
    "u(x,0)=\\sum_{n=0}^\\infty a_n \\cos \\bigg(\\frac{2n+1}{2}\\pi x\\bigg)+b_n \\sin (n\\pi x)=f(x).\n",
    "\\end{equation*}\n",
    " \n",
    "Radi se o razvoju u generalizirani Fourierov red funkcije f(x): "
   ]
  },
  {
   "cell_type": "code",
   "execution_count": 37,
   "metadata": {},
   "outputs": [
    {
     "data": {
      "text/latex": [
       "$$\\begin{cases} 0 & \\text{for}\\: x \\lt 0 \\\\x & \\text{otherwise} \\end{cases}$$"
      ],
      "text/plain": [
       "/0  for x < 0\n",
       "<            \n",
       "\\x  otherwise"
      ]
     },
     "execution_count": 37,
     "metadata": {},
     "output_type": "execute_result"
    }
   ],
   "source": [
    "p=piecewise((0,Lt(x,0)),(x,Ge(x,0)))"
   ]
  },
  {
   "cell_type": "code",
   "execution_count": 39,
   "metadata": {
    "scrolled": true
   },
   "outputs": [],
   "source": [
    "xx=linspace(-1,1)\n",
    "y=[p(xx[i]) for i=1:length(xx)];"
   ]
  },
  {
   "cell_type": "markdown",
   "metadata": {},
   "source": [
    "Provjerimo ortonormiranost sustava funkcija."
   ]
  },
  {
   "cell_type": "code",
   "execution_count": 40,
   "metadata": {},
   "outputs": [
    {
     "data": {
      "text/latex": [
       "$$1$$"
      ],
      "text/plain": [
       "1"
      ]
     },
     "execution_count": 40,
     "metadata": {},
     "output_type": "execute_result"
    }
   ],
   "source": [
    "⋅(cos((2*n+1)*pi*x/2),cos((2*n+1)*pi*x/2),-1,1)"
   ]
  },
  {
   "cell_type": "code",
   "execution_count": 41,
   "metadata": {},
   "outputs": [
    {
     "data": {
      "text/latex": [
       "$$\\begin{cases} 1 & \\text{for}\\: n \\neq 0 \\\\0 & \\text{otherwise} \\end{cases}$$"
      ],
      "text/plain": [
       "/1  for n != 0\n",
       "<             \n",
       "\\0  otherwise "
      ]
     },
     "execution_count": 41,
     "metadata": {},
     "output_type": "execute_result"
    }
   ],
   "source": [
    "⋅(sin(n*pi*x),sin(n*pi*x),-1,1)"
   ]
  },
  {
   "cell_type": "markdown",
   "metadata": {},
   "source": [
    "Norme svih funkcija su jednake $1$ pa ne trebanmo računati nazivnike."
   ]
  },
  {
   "cell_type": "code",
   "execution_count": 42,
   "metadata": {},
   "outputs": [
    {
     "data": {
      "text/plain": [
       "a (generic function with 1 method)"
      ]
     },
     "execution_count": 42,
     "metadata": {},
     "output_type": "execute_result"
    }
   ],
   "source": [
    "a(n)=⋅(p(x),cos((2*n+1)*PI*x/2),-1,1)"
   ]
  },
  {
   "cell_type": "code",
   "execution_count": 43,
   "metadata": {},
   "outputs": [
    {
     "data": {
      "text/latex": [
       "$$- \\frac{4}{\\pi^{2}} + \\frac{2}{\\pi}$$"
      ],
      "text/plain": [
       "   4    2 \n",
       "- --- + --\n",
       "    2   pi\n",
       "  pi      "
      ]
     },
     "execution_count": 43,
     "metadata": {},
     "output_type": "execute_result"
    }
   ],
   "source": [
    "a(0)"
   ]
  },
  {
   "cell_type": "code",
   "execution_count": 44,
   "metadata": {},
   "outputs": [
    {
     "data": {
      "text/plain": [
       "0.23133503779823025"
      ]
     },
     "execution_count": 44,
     "metadata": {},
     "output_type": "execute_result"
    }
   ],
   "source": [
    "N(a(0))"
   ]
  },
  {
   "cell_type": "code",
   "execution_count": 45,
   "metadata": {},
   "outputs": [
    {
     "data": {
      "text/plain": [
       "b (generic function with 1 method)"
      ]
     },
     "execution_count": 45,
     "metadata": {},
     "output_type": "execute_result"
    }
   ],
   "source": [
    "b(n)=⋅(p(x),sin(n*PI*x),-1,1)"
   ]
  },
  {
   "cell_type": "code",
   "execution_count": 46,
   "metadata": {},
   "outputs": [
    {
     "data": {
      "text/latex": [
       "$$0$$"
      ],
      "text/plain": [
       "0"
      ]
     },
     "execution_count": 46,
     "metadata": {},
     "output_type": "execute_result"
    }
   ],
   "source": [
    "b(0)"
   ]
  },
  {
   "cell_type": "code",
   "execution_count": 47,
   "metadata": {},
   "outputs": [
    {
     "data": {
      "text/latex": [
       "$$\\frac{1}{\\pi}$$"
      ],
      "text/plain": [
       "1 \n",
       "--\n",
       "pi"
      ]
     },
     "execution_count": 47,
     "metadata": {},
     "output_type": "execute_result"
    }
   ],
   "source": [
    "b(1)"
   ]
  },
  {
   "cell_type": "markdown",
   "metadata": {},
   "source": [
    "Pripremimo se za brže računanje tako da ćemo unaprijed izračunati numeričke\n",
    "vrijednosti koeficijenata $a_n$ i $b_n$. "
   ]
  },
  {
   "cell_type": "code",
   "execution_count": 48,
   "metadata": {},
   "outputs": [
    {
     "data": {
      "text/plain": [
       "21-element Array{Float64,1}:\n",
       "  0.231335 \n",
       " -0.257238 \n",
       "  0.111113 \n",
       " -0.0992168\n",
       "  0.065732 \n",
       " -0.061224 \n",
       "  0.0465726\n",
       " -0.0442426\n",
       "  0.0360459\n",
       " -0.034629 \n",
       "  0.0293962\n",
       " -0.0284453\n",
       "  0.0248163\n",
       " -0.0241345\n",
       "  0.0214705\n",
       " -0.0209579\n",
       "  0.0189193\n",
       " -0.01852  \n",
       "  0.0169099\n",
       " -0.01659  \n",
       "  0.0152862"
      ]
     },
     "execution_count": 48,
     "metadata": {},
     "output_type": "execute_result"
    }
   ],
   "source": [
    "A=[N(a(n)) for n=0:20]"
   ]
  },
  {
   "cell_type": "code",
   "execution_count": 49,
   "metadata": {},
   "outputs": [
    {
     "data": {
      "text/plain": [
       "21-element Array{Real,1}:\n",
       "  0        \n",
       "  0.31831  \n",
       " -0.159155 \n",
       "  0.106103 \n",
       " -0.0795775\n",
       "  0.063662 \n",
       " -0.0530516\n",
       "  0.0454728\n",
       " -0.0397887\n",
       "  0.0353678\n",
       " -0.031831 \n",
       "  0.0289373\n",
       " -0.0265258\n",
       "  0.0244854\n",
       " -0.0227364\n",
       "  0.0212207\n",
       " -0.0198944\n",
       "  0.0187241\n",
       " -0.0176839\n",
       "  0.0167532\n",
       " -0.0159155"
      ]
     },
     "execution_count": 49,
     "metadata": {},
     "output_type": "execute_result"
    }
   ],
   "source": [
    "B=[N(b(n)) for n=0:20]"
   ]
  },
  {
   "cell_type": "code",
   "execution_count": 50,
   "metadata": {},
   "outputs": [],
   "source": [
    "X=linspace(-1,1)\n",
    "T=linspace(0,5)\n",
    "XT=collect(Iterators.product(X,T));"
   ]
  },
  {
   "cell_type": "code",
   "execution_count": 52,
   "metadata": {},
   "outputs": [
    {
     "data": {
      "application/vnd.jupyter.widget-view+json": {
       "model_id": "0b095783-be0b-4d03-a1c5-5478d6473d62",
       "version_major": 2,
       "version_minor": 0
      }
     },
     "metadata": {},
     "output_type": "display_data"
    },
    {
     "data": {
      "text/html": [],
      "text/plain": [
       "Interact.Slider{Int64}(9: \"input-3\" = 5 Int64 , \"\", 5, 1:20, \"horizontal\", true, \"d\", true)"
      ]
     },
     "metadata": {},
     "output_type": "display_data"
    },
    {
     "data": {
      "image/png": "[encoded data removed]",
      "text/plain": [
       "PyPlot.Figure(PyObject <matplotlib.figure.Figure object at 0x7f42674ad450>)"
      ]
     },
     "execution_count": 52,
     "metadata": {
      "comm_id": "dd2180b5-5805-48c6-aa37-be9ca6934819",
      "reactive": true
     },
     "output_type": "execute_result"
    }
   ],
   "source": [
    "g=figure()\n",
    "@manipulate for l in slider(1:20, value=5); withfig(g) do\n",
    "        h(xt)=sum([A[k]*cos.((2*k-1)*pi*xt[1]/2).*\n",
    "                exp.(-(((2*k-1)*pi/2)^2/4+1)*xt[2])+\n",
    "                B[k]*sin.((k-1)*pi*xt[1]).*exp.(-(((k-1)*pi)^2+1)*xt[2]) \n",
    "                for k=1:l]) \n",
    "        surf(X,T,map(h,XT)')\n",
    "        xlabel(\"X\")\n",
    "        ylabel(\"T\")\n",
    "    end\n",
    "end"
   ]
  },
  {
   "cell_type": "markdown",
   "metadata": {
    "collapsed": true
   },
   "source": [
    "## Homogenizacija\n",
    "\n",
    "U oba prethodna primjera zadani su homogeni rubni uvjeti. Ukoliko rubni uvjeti nisu homogeni, zadani problem je potrebno _homogenizirati_ kako bi mogli dobiti regularni SLP.\n",
    "\n",
    "Navedimo primjer. Neka je zadan problem\n",
    "\n",
    "\\begin{align*}\n",
    "& u_t -u_{xx}=0,\\quad 0<x<l,\\quad t>0 \\\\\n",
    "& u(x,0)=f(x),\\quad 0<x<l \\\\\n",
    "& u(0,t)=g(t),\\quad u(l,t)=h(t),\\quad t>0.\n",
    "\\end{align*}\n",
    " \n",
    "Nađimo rješenje u obliku\n",
    "\n",
    "$$\n",
    "u(x,t)=v(x,t)+U(x,t),\n",
    "$$\n",
    "\n",
    "gdje je $v$ rješenje problema sa homogenim rubnim uvjetima. Vrijedi\n",
    "\n",
    "\\begin{align*}\n",
    "& u=v+U\\\\\n",
    "& u_t=v_t+U_t\\\\\n",
    "& u_{xx}=v_{xx}+U_{xx}\n",
    "\\end{align*}\n",
    "\n",
    "pa zadana PDJ prelazi u \n",
    "\n",
    "$$\n",
    "v_t+U_t=v_{xx}+U_{xx}.\n",
    "$$\n",
    "\n",
    "Početni uvjet za $v$ glasi\n",
    "\n",
    "$$\n",
    "v(x,0)=u(x,0)-U(x,0)=f(x)-U(x,0),\n",
    "$$\n",
    "\n",
    "a rubni uvjeti glase\n",
    "\n",
    "\\begin{align*}\n",
    "& v(0,t)=u(0,t)-U(0,t)=g(t)-U(0,t)=0\\quad  \\textrm{(želimo homogeni uvjet)}\\\\\n",
    "& v(l,t)=u(l,t)-U(l,t)=h(t)-U(l,t)=0 \\quad  \\textrm{(želimo homogeni uvjet)}\n",
    "\\end{align*}\n",
    "\n",
    "Zaključujemo da će $v$ zadovoljavati homogene rubne uvjete ako je \n",
    "\n",
    "$$\n",
    "U(x,t)=g(t)+\\displaystyle\\frac{x}{l}[h(t)-g(t)],\\quad 0<x<l.\n",
    "$$\n",
    "\n",
    "Za ovako definiranu funkciju $U$ vrijedi\n",
    "\n",
    "\\begin{align*}\n",
    "& U_t=g'(t)+\\displaystyle\\frac{x}{l}[h'(t)-g'(t)]\\\\\n",
    "& U_{xx}=0.\n",
    "\\end{align*}\n",
    "\n",
    "Uvrštavanjem slijedi da je $v$ rješenje _homogenog_ reakcijsko-difuzijskog problema\n",
    "\n",
    "\\begin{align*}\n",
    "&v_t=v_{xx}-g'(t)-\\displaystyle\\frac{x}{l}[h'(t)-g'(t)], \\quad 0<x<l,\\quad t>0\n",
    "\\\\\n",
    "&v(x,0)=f(x)-g(0)-\\displaystyle\\frac{x}{l}[h(0)-g(0)], \\quad 0<x<l\n",
    "\\\\\n",
    "& v(0,t)=0,\\quad v(l,t)=0,\\quad t>0,\n",
    "\\end{align*}\n",
    "\n",
    "dok je rješenje polaznog problema\n",
    "\n",
    "$$\n",
    "u(x,t)=v(x,t)+g(t)+\\displaystyle\\frac{x}{l}[h(t)-g(t)].\n",
    "$$"
   ]
  }
 ],
 "metadata": {
  "anaconda-cloud": {},
  "kernelspec": {
   "display_name": "Julia 0.6.2",
   "language": "julia",
   "name": "julia-0.6"
  },
  "language_info": {
   "file_extension": ".jl",
   "mimetype": "application/julia",
   "name": "julia",
   "version": "0.6.2"
  }
 },
 "nbformat": 4,
 "nbformat_minor": 1
}
