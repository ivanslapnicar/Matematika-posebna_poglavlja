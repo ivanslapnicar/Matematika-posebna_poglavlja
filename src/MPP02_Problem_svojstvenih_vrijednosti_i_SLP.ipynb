{
 "cells": [
  {
   "cell_type": "markdown",
   "metadata": {},
   "source": [
    "# Problem svojstvenih vrijednosti i SLP\n",
    "\n",
    "---\n",
    "\n",
    "## Matrični problem svojstvenih vrijednosti\n",
    "\n",
    "Neka je $A\\in\\mathbb{R}^{n\\times n}$ kvadratna realna matrica. \n",
    "\n",
    "Tražimo __svojstvene vrijednosti__  $\\lambda\\in\\mathbb{R}$ i __svojstvene vektore__ $x\\in\\mathbb{R}^{n}\\neq 0$,\n",
    "takve da je \n",
    "\n",
    "$$Ax=\\lambda x.$$\n",
    "\n",
    "Dakle, $A$ djeluje na vektor $x$ tako da ge produži ili skrati, eventualno promijeni orijentaciju, dok smjer ostaje isti. \n",
    "\n",
    "Vrijedi \n",
    "\n",
    "$$ Ax-\\lambda I x=(A-\\lambda I)x=0.$$\n",
    "\n",
    "Ovo je homogeni sustav linearnih jednadžbi koji ima netrivijalna rješenja ($x\\neq 0$) ako i samo ako je \n",
    "matrica sustava $(A-\\lambda I)$ singularna, odnosno ako i samo ako je \n",
    "\n",
    "$$\n",
    "\\det(A-\\lambda I)=0.\n",
    "$$\n",
    "\n",
    "Ovo je polinom stupnja $n$ u varijabli $\\lambda$ s realnim koeficijentima, koji, po osnovnom teoremu algebre, ima \n",
    "$n$ nultočaka koje su ili realne ili dolaze u konjugirano kompleksnim parovima. \n",
    "\n",
    "__Teorem__. Svojstveni vektori koji odgovaraju različitim svojstvenim vrijednostima su linearno nezavisni.\n",
    "\n",
    "_Dokaz_: Zaista, neka je\n",
    "\n",
    "$$Ax=\\lambda x, \\quad Ay=\\mu y, \\quad x,y\\neq 0, \\quad \\lambda\\neq\\mu.\n",
    "$$\n",
    "\n",
    "Pretpostavimo da su $x$ i $y$ linearno zavisni, odnosno, \n",
    "\n",
    "$$\n",
    "\\alpha x+\\beta y, \\quad |\\alpha|+|\\beta|>0.\n",
    "$$\n",
    "\n",
    "Vrijedi\n",
    "\n",
    "$$\n",
    "A\\cdot (\\alpha x+\\beta y)=\\alpha\\lambda x+\\beta\\mu y=A\\cdot 0=0.\n",
    "$$\n",
    "\n",
    "Množenje prve jednakosti s $\\lambda$ daje sustav\n",
    "\n",
    "\\begin{align*}\n",
    "\\lambda\\alpha x+\\lambda\\beta y&=0 \\\\\n",
    "\\alpha\\lambda x+\\beta\\mu y&=0.\n",
    "\\end{align*}\n",
    "\n",
    "Oduzmanje prve jednadžbu od druge daje\n",
    "\n",
    "$$\n",
    "\\beta(\\mu-\\lambda)y=0\n",
    "$$\n",
    "\n",
    "pa je, zbog $\\mu-\\lambda\\neq 0$ i $y\\neq 0$, nužno $\\beta=0$. \n",
    "Uvrštavanjem u originalnu lineranu kombinaciju, zbog $x\\neq 0$ \n",
    "slijedi $\\alpha=0$ pa su $x$ i $y$ linearno nezavisni.\n",
    "\n",
    "__Teorem__.  Ako je $A$ simetrična matrica, $A=A^T$, tada su sve svojstvene vrijednosti realne i imaju ortogonalni skup svojstvenih vektora, osnosno postoji matrica $U$ takva da je \n",
    "\n",
    "$$U^TU=UU^T=I\\\\\n",
    "A=U\\Lambda U^T, \\quad AU=U\\Lambda, \\quad A=\\sum_{i=1}^n \\lambda_i u_i u_i^T.\n",
    "$$"
   ]
  },
  {
   "cell_type": "code",
   "execution_count": 43,
   "metadata": {},
   "outputs": [
    {
     "data": {
      "text/plain": [
       "6×6 Symmetric{Int64,Array{Int64,2}}:\n",
       " -7  6  -8  -4   0   6\n",
       "  6  8   5   7   7   0\n",
       " -8  5   4  -5   3   6\n",
       " -4  7  -5   3  -7  -6\n",
       "  0  7   3  -7  -1   0\n",
       "  6  0   6  -6   0   6"
      ]
     },
     "execution_count": 43,
     "metadata": {},
     "output_type": "execute_result"
    }
   ],
   "source": [
    "# Primjer\n",
    "A=Symmetric(rand(-8:8,6,6))"
   ]
  },
  {
   "cell_type": "code",
   "execution_count": 44,
   "metadata": {},
   "outputs": [
    {
     "data": {
      "text/plain": [
       "([-18.9381, -9.9433, 2.98192, 6.74406, 14.3287, 17.8267], [0.683217 -0.335871 … 0.0660323 -0.10183; -0.381708 -0.246295 … 0.846879 -0.22692; … ; 0.220898 0.634424 … 0.207461 -0.347346; -0.177531 0.391332 … -0.195969 -0.560448])"
      ]
     },
     "execution_count": 44,
     "metadata": {},
     "output_type": "execute_result"
    }
   ],
   "source": [
    "λ,U=eig(A)"
   ]
  },
  {
   "cell_type": "code",
   "execution_count": 45,
   "metadata": {},
   "outputs": [
    {
     "data": {
      "text/plain": [
       "6-element Array{Float64,1}:\n",
       " -18.9381 \n",
       "  -9.9433 \n",
       "   2.98192\n",
       "   6.74406\n",
       "  14.3287 \n",
       "  17.8267 "
      ]
     },
     "execution_count": 45,
     "metadata": {},
     "output_type": "execute_result"
    }
   ],
   "source": [
    "λ"
   ]
  },
  {
   "cell_type": "code",
   "execution_count": 46,
   "metadata": {},
   "outputs": [
    {
     "data": {
      "text/plain": [
       "6×6 Array{Float64,2}:\n",
       "  0.683217  -0.335871   0.0755598    0.632428    0.0660323  -0.10183 \n",
       " -0.381708  -0.246295  -0.00899145   0.157673    0.846879   -0.22692 \n",
       "  0.418296  -0.244523  -0.276391    -0.641983    0.0954024  -0.517302\n",
       "  0.363632   0.459459  -0.479116    -0.0586546   0.433464    0.485577\n",
       "  0.220898   0.634424   0.618219    -0.0531574   0.207461   -0.347346\n",
       " -0.177531   0.391332  -0.553236     0.395937   -0.195969   -0.560448"
      ]
     },
     "execution_count": 46,
     "metadata": {},
     "output_type": "execute_result"
    }
   ],
   "source": [
    "U"
   ]
  },
  {
   "cell_type": "code",
   "execution_count": 47,
   "metadata": {},
   "outputs": [
    {
     "data": {
      "text/plain": [
       "6×6 Array{Float64,2}:\n",
       "  1.0          -5.26043e-16  -2.6124e-16   …  -7.09367e-17  2.07645e-16\n",
       " -5.26043e-16   1.0          -1.66434e-16      4.75438e-17  3.38965e-16\n",
       " -2.6124e-16   -1.66434e-16   1.0              2.49002e-18  4.02315e-16\n",
       "  1.87856e-16   8.86391e-17   9.31361e-16     -5.68134e-16  1.33724e-16\n",
       " -7.09367e-17   4.75438e-17   2.49002e-18      1.0          6.40281e-17\n",
       "  2.07645e-16   3.38965e-16   4.02315e-16  …   6.40281e-17  1.0        "
      ]
     },
     "execution_count": 47,
     "metadata": {},
     "output_type": "execute_result"
    }
   ],
   "source": [
    "U'*U"
   ]
  },
  {
   "cell_type": "code",
   "execution_count": 48,
   "metadata": {},
   "outputs": [
    {
     "data": {
      "text/plain": [
       "6×6 Array{Float64,2}:\n",
       "  1.0          -3.8976e-16   -6.47721e-17  …  -6.42835e-17  -3.70698e-16\n",
       " -3.8976e-16    1.0           3.78523e-16      3.58119e-16  -2.11454e-16\n",
       " -6.47721e-17   3.78523e-16   1.0             -5.82141e-16   3.00969e-16\n",
       " -3.56237e-16  -2.97497e-17   1.95424e-16      7.90006e-17  -3.00248e-16\n",
       " -6.42835e-17   3.58119e-16  -5.82141e-16      1.0           1.88406e-16\n",
       " -3.70698e-16  -2.11454e-16   3.00969e-16  …   1.88406e-16   1.0        "
      ]
     },
     "execution_count": 48,
     "metadata": {},
     "output_type": "execute_result"
    }
   ],
   "source": [
    "U*U'"
   ]
  },
  {
   "cell_type": "code",
   "execution_count": 49,
   "metadata": {},
   "outputs": [
    {
     "data": {
      "text/plain": [
       "6×6 Array{Float64,2}:\n",
       " -7.0          6.0          -8.0  -4.0   1.84951e-14   6.0        \n",
       "  6.0          8.0           5.0   7.0   7.0          -8.23788e-16\n",
       " -8.0          5.0           4.0  -5.0   3.0           6.0        \n",
       " -4.0          7.0          -5.0   3.0  -7.0          -6.0        \n",
       "  1.8385e-14   7.0           3.0  -7.0  -1.0          -5.30606e-16\n",
       "  6.0         -7.95734e-16   6.0  -6.0  -5.67657e-16   6.0        "
      ]
     },
     "execution_count": 49,
     "metadata": {},
     "output_type": "execute_result"
    }
   ],
   "source": [
    " U*diagm(λ)*U'"
   ]
  },
  {
   "cell_type": "code",
   "execution_count": 50,
   "metadata": {},
   "outputs": [
    {
     "data": {
      "text/plain": [
       "6×6 Array{Float64,2}:\n",
       " -7.0           6.0          -8.0  -4.0   1.83187e-14   6.0        \n",
       "  6.0           8.0           5.0   7.0   7.0          -8.88178e-16\n",
       " -8.0           5.0           4.0  -5.0   3.0           6.0        \n",
       " -4.0           7.0          -5.0   3.0  -7.0          -6.0        \n",
       "  1.83187e-14   7.0           3.0  -7.0  -1.0          -4.44089e-16\n",
       "  6.0          -8.88178e-16   6.0  -6.0  -4.44089e-16   6.0        "
      ]
     },
     "execution_count": 50,
     "metadata": {},
     "output_type": "execute_result"
    }
   ],
   "source": [
    "sum([λ[i]*U[:,i]*U[:,i]' for i=1:size(A,1)])"
   ]
  },
  {
   "cell_type": "markdown",
   "metadata": {},
   "source": [
    "### Primjer - rješavanje algebarskih problema pomoću svojstvenih vrijednosti i vektora\n",
    "\n",
    "Riješimo problem (prema [Logan, Applied Mathematics, str. 205][Log97])\n",
    "\n",
    "$$\n",
    "Ax=\\mu x + f.\n",
    "$$\n",
    "\n",
    "Neka je $A$ simetrična, $A=U\\Lambda U^T$ i $\\mu\\neq \\lambda_i$. Stupci matrice $U$ su ortogonalni i tvore bazu $n$-dimenzionalnog prostora, odnosno svaki vektor se može prikazati kao njihova linearna kombinacija:\n",
    "\n",
    "$$\n",
    "x=\\sum_{i=1}^n c_i u_i, \\quad  f=\\sum_{i=1}^n f_i u_i.\n",
    "$$\n",
    "\n",
    "Imamo\n",
    "\n",
    "$$\n",
    "A\\cdot \\big(\\sum c_i u_i\\big)=\\mu \\big(\\sum c_i u_i\\big) + \\sum f_i u_i,\n",
    "$$\n",
    "\n",
    "odnosno,\n",
    "\n",
    "$$\n",
    "\\sum c_i \\lambda_i u_i=\\mu \\big(\\sum c_i u_i\\big) + \\sum f_i u_i.\n",
    "$$\n",
    "\n",
    "Izjednačavanje koeficijenata daje\n",
    "\n",
    "$$\n",
    "c_i\\lambda_i= \\mu c_i + f_i\n",
    "$$\n",
    "\n",
    "pa je \n",
    "\n",
    "$$\n",
    "c_i=\\frac{f_i}{\\lambda_i-\\mu}.\n",
    "$$\n",
    "\n",
    "[Log97]: http://aaa \"J. David Logan, 'Applied Mathematics', 2nd Edition, Wiley, New York, 1997\""
   ]
  },
  {
   "cell_type": "markdown",
   "metadata": {},
   "source": [
    "Riješimo problem $Ax=\\mu x+f$, gdje je $\\mu=2$,\n",
    "\n",
    "$$\n",
    "A=\\begin{bmatrix} 1&2 &3&4 \\\\ 2 &5&6&7 \\\\ 3&6&8&9 \\\\ 4&7&9&10\\end{bmatrix},\\quad\n",
    "f=\\begin{bmatrix}1 \\\\ 2\\\\ 1\\\\ 2\\\\\\end{bmatrix}.\n",
    "$$"
   ]
  },
  {
   "cell_type": "code",
   "execution_count": 51,
   "metadata": {},
   "outputs": [
    {
     "data": {
      "text/plain": [
       "4-element Array{Int64,1}:\n",
       " 1\n",
       " 2\n",
       " 1\n",
       " 2"
      ]
     },
     "execution_count": 51,
     "metadata": {},
     "output_type": "execute_result"
    }
   ],
   "source": [
    "μ=2\n",
    "A=[1 2 3 4;2 5 6 7;3 6 8 9;4 7 9 10]\n",
    "f=[1;2;1;2]"
   ]
  },
  {
   "cell_type": "code",
   "execution_count": 52,
   "metadata": {},
   "outputs": [
    {
     "data": {
      "text/plain": [
       "([-0.805485, 0.184914, 0.558036, 24.0625], [-0.725314 0.329765 -0.56047 -0.225938; -0.31847 0.315326 0.776338 -0.443222; -0.142461 -0.805111 -0.0584403 -0.572788; 0.593466 0.378974 -0.282412 -0.651475])"
      ]
     },
     "execution_count": 52,
     "metadata": {},
     "output_type": "execute_result"
    }
   ],
   "source": [
    "λ,U=eig(A)"
   ]
  },
  {
   "cell_type": "code",
   "execution_count": 53,
   "metadata": {},
   "outputs": [
    {
     "data": {
      "text/plain": [
       "4-element Array{Float64,1}:\n",
       " -0.317782\n",
       "  0.913253\n",
       "  0.368942\n",
       " -2.98812 "
      ]
     },
     "execution_count": 53,
     "metadata": {},
     "output_type": "execute_result"
    }
   ],
   "source": [
    "# Izračunajmo koeficijente od f u bazi U\n",
    "fU=[f⋅U[:,i] for i=1:4]"
   ]
  },
  {
   "cell_type": "code",
   "execution_count": 54,
   "metadata": {},
   "outputs": [
    {
     "data": {
      "text/plain": [
       "4-element Array{Float64,1}:\n",
       "  0.113272\n",
       " -0.503146\n",
       " -0.255861\n",
       " -0.135439"
      ]
     },
     "execution_count": 54,
     "metadata": {},
     "output_type": "execute_result"
    }
   ],
   "source": [
    "c=fU./(λ-μ)"
   ]
  },
  {
   "cell_type": "code",
   "execution_count": 55,
   "metadata": {},
   "outputs": [
    {
     "data": {
      "text/plain": [
       "4-element Array{Float64,1}:\n",
       " -0.0740741\n",
       " -0.333333 \n",
       "  0.481481 \n",
       "  0.037037 "
      ]
     },
     "execution_count": 55,
     "metadata": {},
     "output_type": "execute_result"
    }
   ],
   "source": [
    "x=sum([c[i]*U[:,i] for i=1:4])"
   ]
  },
  {
   "cell_type": "code",
   "execution_count": 56,
   "metadata": {},
   "outputs": [
    {
     "data": {
      "text/plain": [
       "4-element Array{Float64,1}:\n",
       " -6.66134e-16\n",
       " -4.44089e-16\n",
       " -1.44329e-15\n",
       "  0.0        "
      ]
     },
     "execution_count": 56,
     "metadata": {},
     "output_type": "execute_result"
    }
   ],
   "source": [
    "# Provjera\n",
    "A*x-μ*x-f"
   ]
  },
  {
   "cell_type": "markdown",
   "metadata": {},
   "source": [
    "## Linearni operatori\n",
    "\n",
    "__Operator__ je preslikavnje $L:X\\to X$ gdje je $X$ vektorski prostor. \n",
    "\n",
    "\n",
    "Neka su \n",
    "$x,y\\in X$ i $\\alpha, \\beta \\in \\mathbb{R}$.\n",
    "\n",
    "Operator je __linearan__ ako je __aditivan__,\n",
    "\n",
    "$$\n",
    "L(x+y)=L(x)+L(y),\n",
    "$$\n",
    "\n",
    "i __homogen__,\n",
    "\n",
    "$$\n",
    "L(\\alpha x)=\\alpha L(x).\n",
    "$$\n",
    "\n",
    "Oba svojstva zajedno možemo pisati kao \n",
    "\n",
    "$$\n",
    "L(\\alpha x+\\beta y)=\\alpha L(x) + \\beta L(y).\n",
    "$$\n",
    "\n",
    "\n",
    "### Primjer - matrica je linearni operator na skupu vektora\n",
    "\n",
    "Uz definiciju\n",
    "\n",
    "$$\n",
    "A(x)\\equiv A\\cdot x,\n",
    "$$\n",
    "\n",
    "vrijedi\n",
    "\n",
    "$$\n",
    "A(x+y)=A(x)+A(y),\\quad A(\\alpha x)=\\alpha A(x), \n",
    "$$\n",
    "\n",
    "odnosno\n",
    "\n",
    "$$\n",
    "A(\\alpha x+\\beta y)=\\alpha A(x)+\\beta A(y).\n",
    "$$"
   ]
  },
  {
   "cell_type": "markdown",
   "metadata": {},
   "source": [
    "## Skalarni produkt, norma, ortogonalnost i baza\n",
    "\n",
    "Neka su zadani vektori $x,y\\in \\mathbb{R}^n$. Definiramo sljedeće:\n",
    "\n",
    "__Skalarni produkt__: $(x,y)=x\\cdot y=\\displaystyle\\sum_{i=1}^n x_i y_i$\n",
    "\n",
    "__Norma__: $\\|x \\|=\\sqrt{(x,x)}=\\sqrt{\\displaystyle\\sum_{i=1}^n x_i x_i}=\\sqrt{\\displaystyle\\sum_{i=1}^n x_i^2}$\n",
    "\n",
    "__Ortogonalnost__: $x\\perp y \\Leftrightarrow (x,y)=0$\n",
    "\n",
    "__Baza__: Skup od $n$ vektora, $x_1,x_2,\\ldots, x_n$ je __potpun__ (baza) ako za svaki vektor $y$ vrijedi\n",
    "\n",
    "$$\n",
    "y=\\displaystyle\\sum_{i=1}^n \\xi_i x_i.\n",
    "$$\n",
    "\n",
    "Ukoliko su, dodatno, vektori $x_i$ međusobno ortogonalni, tada je \n",
    "\n",
    "$$\n",
    "\\xi_j=\\frac{(y,x_j)}{(x_j,x_j)}\\equiv \\frac{(y,x_j)}{\\|x_j\\|^2}.\n",
    "$$"
   ]
  },
  {
   "cell_type": "code",
   "execution_count": 57,
   "metadata": {},
   "outputs": [
    {
     "data": {
      "text/plain": [
       "(5.551115123125783e-17, 1.0000000000000004)"
      ]
     },
     "execution_count": 57,
     "metadata": {},
     "output_type": "execute_result"
    }
   ],
   "source": [
    "# Primjer za vektore - ortogonalnost i norma\n",
    "U[:,1]⋅U[:,3], U[:,3]⋅U[:,3]"
   ]
  },
  {
   "cell_type": "code",
   "execution_count": 58,
   "metadata": {},
   "outputs": [
    {
     "data": {
      "text/plain": [
       "4×2 Array{Float64,2}:\n",
       " 0.180746    0.180746  \n",
       " 0.301728    0.301728  \n",
       " 0.00980711  0.00980711\n",
       " 0.696575    0.696575  "
      ]
     },
     "execution_count": 58,
     "metadata": {},
     "output_type": "execute_result"
    }
   ],
   "source": [
    "# Baza\n",
    "n=size(A,1)\n",
    "x=rand(n)\n",
    "# Računamo koeficijente po bazi stupaca od U\n",
    "ξ=Array{Float64}(n)\n",
    "for i=1:n\n",
    "    ξ[i]=x⋅U[:,i]\n",
    "end\n",
    "# Provjera\n",
    "y=sum([ξ[i]*U[:,i] for i=1:n])\n",
    "[x y]"
   ]
  },
  {
   "cell_type": "markdown",
   "metadata": {},
   "source": [
    "### Primjer - vektorski prostor funkcija\n",
    "\n",
    "Neka su zadane funkcije $f,g\\in C[a,b]$, gdje je $C[a,b]$ skup svih funkcija neprekidnih na intervalu $[a,b]$. \n",
    "\n",
    "_Napomena_. Umjesto skupa $C[a,b]$ može se uzeti i neki skup, na primjer, skup svih kvadratno integrabilnih funkcija na intervalu $[a,b]$, $L^2[a,b]$.\n",
    "\n",
    "Definirajmo __skalarni produkt__: \n",
    "\n",
    "$$(f,g)=f\\cdot g=\\displaystyle \\int\\limits_{a}^b f(x) g(x) \\, dx.$$\n",
    "\n",
    "Odavde slijede sljedeće definicije:\n",
    "\n",
    "__norma__: $\\|f \\|=\\sqrt{(f,f)}=\\sqrt{\\displaystyle\\int\\limits_{a}^b f(x)\\cdot f(x)\\, dx}=\n",
    "\\sqrt{\\displaystyle\\int\\limits_{a}^b f^2(x)\\, dx}$\n",
    "\n",
    "__ortogonalnost__: $f\\perp g \\Leftrightarrow (f,g)=0$\n",
    "\n",
    "__baza__: Skup od $\\infty$ funkcija, $f_1,f_2,\\ldots$ je __potpun__ (baza) ako za svaku funkciju $g$ vrijedi\n",
    "\n",
    "$$\n",
    "g(x)=\\displaystyle\\sum_{i=1}^\\infty \\xi_i f_i(x).\n",
    "$$\n",
    "\n",
    "Ukoliko su, dodatno, funkcije $f_i$ međusobno ortogonalne, tada je \n",
    "\n",
    "$$\n",
    "\\xi_j=\\frac{(y,f_j)}{(f_j,f_j)}\\equiv \\frac{(y,f_j)}{\\|f_j\\|^2}.\n",
    "$$"
   ]
  },
  {
   "cell_type": "markdown",
   "metadata": {},
   "source": [
    "### Numeričko računanje\n",
    "\n",
    "Julia ima više paketa pomoću kojih možemo računati određene integrale. \n",
    "\n",
    "Najjednostavnija je funkcija `quadgk()` iz paketa \n",
    "[QuadGK.jl](https://github.com/JuliaMath/QuadGK.jl)iz th/QuadGK.jl).\n",
    "\n",
    "Mi ćemo za definiranje skalarnog produkta koristiti funkciju\n",
    "`integrate()` is paketa `SymPy.jl`."
   ]
  },
  {
   "cell_type": "code",
   "execution_count": 59,
   "metadata": {
    "collapsed": true
   },
   "outputs": [],
   "source": [
    "# Učitavanje paketa\n",
    "using SymPy"
   ]
  },
  {
   "cell_type": "code",
   "execution_count": 60,
   "metadata": {},
   "outputs": [
    {
     "name": "stdout",
     "output_type": "stream",
     "text": [
      "search: \u001b[1mi\u001b[22m\u001b[1mn\u001b[22m\u001b[1mt\u001b[22m\u001b[1me\u001b[22m\u001b[1mg\u001b[22m\u001b[1mr\u001b[22m\u001b[1ma\u001b[22m\u001b[1mt\u001b[22m\u001b[1me\u001b[22m delta\u001b[1mi\u001b[22m\u001b[1mn\u001b[22m\u001b[1mt\u001b[22m\u001b[1me\u001b[22m\u001b[1mg\u001b[22m\u001b[1mr\u001b[22m\u001b[1ma\u001b[22m\u001b[1mt\u001b[22m\u001b[1me\u001b[22m tr\u001b[1mi\u001b[22mgi\u001b[1mn\u001b[22m\u001b[1mt\u001b[22m\u001b[1me\u001b[22m\u001b[1mg\u001b[22m\u001b[1mr\u001b[22m\u001b[1ma\u001b[22m\u001b[1mt\u001b[22m\u001b[1me\u001b[22m l\u001b[1mi\u001b[22m\u001b[1mn\u001b[22me_in\u001b[1mt\u001b[22m\u001b[1me\u001b[22m\u001b[1mg\u001b[22m\u001b[1mr\u001b[22m\u001b[1ma\u001b[22m\u001b[1mt\u001b[22m\u001b[1me\u001b[22m \u001b[1mI\u001b[22m\u001b[1mn\u001b[22m\u001b[1mt\u001b[22m\u001b[1me\u001b[22m\u001b[1mg\u001b[22m\u001b[1mr\u001b[22m\u001b[1ma\u001b[22ml\n",
      "\n"
     ]
    },
    {
     "data": {
      "text/markdown": [
       "The `integrate` function has its limits specified with tuples of the type `(var, a, b)`. This profides a simpler interface for one-dimensional integrals: `integrate(ex, var, a, b)`\n",
       "\n",
       "Symbolically integrate a function\n",
       "\n",
       "Symbolically integrate a function over `[a,b]`\n",
       "\n",
       "`integrate`: a SymPy function. The SymPy documentation can be found through: http://docs.sympy.org/latest/search.html?q=integrate\n",
       "\n",
       "Specific docs may also be found at [SymPy Docs for matrices](http://docs.sympy.org/latest/modules/matrices/matrices.html#module-sympy.matrices.matrices)\n",
       "\n",
       "`integrate`: a SymPy function. The SymPy documentation can be found through: http://docs.sympy.org/latest/search.html?q=integrate\n"
      ],
      "text/plain": [
       "The `integrate` function has its limits specified with tuples of the type `(var, a, b)`. This profides a simpler interface for one-dimensional integrals: `integrate(ex, var, a, b)`\n",
       "\n",
       "Symbolically integrate a function\n",
       "\n",
       "Symbolically integrate a function over `[a,b]`\n",
       "\n",
       "`integrate`: a SymPy function. The SymPy documentation can be found through: http://docs.sympy.org/latest/search.html?q=integrate\n",
       "\n",
       "Specific docs may also be found at [SymPy Docs for matrices](http://docs.sympy.org/latest/modules/matrices/matrices.html#module-sympy.matrices.matrices)\n",
       "\n",
       "`integrate`: a SymPy function. The SymPy documentation can be found through: http://docs.sympy.org/latest/search.html?q=integrate\n"
      ]
     },
     "execution_count": 60,
     "metadata": {},
     "output_type": "execute_result"
    }
   ],
   "source": [
    "?integrate"
   ]
  },
  {
   "cell_type": "code",
   "execution_count": 61,
   "metadata": {},
   "outputs": [
    {
     "data": {
      "text/plain": [
       "dot (generic function with 12 methods)"
      ]
     },
     "execution_count": 61,
     "metadata": {},
     "output_type": "execute_result"
    }
   ],
   "source": [
    "# Definirajmo skalarni produkt\n",
    "import Base.⋅\n",
    "⋅(f,g,a,b)=integrate(f*g,(x,a,b))"
   ]
  },
  {
   "cell_type": "markdown",
   "metadata": {},
   "source": [
    "### Primjer - Fourierov red\n",
    "\n",
    "Promotrimo periodične funkcije s periodom $2\\pi$ na intervalu $[-\\pi,\\pi]$.\n",
    "\n",
    "Funkcije\n",
    "\n",
    "$$\n",
    "1, \\sin x, \\cos x, \\sin(2x), \\cos(2x), \\sin(3x),\\cos(3x), \\ldots\n",
    "$$\n",
    "\n",
    "su međusobno ortogonalne, Vrijedi $\\|1\\|=\\sqrt{2\\pi}$, a norma svih ostalih funkcija je $\\sqrt{\\pi}$. Skup je potpun, odnosno svaka periodična funkcija $f$ se može prikazati kao \n",
    "\n",
    "$$\n",
    "f(x)=\\sum_{i=0}^\\infty \\xi_i f_i(x), \\quad \\xi_i=\\frac{(f,f_i)}{(f_i,f_i)},\n",
    "$$\n",
    "\n",
    "u smislu teorema o konvergenciji Fourierovog reda. \n",
    "Ovo su standardne formule za razvoj funkcije u Fourierov red."
   ]
  },
  {
   "cell_type": "code",
   "execution_count": 62,
   "metadata": {},
   "outputs": [
    {
     "data": {
      "text/latex": [
       "$$x$$"
      ],
      "text/plain": [
       "x"
      ]
     },
     "execution_count": 62,
     "metadata": {},
     "output_type": "execute_result"
    }
   ],
   "source": [
    "# Definirajmo simboličku varijablu x\n",
    "x=Sym(\"x\")"
   ]
  },
  {
   "cell_type": "code",
   "execution_count": 63,
   "metadata": {},
   "outputs": [
    {
     "data": {
      "text/plain": [
       "(3.14159265358979, 0)"
      ]
     },
     "execution_count": 63,
     "metadata": {},
     "output_type": "execute_result"
    }
   ],
   "source": [
    "⋅(sin(x),sin(x),-π,π), ⋅(sin(2*x),cos(3*x),-π,π)"
   ]
  },
  {
   "cell_type": "code",
   "execution_count": 64,
   "metadata": {},
   "outputs": [
    {
     "data": {
      "text/plain": [
       "(m, n)"
      ]
     },
     "execution_count": 64,
     "metadata": {},
     "output_type": "execute_result"
    }
   ],
   "source": [
    "m,n = symbols(\"m,n\", integer=true, positive=true)"
   ]
  },
  {
   "cell_type": "code",
   "execution_count": 65,
   "metadata": {},
   "outputs": [
    {
     "data": {
      "text/latex": [
       "$$\\begin{cases} \\pi & \\text{for}\\: m = n \\\\0 & \\text{otherwise} \\end{cases}$$"
      ],
      "text/plain": [
       "/pi  for m = n\n",
       "<             \n",
       "\\0   otherwise"
      ]
     },
     "execution_count": 65,
     "metadata": {},
     "output_type": "execute_result"
    }
   ],
   "source": [
    "⋅(sin(m*x),sin(n*x),-PI,PI)"
   ]
  },
  {
   "cell_type": "markdown",
   "metadata": {},
   "source": [
    "Razvijmo funkciju definiranu formulom $f(x)=x^2$ na intervalu $[-1,1]$ u Fourier-ov red."
   ]
  },
  {
   "cell_type": "code",
   "execution_count": 66,
   "metadata": {},
   "outputs": [
    {
     "data": {
      "text/latex": [
       "$$x^{2}$$"
      ],
      "text/plain": [
       " 2\n",
       "x "
      ]
     },
     "execution_count": 66,
     "metadata": {},
     "output_type": "execute_result"
    }
   ],
   "source": [
    "f=x^2"
   ]
  },
  {
   "cell_type": "code",
   "execution_count": 67,
   "metadata": {},
   "outputs": [
    {
     "data": {
      "text/latex": [
       "$$1$$"
      ],
      "text/plain": [
       "1"
      ]
     },
     "execution_count": 67,
     "metadata": {},
     "output_type": "execute_result"
    }
   ],
   "source": [
    "f0=x/x"
   ]
  },
  {
   "cell_type": "code",
   "execution_count": 68,
   "metadata": {},
   "outputs": [
    {
     "data": {
      "text/latex": [
       "$$2$$"
      ],
      "text/plain": [
       "2"
      ]
     },
     "execution_count": 68,
     "metadata": {},
     "output_type": "execute_result"
    }
   ],
   "source": [
    "⋅(f0,f0,-1,1)"
   ]
  },
  {
   "cell_type": "code",
   "execution_count": 69,
   "metadata": {},
   "outputs": [
    {
     "data": {
      "text/latex": [
       "$$\\frac{1}{3}$$"
      ],
      "text/plain": [
       "1/3"
      ]
     },
     "execution_count": 69,
     "metadata": {},
     "output_type": "execute_result"
    }
   ],
   "source": [
    "a0=⋅(f,f0,-1,1)/⋅(f0,f0,-1,1)"
   ]
  },
  {
   "cell_type": "code",
   "execution_count": 71,
   "metadata": {},
   "outputs": [
    {
     "data": {
      "text/latex": [
       "$$\\frac{4 \\left(-1\\right)^{n}}{\\pi^{2} n^{2}}$$"
      ],
      "text/plain": [
       "      n\n",
       "4*(-1) \n",
       "-------\n",
       "   2  2\n",
       " pi *n "
      ]
     },
     "execution_count": 71,
     "metadata": {},
     "output_type": "execute_result"
    }
   ],
   "source": [
    "# Funkcija je parna pa imamo samo članove uz kosinuse\n",
    "an=⋅(f,cos(n*PI*x),-1,1)/⋅(cos(n*PI*x),cos(n*PI*x),-1,1)"
   ]
  },
  {
   "cell_type": "markdown",
   "metadata": {},
   "source": [
    "## Diferencijalni problem svojstvenih vrijednosti\n",
    "\n",
    "Skup $C^2[a,b]$ je skup svih funkcija koje na intervalu $[a,b]$ imaju dvije neprekidne derivacije. \n",
    "\n",
    "Operator druge derivacije $A\\equiv\\displaystyle\\frac{d^2}{dx^2}$ je linearan operator. \n",
    "\n",
    "### Primjer\n",
    "\n",
    "Riješimo problem svojstvenih vrijednosti\n",
    "\n",
    "$$\n",
    "\\frac{d^2}{dx^2} \\Phi=\\lambda \\Phi, \\quad 0<x<l,\\quad \\Phi(0)=\\Phi(l)=0.\n",
    "$$\n",
    "\n",
    "Razlikujemo slučajeve $\\lambda=0$, $\\lambda<0$ i $\\lambda>0$.\n",
    "\n",
    "__Slučaj__ $\\lambda=0$. \n",
    "\n",
    "Vrijedi $\\Phi(x)=a x+b$. Iz rubnog uvjeta $\\Phi(0)=0$ slijedi $b=0$ pa je $\\Phi(x)=ax$. Iz rubnog uvjeta $\\Phi(l)=0$ slijedi $al=0$ pa je i $a=0$. Dakle, $\\Phi(x)=0$, što ne može biti svojstvena funkcija, pa $\\lambda=0$ nije svojstvena vrijednost.\n",
    "\n",
    "__Slučaj__ $\\lambda>0$. \n",
    "\n",
    "Vrijedi (vidi [Linearne diferencijalne jednadžbe drugog reda s konstantnim koeficijentima][Mat2])\n",
    "\n",
    "$$\n",
    "\\Phi(x)=a e^{\\displaystyle\\sqrt{\\lambda}x}+ b e^{-\\displaystyle\\sqrt{\\lambda}x}.\n",
    "$$\n",
    "\n",
    "Iz rubnog uvjeta $\\Phi(0)=0$ slijedi $a+b=0$ pa je $b=-a$. \n",
    "\n",
    "Iz rubnog uvjeta $\\Phi(l)=0$ slijedi \n",
    "\n",
    "$$\n",
    "a\\big(e^{\\displaystyle\\sqrt{\\lambda}l}-e^{-\\displaystyle\\sqrt{\\lambda}l}\\big)=0\n",
    "$$\n",
    "\n",
    "pa je $a=0$. Dakle, $\\Phi(x)=0$, što ne može biti svojstvena funkcija, pa niti jedna $\\lambda>0$ nije svojstvena vrijednost.\n",
    "\n",
    "__Slučaj__ $\\lambda<0$.\n",
    "\n",
    "Vrijedi\n",
    "\n",
    "$$\n",
    "\\Phi(x)=a \\sin (\\sqrt{-\\lambda}x)+b \\cos (\\sqrt{-\\lambda}x).\n",
    "$$\n",
    "\n",
    "Iz rubnog uvjeta $\\Phi(0)=0$ slijedi $b=0$ pa je $\\Phi(x)=a\\sin(\\sqrt{-\\lambda}x)$. \n",
    "\n",
    "Iz rubnog uvjeta $\\Phi(l)=0$ slijedi \n",
    "\n",
    "$$\n",
    "a \\sin(\\sqrt{-\\lambda}l)=0\n",
    "$$\n",
    "\n",
    "pa je ili $a=0$, što opet ne daje svojstvenu funkciju, ili \n",
    "\n",
    "$$\n",
    "\\sqrt{-\\lambda}l=n\\pi, \\quad n\\in\\mathbb{N}.\n",
    "$$\n",
    "\n",
    "Dakle, svojstvene vrijednosti su \n",
    "\n",
    "$$\n",
    "\\lambda_n=-\\frac{n^2\\pi^2}{l^2}, \\quad n\\in\\mathbb{N},\n",
    "$$\n",
    "\n",
    "a pripadne svojstvene funkcije su\n",
    "\n",
    "$$\n",
    "\\Phi_n(x)=\\sin \\big(\\frac{n\\pi}{l}x\\big).\n",
    "$$\n",
    "\n",
    "\n",
    "Funkcije $\\Phi_n(x)$ su međusobno ortogonalne i čine bazu promatranog prostora.\n",
    "\n",
    "\n",
    "[Mat2]: http://lavica.fesb.unist.hr/mat2/predavanja/node96.html \"I. Slapničar, 'Matematika 2', FESB, Split, 2002.\"\n"
   ]
  },
  {
   "cell_type": "markdown",
   "metadata": {},
   "source": [
    "## Regularni Sturm-Liouvilleov problem (SLP)\n",
    "\n",
    "Problem glasi:\n",
    "\n",
    "\\begin{align*}\n",
    "&A(\\Phi) \\equiv -(p(x)\\,\\Phi')'+q(x)\\,\\Phi = \\lambda\\, \\Phi, \\quad a\\leq x\\leq b,\\\\\n",
    "&\\alpha_1\\Phi(a)+\\alpha_2\\Phi'(a)=0,\\\\\n",
    "&\\beta_1 \\Phi(b)+\\beta_2\\Phi'(b)=0,\n",
    "\\end{align*}\n",
    "\n",
    "gdje je \n",
    "\n",
    "$$\\Phi\\in C^2[a,b],\\quad p\\in C^1[a,b],\\quad q\\in C^0[a,b],\\quad \n",
    "\\alpha_i,\\beta_i\\in\\mathbb{R}.\n",
    "$$\n",
    "\n",
    "Operator $A$ je linearan (provjerite!).\n",
    "\n",
    "__Teorem__. Za regularni SLP vrijedi:\n",
    "\n",
    "1. Postoji beskonačno mnogo svojstvenih vrijednosti $\\lambda_n$, $n=1,2,3,\\ldots$, koje su sve realne\n",
    "i vrijedi \n",
    "$$\\lim\\limits_{n\\to\\infty} |\\lambda_n|=\\infty.$$\n",
    "2. Svojstvene funkcije koje odgovaraju različitim svojstvenim vrijednostima su ortogonalne. \n",
    "\n",
    "3. Skup svih svojstvenih funkcija $\\Phi_1,\\Phi_2,\\Phi_3,\\ldots$ je potpun u smislu da se svaka funkcija \n",
    "$f\\in L^2[a,b]$ može razviti u red\n",
    "$$\n",
    "f(x)=\\sum_{n=1}^\\infty \\xi_n \\Phi_n(x), \\quad \\xi_n=\\frac{(f,\\Phi_n)}{(\\Phi_n,\\Phi_n)}\n",
    "$$\n",
    "koji konvergira u $L^2[a,b]$. \n",
    "\n",
    "Konvergencija u $L^2[a,b]$ znači\n",
    "\n",
    "$$\n",
    "\\big\\|f-\\sum_{n=1}^N \\xi_n\\Phi_n\\big\\|\\equiv \\int\\limits_a^b \n",
    "\\big(f-\\sum_{n=1}^N \\xi_n\\Phi_n\\big)^2 dx \\to 0 \\quad \\textrm{kada} \\quad  N\\to\\infty.\n",
    "$$\n",
    "\n",
    "Na primjer, teorem vrijedi za regularni SLP iz prethodnog primjera, gdje je \n",
    "\n",
    "$$p(x)=-1,\\quad q(x)=0,\\quad a=0,\\quad b=l, \\\\  \n",
    "\\alpha_1=1,\\quad \\alpha_2=0,\\quad \\beta_1=1,\\quad \\beta_2=0.\n",
    "$$\n",
    "\n",
    "_Dokaz 2. tvrdnje_ (prema [Logan, Applied Mathematics, str. 209][Log97])\n",
    "\n",
    "[Log97]: http://aaa \"J. David Logan, 'Applied Mathematics', 2nd Edition, Wiley, New York, 1997\"\n",
    "\n",
    "Neka su $\\lambda$ i $\\mu$ dvije različite svojstvene vrijednosti sa svojstvenim funkcijama \n",
    "$\\phi$ i $\\psi$, redom. Tada vrijedi\n",
    "\n",
    "\\begin{align*}\n",
    "-(p\\phi')'+q\\phi&=\\lambda\\phi, \\\\\n",
    "-(p\\psi')'+q\\psi&=\\mu\\psi.\n",
    "\\end{align*}\n",
    "\n",
    "Pomnožimo prvu jednadžbu sa $\\psi$ i drugu sa $\\phi$ te ih oduzmimo:\n",
    "\n",
    "$$\n",
    "\\phi(p\\psi')'-\\psi(p\\phi')'=(\\lambda-\\mu)\\phi\\psi.\n",
    "$$\n",
    "\n",
    "Integriranje od $a$ do $b$ daje\n",
    "\n",
    "$$\n",
    "\\int\\limits_a^b (\\phi(p\\psi')'-\\psi(p\\phi')')\\, dx=(\\lambda-\\mu) (\\phi,\\psi).\n",
    "$$\n",
    "\n",
    "Parcijalna integracija daje\n",
    "\n",
    "$$\n",
    "\\int\\limits_a^b \\phi(p\\psi')'\\, dx = \\left\\{ {u=\\phi, \\quad du=\\phi'\\, dx  \\atop dv=(p\\psi')'\\, \n",
    "dx, \\quad v=p\\psi' } \\right\\}\n",
    "=\\phi(p\\psi')\\big|_a^b -\\int\\limits_a^b p\\psi'\\phi' \\, dx,\n",
    "$$\n",
    "\n",
    "i, slično,\n",
    "\n",
    "$$\n",
    "\\int\\limits_a^b \\psi(p\\phi')'\\, dx = \\psi(p\\phi')\\big|_a^b -\\int\\limits_a^b p\\psi'\\phi' \\, dx.\n",
    "$$\n",
    "\n",
    "Dakle, \n",
    "\n",
    "$$\n",
    "p(\\phi\\psi'-\\psi\\phi')\\big|_a^b=(\\lambda-\\mu)(\\phi,\\psi).\n",
    "$$\n",
    "\n",
    "Iz rubnih uvjeta slijedi da je lijeva strana jednaka nuli: na primjer, \n",
    "ako su sva dijeljenja definirana, onda je \n",
    "\n",
    "$$\n",
    "\\frac{\\phi(a)}{\\phi'(a)}=-\\frac{\\alpha_2}{\\alpha_1}=\\frac{\\psi(a)}{\\psi'(a)}\n",
    "$$\n",
    "\n",
    "pa je $\\phi(a)\\psi'(a)-\\phi'(a)\\psi(a)=0$. Slično se analiziraju i ostali slučajevi.\n",
    "\n",
    "Dakle, \n",
    "\n",
    "$$0=(\\lambda-\\mu)(\\phi,\\psi).$$\n",
    "\n",
    "Ako je $\\lambda\\neq \\mu$, onda je $(\\phi,\\psi)=0$, odnosno,\n",
    "$\\phi\\perp\\psi$. \n",
    "\n",
    "Primjere rješavanja regularnog SLP ćemo dati kasnije."
   ]
  },
  {
   "cell_type": "code",
   "execution_count": null,
   "metadata": {
    "collapsed": true
   },
   "outputs": [],
   "source": []
  }
 ],
 "metadata": {
  "anaconda-cloud": {},
  "kernelspec": {
   "display_name": "Julia 0.6.0",
   "language": "julia",
   "name": "julia-0.6"
  },
  "language_info": {
   "file_extension": ".jl",
   "mimetype": "application/julia",
   "name": "julia",
   "version": "0.6.0"
  }
 },
 "nbformat": 4,
 "nbformat_minor": 1
}
